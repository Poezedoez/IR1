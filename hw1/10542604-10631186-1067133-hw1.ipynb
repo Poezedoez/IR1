{
 "cells": [
  {
   "cell_type": "markdown",
   "metadata": {},
   "source": [
    "### Theoretical part\n",
    "1. hoe werkt markdown en doe ik linebreaks\n",
    "2."
   ]
  },
  {
   "cell_type": "markdown",
   "metadata": {},
   "source": [
    "### Experimental part"
   ]
  },
  {
   "cell_type": "markdown",
   "metadata": {},
   "source": [
    "##### Step 1"
   ]
  },
  {
   "cell_type": "code",
   "execution_count": 126,
   "metadata": {
    "collapsed": true
   },
   "outputs": [],
   "source": [
    "import math, random\n",
    "import numpy as np"
   ]
  },
  {
   "cell_type": "code",
   "execution_count": 3,
   "metadata": {},
   "outputs": [
    {
     "data": {
      "text/plain": [
       "(['HR', 'R', 'R', 'R', 'HR'], ['HR', 'R', 'R', 'HR', 'HR'])"
      ]
     },
     "execution_count": 3,
     "metadata": {},
     "output_type": "execute_result"
    }
   ],
   "source": [
    "def random_sample(length):\n",
    "    '''\n",
    "    Returns a sample pair that\n",
    "    consists of a production and \n",
    "    an experiment list, with as possible\n",
    "    values {N, R, HR}.\n",
    "    '''\n",
    "    p_i = [random.randint(0,2) for i in range(length)]\n",
    "    e_i = [random.randint(0,2) for i in range(length)]\n",
    "    values = ['N', 'R', 'HR']\n",
    "    \n",
    "    p = [values[i] for i in p_i]\n",
    "    e = [values[i] for i in e_i]\n",
    "    \n",
    "    return p, e\n",
    "\n",
    "random_sample(5)"
   ]
  },
  {
   "cell_type": "code",
   "execution_count": 177,
   "metadata": {},
   "outputs": [
    {
     "name": "stdout",
     "output_type": "stream",
     "text": [
      "A: [4 5 6 7 9 3 0 1 8 2]\n",
      "B: [3 7 1 5 2 8 4 6 9 0]\n",
      "I: [4 3 5 7 6 1 9 2 8 0]\n",
      "S: [0 0 1 1 1 0 1 0 0 1]\n",
      "No items will contribute to the score after index 6\n",
      "A_reduced: [4 5 6 7 9 3 0]\n",
      "B_reduced: [3 7 1 5 2 8 4]\n",
      "I: [4 3 5 7 6 1 9 2 8 0]\n",
      "S: [0 0 0 0 0 1 1 1 1 0]\n",
      "No items will contribute to the score after index 5\n",
      "A_reduced: [4 5 6 7 9 3]\n",
      "B_reduced: [3 7 1 5 2 8]\n",
      "I: [4 3 5 7 6 1 9 2 8 0]\n",
      "Score of A: 7\n",
      "Score of B: 6\n"
     ]
    }
   ],
   "source": [
    "def balanced_interleaving(A, B):\n",
    "    I = []\n",
    "    k_a = 0\n",
    "    k_b = 0\n",
    "    first = random.randint(0, 1) # 0 or 1\n",
    "    \n",
    "    while((k_a < len(A)) and (k_b < len(B))): # while A or B still have unseen items\n",
    "        if k_a < k_b or k_a == k_b and first:\n",
    "            if A[k_a] not in I:\n",
    "                I.append(A[k_a])\n",
    "            k_a += 1 # always increase index if trying to add\n",
    "        else:\n",
    "            if B[k_b] not in I:\n",
    "                I.append(B[k_b])\n",
    "            k_b += 1 # always increase index if trying to add\n",
    "            \n",
    "    return np.array(I)\n",
    "        \n",
    "def determine_winner(A, B, I, sessions):\n",
    "    score_A = 0\n",
    "    score_B = 0\n",
    "    for session in sessions:\n",
    "        print(\"S:\", session)\n",
    "        clicks = np.argwhere(session == 1)\n",
    "        if clicks.any():\n",
    "            last_item = I[clicks[-1][0]]\n",
    "            playfield = priority_index(last_item, A, B) \n",
    "            print(\"No items will contribute to the score after index\", playfield)\n",
    "        else:\n",
    "            playfield = -1 # no clicks mean A and B are reduced to empty lists\n",
    "        A_reduced = A[:playfield+1]\n",
    "        B_reduced = B[:playfield+1]\n",
    "        print(\"A_reduced:\", A_reduced)\n",
    "        print(\"B_reduced:\", B_reduced)\n",
    "        print(\"I:\", I)\n",
    "\n",
    "        for index, clicked in enumerate(session):\n",
    "            if clicked:\n",
    "                if index in A_reduced:\n",
    "                    score_A += 1\n",
    "                if index in B_reduced:\n",
    "                    score_B += 1\n",
    "            \n",
    "    return score_A, score_B\n",
    "\n",
    "# Determine the line above which the items \n",
    "# of each set count towards the to be calculated score    \n",
    "def priority_index(item, A, B):\n",
    "    for index, _ in enumerate(A):\n",
    "        if item == A[index] or item == B[index]:\n",
    "            return index\n",
    "\n",
    "\n",
    "A = np.array(random.sample(range(10), 10))\n",
    "B = np.array(random.sample(range(10), 10))\n",
    "I = balanced_interleaving(A, B)\n",
    "sessions = np.random.randint(2, size=(2, 10))\n",
    "print(\"A:\", A)\n",
    "print(\"B:\", B)\n",
    "print(\"I:\", I)\n",
    "score_A, score_B = determine_winner(A, B, I, sessions)\n",
    "print(\"Score of A:\", score_A)\n",
    "print(\"Score of B:\", score_B)"
   ]
  },
  {
   "cell_type": "code",
   "execution_count": null,
   "metadata": {
    "collapsed": true
   },
   "outputs": [],
   "source": []
  }
 ],
 "metadata": {
  "kernelspec": {
   "display_name": "Python 3",
   "language": "python",
   "name": "python3"
  },
  "language_info": {
   "codemirror_mode": {
    "name": "ipython",
    "version": 3
   },
   "file_extension": ".py",
   "mimetype": "text/x-python",
   "name": "python",
   "nbconvert_exporter": "python",
   "pygments_lexer": "ipython3",
   "version": "3.6.3"
  }
 },
 "nbformat": 4,
 "nbformat_minor": 2
}
