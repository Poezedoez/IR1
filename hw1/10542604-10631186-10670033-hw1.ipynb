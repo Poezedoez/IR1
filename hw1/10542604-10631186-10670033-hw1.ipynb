{
 "cells": [
  {
   "cell_type": "markdown",
   "metadata": {},
   "source": [
    "### Names\n",
    "Ragger Jonkers (10542604)<br>\n",
    "Joeri Sleegers (10631186)<br>\n",
    "Eelco van der Wel (10670033)\n",
    "\n",
    "### Theoretical part\n",
    "\n",
    "1)a P(mth experiment gives significant result | m experiments lacking power to reject H0) = $$\\alpha (1-\\alpha)^{m-1}$$ <br>\n",
    "1)b P(at least one significant result | m experiments lacking power to reject H0) = $$\\displaystyle \\sum_{i=1}^m \\alpha (1-\\alpha)^{i-1}$$\n",
    "\n",
    "2)\n",
    "\n",
    "| A  | *B*  |\n",
    "|----|--------|\n",
    "| d1 | *d3* |\n",
    "| d2 | *d1* |\n",
    "| d3 | *d2* |\n",
    "\n",
    "| I|\n",
    "|--------|\n",
    "| d1 |\n",
    "| *d3*     |\n",
    "|*d2*|\n",
    "\n",
    "| I|\n",
    "|--------|\n",
    "| d1 |\n",
    "| *d3*     |\n",
    "|d2|\n",
    "\n",
    "| I|\n",
    "|--------|\n",
    "| *d3* |\n",
    "| d1     |\n",
    "|d2|\n",
    "\n",
    "| I|\n",
    "|--------|\n",
    "| *d3* |\n",
    "| d1     |\n",
    "|*d2*|\n",
    "\n",
    "Above you can see a document ranking of system A and B(bold). There are four possible team-draft interleavings. Consider the user only clicks on the 3rd rank, so that only document 2 can be considered relevant. As we can see, A and B both win 50% of the time, while system A has document 2 ranked higher. This proposes unfairness to system A. A should outperform B"
   ]
  },
  {
   "cell_type": "markdown",
   "metadata": {},
   "source": [
    "### Experimental part"
   ]
  },
  {
   "cell_type": "markdown",
   "metadata": {},
   "source": [
    "### Step 1\n",
    "Simulate Rankings of Relevance for E and P"
   ]
  },
  {
   "cell_type": "code",
   "execution_count": 273,
   "metadata": {},
   "outputs": [],
   "source": [
    "import math\n",
    "import random\n",
    "import itertools\n",
    "import numpy as np\n",
    "import matplotlib.pyplot as plt\n",
    "import scipy.stats as stats"
   ]
  },
  {
   "cell_type": "code",
   "execution_count": 274,
   "metadata": {},
   "outputs": [
    {
     "name": "stdout",
     "output_type": "stream",
     "text": [
      "Total number of pairs: 59049\n",
      "first 10 pairs:\n",
      "(('N', 'N', 'N', 'N', 'N'), ('N', 'N', 'N', 'N', 'N'))\n",
      "(('N', 'N', 'N', 'N', 'N'), ('N', 'N', 'N', 'N', 'R'))\n",
      "(('N', 'N', 'N', 'N', 'N'), ('N', 'N', 'N', 'N', 'HR'))\n",
      "(('N', 'N', 'N', 'N', 'N'), ('N', 'N', 'N', 'R', 'N'))\n",
      "(('N', 'N', 'N', 'N', 'N'), ('N', 'N', 'N', 'R', 'R'))\n",
      "(('N', 'N', 'N', 'N', 'N'), ('N', 'N', 'N', 'R', 'HR'))\n",
      "(('N', 'N', 'N', 'N', 'N'), ('N', 'N', 'N', 'HR', 'N'))\n",
      "(('N', 'N', 'N', 'N', 'N'), ('N', 'N', 'N', 'HR', 'R'))\n",
      "(('N', 'N', 'N', 'N', 'N'), ('N', 'N', 'N', 'HR', 'HR'))\n",
      "(('N', 'N', 'N', 'N', 'N'), ('N', 'N', 'R', 'N', 'N'))\n"
     ]
    }
   ],
   "source": [
    "def pair_generator():\n",
    "    \"\"\"\n",
    "    A generator that returns pairs of all possible combinations \n",
    "    of [N, R, HR] of length 5.\"\"\"\n",
    "    for p in itertools.product(itertools.product(['N', 'R', 'HR'], repeat=5), repeat=2):\n",
    "        yield p\n",
    "\n",
    "def random_sample(length):\n",
    "    '''\n",
    "    Returns a sample pair that\n",
    "    consists of a production and \n",
    "    an experiment list, with as possible\n",
    "    values {N, R, HR}.\n",
    "    '''\n",
    "    values = ['N', 'R', 'HR']\n",
    "    \n",
    "    p = [values[random.randint(0, 2)] for _ in range(length)]\n",
    "    e = [values[random.randint(0, 2)] for _ in range(length)]\n",
    "    \n",
    "    return p, e\n",
    "\n",
    "print('Total number of pairs:', len(list(pair_generator())))\n",
    "print('first 10 pairs:')\n",
    "pair_gen = pair_generator()\n",
    "for _ in range(10):\n",
    "    print(next(pair_gen))"
   ]
  },
  {
   "cell_type": "markdown",
   "metadata": {},
   "source": [
    "### Step 2\n",
    "Implement Evaluation Measures. <br>\n",
    "Used measures: binary precision, ndcg, err"
   ]
  },
  {
   "cell_type": "code",
   "execution_count": 275,
   "metadata": {
    "collapsed": true
   },
   "outputs": [],
   "source": [
    "def binary_precision(documents, **kwargs):\n",
    "    \"\"\"\n",
    "    Returns the binary precision for a list of documents, which is the amount\n",
    "    of documents which where some form of relevant or !not relevant.\n",
    "    \n",
    "    Arguments:\n",
    "    documents -- list of document relevances\n",
    "    \"\"\"\n",
    "    return np.array([0 if d == 'N' else 1 for d in documents]).sum() / len(documents)\n",
    "\n",
    "def normalized_discounted_cumulative_gain(documents, **kwargs):\n",
    "    \"\"\"\n",
    "    Returns ndcg score of a list of documents, as decribed in http://doi.acm.org/10.1145/1645953.1646033.\n",
    "    \n",
    "    Arguments:\n",
    "    documents     -- list of document relevances\n",
    "    relevance_map -- dictionary that maps relevance to score\n",
    "    \"\"\"\n",
    "    dcg = np.array([\n",
    "        (2 ** kwargs['relevance_map'][relevance] - 1) / np.log2(rank + 1)\n",
    "        for rank, relevance in enumerate(documents, start=1) \n",
    "    ])\n",
    "    return (dcg / (max(kwargs['relevance_map'].values()) * len(documents))).sum() if dcg.max() != 0 else 0\n",
    "\n",
    "def expected_reciprocal_rank(documents, **kwargs):\n",
    "    \"\"\" \n",
    "    Returns expected reciprocal rank score for list of documents, as decribed in \n",
    "    http://doi.acm.org/10.1145/1645953.1646033.\n",
    "    \n",
    "    Arguments:\n",
    "    documents     -- list of document relevances\n",
    "    relevance_map -- dictionary that maps relevance to score\n",
    "    \"\"\"\n",
    "    P = 1\n",
    "    E = 0\n",
    "    for rank, relevance in enumerate(documents, start=1):\n",
    "        R = (2 ** kwargs['relevance_map'][relevance] - 1) / (2 ** max(kwargs['relevance_map'].values()))\n",
    "        E += P * R / rank\n",
    "        P *= (1-R)\n",
    "    return E"
   ]
  },
  {
   "cell_type": "code",
   "execution_count": 276,
   "metadata": {},
   "outputs": [
    {
     "name": "stdout",
     "output_type": "stream",
     "text": [
      "Precision of production algorithm:\t 0.8\n",
      "Precision of experimental algorithm:\t 0.6\n",
      "EER of production algorithm:\t\t 0.4703125\n",
      "EER of experimental algorithm:\t\t 0.271875\n",
      "NDCG of production algorithm:\t\t 0.409123497978\n",
      "NDCG of experimental algorithm:\t\t 0.229148817528\n"
     ]
    }
   ],
   "source": [
    "# Test each implemented measure on a sample datapoint\n",
    "\n",
    "production, experimental = random_sample(5)\n",
    "\n",
    "relevance_map = {\n",
    "    'N': 0,\n",
    "    'R': 1,\n",
    "    'HR': 2\n",
    "}\n",
    "\n",
    "print('Precision of production algorithm:\\t', binary_precision(documents=production))\n",
    "print('Precision of experimental algorithm:\\t', binary_precision(documents=experimental))\n",
    "\n",
    "print('EER of production algorithm:\\t\\t', expected_reciprocal_rank(\n",
    "    documents=production, relevance_map=relevance_map))\n",
    "print('EER of experimental algorithm:\\t\\t', expected_reciprocal_rank(\n",
    "    documents=experimental, relevance_map=relevance_map))\n",
    "\n",
    "print('NDCG of production algorithm:\\t\\t', normalized_discounted_cumulative_gain(\n",
    "    documents=production, relevance_map=relevance_map))\n",
    "print('NDCG of experimental algorithm:\\t\\t', normalized_discounted_cumulative_gain(\n",
    "    documents=experimental, relevance_map=relevance_map))"
   ]
  },
  {
   "cell_type": "markdown",
   "metadata": {},
   "source": [
    "### Step 3\n",
    "For the three measures and all P and E ranking pairs constructed above calculate the difference: 𝛥measure = measureE-measureP. Consider only those pairs for which E outperforms P.\n",
    "\n",
    "Delta measures are calculated on 5000 random datapoints"
   ]
  },
  {
   "cell_type": "code",
   "execution_count": 277,
   "metadata": {},
   "outputs": [
    {
     "name": "stdout",
     "output_type": "stream",
     "text": [
      "Average of ndcg delta for each pair where E outperforms P\t\t 0.202795767105\n",
      "Average of err delta for each pair where E outperforms P\t\t 0.26010731601456605\n",
      "Average of binary_precision delta for each pair where E outperforms P\t 0.308342245989\n"
     ]
    }
   ],
   "source": [
    "def delta(data, eval_function, relevance_map):\n",
    "    \"\"\"\n",
    "    Returns list of document pairs in data with there corresponding \n",
    "    difference of performance per pair calculated with eval_function.\n",
    "    \n",
    "    Arguments:\n",
    "    data          -- list of documents pairs containing relevance labels\n",
    "    eval_function -- evaluation function to score performance of list\n",
    "                     of relevance labels\n",
    "    relevance_map -- dictionary that contains mapping from relevance \n",
    "                     label to score\n",
    "    \"\"\"\n",
    "    return [(docs1, docs2, \n",
    "             eval_function(docs2, relevance_map=relevance_map) -\n",
    "             eval_function(docs1, relevance_map=relevance_map))\n",
    "            for docs1, docs2 in data]\n",
    "\n",
    "# Generate 5000 random datapoints\n",
    "sampled_data = [random_sample(5) for _ in range(5000)]\n",
    "\n",
    "# select pairs where Experimental algorithm outperforms Production algorithm\n",
    "data_ndcg = [x for x in delta(sampled_data, normalized_discounted_cumulative_gain, relevance_map) if x[2] > 0]\n",
    "print('Average of ndcg delta for each pair where E outperforms P\\t\\t', \n",
    "      sum([x[2] for x in data_ndcg]) / len(data_ndcg))\n",
    "\n",
    "data_err = [x for x in delta(sampled_data, expected_reciprocal_rank, relevance_map) if x[2] > 0]\n",
    "print('Average of err delta for each pair where E outperforms P\\t\\t', \n",
    "      sum([x[2] for x in data_err]) / len(data_err))\n",
    "\n",
    "data_bp = [x for x in delta(sampled_data, binary_precision, relevance_map) if x[2] > 0]\n",
    "print('Average of binary_precision delta for each pair where E outperforms P\\t', \n",
    "      sum([x[2] for x in data_bp]) / len(data_bp))"
   ]
  },
  {
   "cell_type": "markdown",
   "metadata": {},
   "source": [
    "### Step 4\n",
    "Implement Team-Draft interleaving and Balanced interleaving"
   ]
  },
  {
   "cell_type": "code",
   "execution_count": 278,
   "metadata": {},
   "outputs": [
    {
     "name": "stdout",
     "output_type": "stream",
     "text": [
      "Single sample with Team-Draft Interleaving:\n",
      "Labels converted to unique documents\t\t [0, 1, 2, 3, 4] [5, 6, 7, 8, 9]\n",
      "Set of interleaved documents\t\t\t [5, 0, 1, 6, 7, 2, 8, 3, 4]\n",
      "Original labels of interleaved documents\t ['HR', 'R', 'N', 'R', 'R', 'N', 'HR', 'HR', 'R']\n"
     ]
    }
   ],
   "source": [
    "def teamdraft_interleaving(docs1, docs2):\n",
    "    \"\"\"\n",
    "    Returns interleaved list of documents from docs1 and docs2 based on teamdraft\n",
    "    interleaving as well as a list where the indices refer to the set the document\n",
    "    originally cam from. \n",
    "    based on http://www.cs.cornell.edu/people/tj/publications/chapelle_etal_12a.pdf  \n",
    "    \n",
    "    Arguments:\n",
    "    docs1 -- list of documents\n",
    "    docs2 -- list of documents\n",
    "    \"\"\"\n",
    "    team_a = set()\n",
    "    team_b = set()\n",
    "    I = []\n",
    "    pointers = []\n",
    "    \n",
    "    while len(set(docs1) - set(I)) > 0 and len(set(docs2) - set(I)):\n",
    "        if len(team_a) < len(team_b) or (len(team_a) == len(team_b) and random.random() > 0.5):\n",
    "            k = [x for x in docs1 if not x in I][0]\n",
    "            I.append(k)\n",
    "            team_a.add(k)\n",
    "            pointers.append('A')\n",
    "        else:\n",
    "            k = [x for x in docs2 if not x in I][0]\n",
    "            I.append(k)\n",
    "            team_b.add(k)\n",
    "            pointers.append('B')\n",
    "    return I, pointers\n",
    "\n",
    "def score_teamdraft_interleaving(a, b, I, pointers, clicks):\n",
    "    \"\"\"\n",
    "    Returns the winner of interleaved set I based on clicks.\n",
    "    returns A if team A has the most clicks, B if team B has the most clicks\n",
    "    and T if it is a draw \n",
    "    \n",
    "    Arguments:\n",
    "    a --\n",
    "    b --\n",
    "    I        -- Interleaved set of documents\n",
    "    pointers -- List of strings which represents origin of documents\n",
    "    clicks   -- Binary list indicating wether a user cliced on a document of not\n",
    "    \"\"\"\n",
    "    score = sum([1 if pointers[index[0]] == 'A' else -1 for index in np.argwhere(clicks==1)])\n",
    "    return 'T' if score == 0 else 'A' if score > 0 else 'B'\n",
    "\n",
    "def index_ranking_pair(docs1, docs2):\n",
    "    \"\"\"\n",
    "    Turn a pair (docs1, docs2) of rankings to pair of indices [[0, 1, 2, 3, 4], [5, 6, 7, 8, 9]].\n",
    "    Returns indiced pairs and mapping between indices and rankings.\n",
    "    \n",
    "    Arguments:\n",
    "    docs1 -- list of relevance labels of documents\n",
    "    docs2 -- list of relevance labels of documents\n",
    "    \"\"\"\n",
    "    generated_docs1 = [x for x in range(len(docs1))]\n",
    "    generated_docs2 = [x + len(p) for x in range(len(docs2))]\n",
    "    mapping = docs1 + docs2\n",
    "    return generated_docs1, generated_docs2, mapping\n",
    "\n",
    "docs1, docs2 = random_sample(5)\n",
    "gen_docs1, gen_docs2, mapping = index_ranking_pair(p, e)\n",
    "\n",
    "I, pointers = teamdraft_interleaving(p_n, e_n)\n",
    "labels_i = [mapping[i] for i in I]\n",
    "\n",
    "print('Single sample with Team-Draft Interleaving:')\n",
    "print('Labels converted to unique documents\\t\\t', gen_docs1, gen_docs2)\n",
    "print('Set of interleaved documents\\t\\t\\t', I)\n",
    "print('Original labels of interleaved documents\\t', labels_i)"
   ]
  },
  {
   "cell_type": "code",
   "execution_count": 279,
   "metadata": {
    "collapsed": true
   },
   "outputs": [],
   "source": [
    "def balanced_interleaving(docs1, docs2):\n",
    "    \"\"\"\n",
    "    Returns interleaved list of docs1 and docs2 using balanced interleaving.\n",
    "    based on http://www.cs.cornell.edu/people/tj/publications/chapelle_etal_12a.pdf \n",
    "    \n",
    "    Arguments:\n",
    "    docs1 -- list of documents\n",
    "    docs2 -- list of documents\n",
    "    \"\"\"\n",
    "    I = []\n",
    "    k_a = 0\n",
    "    k_b = 0\n",
    "    first = random.randint(0, 1) # 0 or 1\n",
    "       \n",
    "    while((k_a < len(docs1)) and (k_b < len(docs2))):\n",
    "        if k_a < k_b or k_a == k_b and first:\n",
    "            if docs1[k_a] not in I:\n",
    "                I.append(docs1[k_a])\n",
    "            k_a += 1\n",
    "        else:\n",
    "            if docs2[k_b] not in I:\n",
    "                I.append(docs2[k_b])\n",
    "            k_b += 1\n",
    "            \n",
    "    return np.array(I), None\n",
    "        \n",
    "def score_balanced_interleaving(docs1, docs2, I, pointers, clicks):\n",
    "    '''\n",
    "    Return the winner of algorithm A and B or T if it is draw.\n",
    "    given the interleaved list I and the clicks of the user on that list.\n",
    "    \n",
    "    Arguments:\n",
    "    docs1   -- list of documents\n",
    "    docs2   -- list of documents\n",
    "    I       -- interleaving of docs1 and docs2\n",
    "    pointer -- backpointers to where the docs in I came from\n",
    "    clicks  -- binary array of wether a user clicked on the document\n",
    "    '''\n",
    "    score_A = 0\n",
    "    score_B = 0\n",
    "    clicked_items = ([I[i[0]] for i in np.argwhere(clicks==1)])\n",
    "    if any(clicked_items): # User has at least one click\n",
    "        playfield = highest_index(clicked_items[-1], docs1, docs2) + 1  \n",
    "    else:\n",
    "        return 'T' # return Tie\n",
    "    A_reduced = docs1[:playfield]\n",
    "    B_reduced = docs2[:playfield]\n",
    "\n",
    "    for item in clicked_items:\n",
    "        if item in A_reduced:\n",
    "            score_A += 1\n",
    "        if item in B_reduced:\n",
    "            score_B += 1\n",
    "\n",
    "    if score_A > score_B:\n",
    "        return 'A'\n",
    "    elif score_B > score_A:\n",
    "        return 'B'\n",
    "    else:\n",
    "        return 'T' \n",
    "\n",
    "def highest_index(item, docs1, docs2):\n",
    "    \"\"\"\n",
    "    Determine the line above which the items \n",
    "    of each set count towards the to be calculated score   \n",
    "    \n",
    "    Arguments:\n",
    "    item  -- clicked document\n",
    "    docs1 -- list of documents\n",
    "    docs2 -- list of documents\n",
    "    \"\"\"\n",
    "    for index, _ in enumerate(docs1):\n",
    "        if item == docs1[index] or item == docs2[index]:\n",
    "            return index"
   ]
  },
  {
   "cell_type": "markdown",
   "metadata": {},
   "source": [
    "### Step 5\n",
    "Implement User Clicks Simulation"
   ]
  },
  {
   "cell_type": "code",
   "execution_count": 280,
   "metadata": {},
   "outputs": [
    {
     "name": "stdout",
     "output_type": "stream",
     "text": [
      "Loading sessions from Yandex file...\n",
      "Number of sessions: 42652\n"
     ]
    }
   ],
   "source": [
    "# To estimate clickmdel parameters, the provided Yandex file is used\n",
    "\n",
    "def load_yandex(filename):\n",
    "    \"\"\"\n",
    "    Extract clicks from a given yandex file. Return a binary matrix where each row is a session,\n",
    "    and a 1 at position [i, j] represents a click in session i on document j.\n",
    "    \n",
    "    Arguments\n",
    "    filename   -- name of the yandex file.\n",
    "    \"\"\"\n",
    "    sessions = []\n",
    "    \n",
    "    with open(filename, 'r') as f:\n",
    "        data = [line.strip().split('\\t') for  line in f.readlines()]\n",
    "    for i, query_line in enumerate(data):\n",
    "        # Q indicates start of a session\n",
    "        if query_line[2] == \"Q\":\n",
    "            url_ids = query_line[5:]\n",
    "            \n",
    "            # Get url_ids of all subsequent lines that are clicks\n",
    "            clicks = np.zeros(len(url_ids))\n",
    "            for click_line in data[i+1:]:\n",
    "                if click_line[2] == \"C\":\n",
    "                    click_url = click_line[3]\n",
    "                    if click_url not in url_ids:\n",
    "                        continue\n",
    "                    clicks[url_ids.index(click_url)] = 1\n",
    "                else:\n",
    "                    break\n",
    "\n",
    "            sessions.append(clicks)\n",
    "    return np.vstack(sessions)\n",
    "\n",
    "print('Loading sessions from Yandex file...')\n",
    "sessions = load_yandex('YandexRelPredChallenge.txt')\n",
    "print('Number of sessions:', len(sessions))"
   ]
  },
  {
   "cell_type": "code",
   "execution_count": 114,
   "metadata": {},
   "outputs": [
    {
     "name": "stdout",
     "output_type": "stream",
     "text": [
      "RCM parameters\n",
      "rho = 0.125025790115\n",
      "\n",
      "PBM parameters\n",
      "gamma = [ 0.45006096  0.1950905   0.13931351  0.10569258  0.08184845  0.06712464\n",
      "  0.05936416  0.05296352  0.04808684  0.05071275]\n"
     ]
    }
   ],
   "source": [
    "# Implement PBM and RCM\n",
    "\n",
    "def calc_alpha(label):\n",
    "    return 2 ** relevance_map[label] / 2 ** max(relevance_map.values())\n",
    "\n",
    "\n",
    "class PBM(object):\n",
    "    def __init__(self, ranking_size):\n",
    "        self.alpha = defaultdict(lambda: 1)\n",
    "        self.gamma = [random.random() for _ in range(ranking_size)]\n",
    "        \n",
    "    def estimate(self, S):\n",
    "        \"\"\"Estimate parameters of the model.\"\"\"\n",
    "        self.gamma = S.sum(axis=0) / len(S)\n",
    "    \n",
    "    def predict(self, ranking):\n",
    "        \"\"\"Predict click probabilities of a given session.\"\"\"\n",
    "        return [g * calc_alpha(u) for g, u in zip(self.gamma, ranking)]\n",
    "           \n",
    "    def simulate(self, ranking):\n",
    "        \"\"\"Simulate clicks on a given session.\"\"\"\n",
    "        probs = self.predict(ranking)\n",
    "        return np.array([1 if np.random.random() < prob else 0 for prob in probs])\n",
    "\n",
    "class RCM:\n",
    "    def _init_(self):\n",
    "        self.rho = 0\n",
    "        \n",
    "    def estimate(self, S):\n",
    "        \"\"\"Estimate parameters of the model.\"\"\"\n",
    "        self.rho = np.sum(S) / S.size\n",
    "        \n",
    "    def predict(self, ranking):\n",
    "        \"\"\"Predict click probabilities of a given session.\"\"\"\n",
    "        probs = [self.rho] * len(ranking)\n",
    "        return probs\n",
    "            \n",
    "    def simulate(self, ranking):\n",
    "        \"\"\"Simulate clicks on a given session.\"\"\"\n",
    "        return np.array([1 if np.random.random() < prob else 0 for prob in self.predict(ranking)])\n",
    "\n",
    "print('RCM parameters')\n",
    "rcm_model = RCM()\n",
    "rcm_model.estimate(sessions)\n",
    "print('rho =', rcm_model.rho)\n",
    "print()\n",
    "\n",
    "print('PBM parameters')\n",
    "pbm_model = PBM(sessions.shape[1])\n",
    "pbm_model.estimate(sessions)\n",
    "print('gamma =', pbm_model.gamma)"
   ]
  },
  {
   "cell_type": "code",
   "execution_count": 281,
   "metadata": {
    "collapsed": true
   },
   "outputs": [],
   "source": [
    "def simulate_interleaving(data, N, clickmodel, interleaver, interleave_scorer):\n",
    "    win_rates = []\n",
    "    lose_rates = []\n",
    "    tie_rates = []\n",
    "    \n",
    "    for A, B, _ in data:\n",
    "        winners = []\n",
    "        \n",
    "        # Convert A and B to pages with unique indices for interleaving\n",
    "        a_n, b_n, mapping = index_ranking_pair(A, B)\n",
    "        # Create interleaving of indexed pages\n",
    "        I_n, pointers = interleaver(a_n, b_n)\n",
    "        # Convert indices back to rankings\n",
    "        I = [mapping[i] for i in I_n]\n",
    "        \n",
    "        # simulate clicks N times on interleaving\n",
    "        for i in range(N):\n",
    "            session = clickmodel.simulate(I)\n",
    "            winners.append(interleave_scorer(a_n, b_n, I_n, pointers, session))     \n",
    "        win_rates.append(winners.count('B') / N)\n",
    "        lose_rates.append(winners.count('A') / N)\n",
    "        tie_rates.append(winners.count('T') / N)\n",
    "    return win_rates, lose_rates, tie_rates"
   ]
  },
  {
   "cell_type": "markdown",
   "metadata": {},
   "source": [
    "### Step 7. Results and Analysis.\n",
    "\n",
    "\n",
    "\n",
    "In order to get more detailed insights in the differences between offline and online evaluation, we compare delta measures and online winrates in gradations. The delta measures are binned in five bins, and for each bin the average winrate is calculated.\n",
    "\n",
    "In theory, the binned evaluation should not matter for the RCM model. Clicks are random, so a higher deltameasure should not result in a higher winrate. On the other hand, the PBM clickmodel should have a higher winrate on higher delta measures, since the attractiveness parameter $\\alpha$ is taken into account when simulating the clicks.\n",
    "\n",
    "In total, four visualizations are shown: a bargraph for each clickmodel for each interleaving method."
   ]
  },
  {
   "cell_type": "code",
   "execution_count": 247,
   "metadata": {
    "scrolled": false
   },
   "outputs": [
    {
     "data": {
      "image/png": "[encoded data removed]",
      "text/plain": [
       "<matplotlib.figure.Figure at 0x10e05bc50>"
      ]
     },
     "metadata": {},
     "output_type": "display_data"
    },
    {
     "data": {
      "image/png": "[encoded data removed]",
      "text/plain": [
       "<matplotlib.figure.Figure at 0x11bb37dd8>"
      ]
     },
     "metadata": {},
     "output_type": "display_data"
    },
    {
     "data": {
      "image/png": "[encoded data removed]",
      "text/plain": [
       "<matplotlib.figure.Figure at 0x1152249b0>"
      ]
     },
     "metadata": {},
     "output_type": "display_data"
    },
    {
     "data": {
      "image/png": "[encoded data removed]",
      "text/plain": [
       "<matplotlib.figure.Figure at 0x11bb61400>"
      ]
     },
     "metadata": {},
     "output_type": "display_data"
    }
   ],
   "source": [
    "N = 300\n",
    "\n",
    "# For fancy printing, register each measure, clickmodel and interleaver with name.\n",
    "offline_measures = {'Binary Precision': data_bp,\n",
    "                    'nDCG': data_ndcg,\n",
    "                    'ERR': data_err}\n",
    "click_models = {'RCM clickmodel': rcm_model,\n",
    "                'PBM clickmodel': pbm_model}\n",
    "interleavers = {'Balanced Interleaving': (balanced_interleaving, score_balanced_interleaving),\n",
    "                'Team-Draft Interleaving': (teamdraft_interleaving, score_teamdraft_interleaving)}\n",
    "\n",
    "simulations = {}\n",
    "\n",
    "# For each clickmodel, for each interleaver, generate plot of 3 measurements\n",
    "for clickmodel_name, click_model in click_models.items():\n",
    "    for interleaver_name, (interleaver, scorer) in interleavers.items():\n",
    "        plt.figure(figsize=(12, 5))\n",
    "        for measure_idx, (measure_name, data) in enumerate(offline_measures.items()):\n",
    "            # Simulate experiment for data belonging to measurement\n",
    "            simulation = simulate_interleaving(data, N, click_model, interleaver, scorer)\n",
    "            simulations[(clickmodel_name, interleaver_name, measure_name)] = simulation\n",
    "            win_rates, lose_rates, tie_rates = simulation\n",
    "            \n",
    "            # Calculate bins\n",
    "            measurements = [d[-1] for d in data]\n",
    "            binned = np.digitize(measurements, np.linspace(0, 1, 5)[1:])\n",
    "            \n",
    "            # Calculate average winrate per bin\n",
    "            avg_winrates = []\n",
    "            for i in range(5):\n",
    "                if len(np.argwhere(binned==i)):\n",
    "                    bin_avg_winrate = np.sum(np.array(win_rates)[np.argwhere(binned==i)]) / len(np.argwhere(binned==i))\n",
    "                avg_winrates.append(bin_avg_winrate)\n",
    "                \n",
    "            # Generate plot\n",
    "            bar_offset = measure_idx * 0.25\n",
    "            plt.bar(np.arange(5)+bar_offset, avg_winrates, width = 0.25, label=measure_name)\n",
    "            plt.legend()\n",
    "            plt.title('Average winrates per Delta measure for {} and {}'.format(interleaver_name, clickmodel_name))\n",
    "            plt.xlabel('Delta measure')\n",
    "            plt.xticks(np.arange(5)+0.25, ('0 =< $\\Delta$ < 0.2', '0.2 =< $\\Delta$ < 0.4', \n",
    "                                           '0.4 =< $\\Delta$ < 0.6', '0.6 =< $\\Delta$ < 0.8', '0.8 =< $\\Delta$ < 1'))\n",
    "            plt.ylabel('Average winrate')\n",
    "        plt.show()"
   ]
  },
  {
   "cell_type": "markdown",
   "metadata": {},
   "source": [
    "As expected, the measurements on the RCM clickmodels are the same, no matter the measured delta or the interleaving method. This is the correct behaviour, the clicks are random. In the next analysis we will only consider the PBM model. \n",
    "\n",
    "\n",
    "Next, the differences between the interleaving methods are compared. We use a t-test for this comparison."
   ]
  },
  {
   "cell_type": "code",
   "execution_count": 268,
   "metadata": {},
   "outputs": [],
   "source": [
    "# Get all simulations for Balanced interleaving and for Teamdraft interleaving\n",
    "\n",
    "balanced_pbm_winrates = [simulations[('PBM clickmodel', 'Balanced Interleaving', m)][0] for m in offline_measures]\n",
    "balanced_pbm_winrates = list(itertools.chain(*balanced_pbm_winrates))\n",
    "\n",
    "teamdraft_pbm_winrates = [simulations[('PBM clickmodel', 'Team-Draft Interleaving', m)][0] for m in offline_measures]\n",
    "teamdraft_pbm_winrates = list(itertools.chain(*teamdraft_pbm_winrates))"
   ]
  },
  {
   "cell_type": "code",
   "execution_count": 269,
   "metadata": {},
   "outputs": [
    {
     "name": "stdout",
     "output_type": "stream",
     "text": [
      "mean/std winrate Balanced Interleaving: 0.2794/0.1241\n",
      "meand/std winrate Team-Draft Interleaving: 0.2770/0.1063\n",
      "p-value: 0.161445376072\n"
     ]
    }
   ],
   "source": [
    "# Calculate statistics\n",
    "\n",
    "print('mean/std winrate Balanced Interleaving: {:.4f}/{:.4f}'.format(\n",
    "    np.mean(balanced_pbm_winrates), np.std(balanced_pbm_winrates)))\n",
    "print('meand/std winrate Team-Draft Interleaving: {:.4f}/{:.4f}'.format(\n",
    "    np.mean(teamdraft_pbm_winrates), np.std(teamdraft_pbm_winrates)))\n",
    "\n",
    "ttest_result = stats.ttest_rel(balanced_pbm_winrates, teamdraft_pbm_winrates)\n",
    "print('p-value:', ttest_result.pvalue)"
   ]
  },
  {
   "cell_type": "markdown",
   "metadata": {},
   "source": [
    "A p-value of 0.16 means that there is a significant difference between the distributions of Balanced Interleaving and Team-Draft Interleaving. The main difference is the measured standard deviation, which is higher in the case of Balanced Interleaving. We can conclude that, while the mean winrates are similar, because of a lower variance Team-Draft interleaving is less prone to outliers."
   ]
  },
  {
   "cell_type": "code",
   "execution_count": null,
   "metadata": {
    "collapsed": true
   },
   "outputs": [],
   "source": []
  }
 ],
 "metadata": {
  "kernelspec": {
   "display_name": "Python 3",
   "language": "python",
   "name": "python3"
  },
  "language_info": {
   "codemirror_mode": {
    "name": "ipython",
    "version": 3
   },
   "file_extension": ".py",
   "mimetype": "text/x-python",
   "name": "python",
   "nbconvert_exporter": "python",
   "pygments_lexer": "ipython3",
   "version": "3.6.3"
  }
 },
 "nbformat": 4,
 "nbformat_minor": 2
}
