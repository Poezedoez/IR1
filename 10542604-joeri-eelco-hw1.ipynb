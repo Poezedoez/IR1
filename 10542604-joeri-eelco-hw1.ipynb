{
 "cells": [
  {
   "cell_type": "markdown",
   "metadata": {},
   "source": [
    "### Theoretical part\n",
    "1. hoe werkt markdown en doe ik linebreaks\n",
    "2."
   ]
  },
  {
   "cell_type": "markdown",
   "metadata": {},
   "source": [
    "### Experimental part"
   ]
  },
  {
   "cell_type": "markdown",
   "metadata": {},
   "source": [
    "##### Step 1"
   ]
  },
  {
   "cell_type": "code",
   "execution_count": 1,
   "metadata": {
    "collapsed": true
   },
   "outputs": [],
   "source": [
    "import math, random"
   ]
  },
  {
   "cell_type": "code",
   "execution_count": 10,
   "metadata": {},
   "outputs": [
    {
     "data": {
      "text/plain": [
       "(['R', 'N', 'HR', 'HR', 'R'], ['R', 'N', 'HR', 'R', 'R'])"
      ]
     },
     "execution_count": 10,
     "metadata": {},
     "output_type": "execute_result"
    }
   ],
   "source": [
    "def random_sample(length):\n",
    "    '''\n",
    "    Returns a sample pair that\n",
    "    consists of a production and \n",
    "    an experiment list, with as possible\n",
    "    values {N, R, HR}.\n",
    "    '''\n",
    "    p_i = [random.randint(0,2) for i in range(length)]\n",
    "    e_i = [random.randint(0,2) for i in range(length)]\n",
    "    values = ['N', 'R', 'HR']\n",
    "    \n",
    "    p = [values[i] for i in p_i]\n",
    "    e = [values[i] for i in e_i]\n",
    "    \n",
    "    return p, e\n",
    "\n",
    "random_sample(5)"
   ]
  }
 ],
 "metadata": {
  "kernelspec": {
   "display_name": "Python 3",
   "language": "python",
   "name": "python3"
  },
  "language_info": {
   "codemirror_mode": {
    "name": "ipython",
    "version": 3
   },
   "file_extension": ".py",
   "mimetype": "text/x-python",
   "name": "python",
   "nbconvert_exporter": "python",
   "pygments_lexer": "ipython3",
   "version": "3.6.3"
  }
 },
 "nbformat": 4,
 "nbformat_minor": 2
}
