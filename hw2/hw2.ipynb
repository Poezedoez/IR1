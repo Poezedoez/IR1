{
 "cells": [
  {
   "cell_type": "markdown",
   "metadata": {},
   "source": [
    "# Information Retrieval 1#\n",
    "## Assignment 2: Retrieval models [100 points] ##"
   ]
  },
  {
   "cell_type": "markdown",
   "metadata": {},
   "source": [
    "In this assignment you will get familiar with basic and advanced information retrieval concepts. You will implement different information retrieval ranking models and evaluate their performance.\n",
    "\n",
    "We provide you with a Indri index. To query the index, you'll use a Python package ([pyndri](https://github.com/cvangysel/pyndri)) that allows easy access to the underlying document statistics.\n",
    "\n",
    "For evaluation you'll use the [TREC Eval](https://github.com/usnistgov/trec_eval) utility, provided by the National Institute of Standards and Technology of the United States. TREC Eval is the de facto standard way to compute Information Retrieval measures and is frequently referenced in scientific papers.\n",
    "\n",
    "This is a **groups-of-three assignment**, the deadline is **Wednesday, January 31st**. Code quality, informative comments and convincing analysis of the results will be considered when grading. Submission should be done through blackboard, questions can be asked on the course [Piazza](piazza.com/university_of_amsterdam/spring2018/52041inr6y/home).\n",
    "\n",
    "### Technicalities (must-read!) ###\n",
    "\n",
    "The assignment directory is organized as follows:\n",
    "   * `./assignment.ipynb` (this file): the description of the assignment.\n",
    "   * `./index/`: the index we prepared for you.\n",
    "   * `./ap_88_90/`: directory with ground-truth and evaluation sets:\n",
    "      * `qrel_test`: test query relevance collection (**test set**).\n",
    "      * `qrel_validation`: validation query relevance collection (**validation set**).\n",
    "      * `topics_title`: semicolon-separated file with query identifiers and terms.\n",
    "\n",
    "You will need the following software packages (tested with Python 3.5 inside [Anaconda](https://conda.io/docs/user-guide/install/index.html)):\n",
    "   * Python 3.5 and Jupyter\n",
    "   * Indri + Pyndri (Follow the installation instructions [here](https://github.com/nickvosk/pyndri/blob/master/README.md))\n",
    "   * gensim [link](https://radimrehurek.com/gensim/install.html)\n",
    "   * TREC Eval [link](https://github.com/usnistgov/trec_eval)"
   ]
  },
  {
   "cell_type": "markdown",
   "metadata": {},
   "source": [
    "### TREC Eval primer ###\n",
    "The TREC Eval utility can be downloaded and compiled as follows:\n",
    "\n",
    "    git clone https://github.com/usnistgov/trec_eval.git\n",
    "    cd trec_eval\n",
    "    make\n",
    "\n",
    "TREC Eval computes evaluation scores given two files: ground-truth information regarding relevant documents, named *query relevance* or *qrel*, and a ranking of documents for a set of queries, referred to as a *run*. The *qrel* will be supplied by us and should not be changed. For every retrieval model (or combinations thereof) you will generate a run of the top-1000 documents for every query. The format of the *run* file is as follows:\n",
    "\n",
    "    $query_identifier Q0 $document_identifier $rank_of_document_for_query $query_document_similarity $run_identifier\n",
    "    \n",
    "where\n",
    "   * `$query_identifier` is the unique identifier corresponding to a query (usually this follows a sequential numbering).\n",
    "   * `Q0` is a legacy field that you can ignore.\n",
    "   * `$document_identifier` corresponds to the unique identifier of a document (e.g., APXXXXXXX where AP denotes the collection and the Xs correspond to a unique numerical identifier).\n",
    "   * `$rank_of_document_for_query` denotes the rank of the document for the particular query. This field is ignored by TREC Eval and is only maintained for legacy support. The ranks are computed by TREC Eval itself using the `$query_document_similarity` field (see next). However, it remains good practice to correctly compute this field.\n",
    "   * `$query_document_similarity` is a score indicating the similarity between query and document where a higher score denotes greater similarity.\n",
    "   * `$run_identifier` is an identifier of the run. This field is for your own convenience and has no purpose beyond bookkeeping.\n",
    "   \n",
    "For example, say we have two queries: `Q1` and `Q2` and we rank three documents (`DOC1`, `DOC2`, `DOC3`). For query `Q1`, we find the following similarity scores `score(Q1, DOC1) = 1.0`, `score(Q1, DOC2) = 0.5`, `score(Q1, DOC3) = 0.75`; and for `Q2`: `score(Q2, DOC1) = -0.1`, `score(Q2, DOC2) = 1.25`, `score(Q1, DOC3) = 0.0`. We can generate run using the following snippet:"
   ]
  },
  {
   "cell_type": "code",
   "execution_count": 2,
   "metadata": {
    "scrolled": false
   },
   "outputs": [
    {
     "name": "stdout",
     "output_type": "stream",
     "text": [
      "Q1 Q0 DOC1 1 1.0 example\n",
      "Q1 Q0 DOC3 2 0.75 example\n",
      "Q1 Q0 DOC2 3 0.5 example\n",
      "Q2 Q0 DOC2 1 1.25 example\n",
      "Q2 Q0 DOC3 2 0.0 example\n",
      "Q2 Q0 DOC1 3 -0.1 example\n"
     ]
    }
   ],
   "source": [
    "import logging\n",
    "import sys\n",
    "import os\n",
    "\n",
    "def write_run(model_name, data, out_f,\n",
    "              max_objects_per_query=sys.maxsize,\n",
    "              skip_sorting=False):\n",
    "    \"\"\"\n",
    "    Write a run to an output file.\n",
    "    Parameters:\n",
    "        - model_name: identifier of run.\n",
    "        - data: dictionary mapping topic_id to object_assesments;\n",
    "            object_assesments is an iterable (list or tuple) of\n",
    "            (relevance, object_id) pairs.\n",
    "            The object_assesments iterable is sorted by decreasing order.\n",
    "        - out_f: output file stream.\n",
    "        - max_objects_per_query: cut-off for number of objects per query.\n",
    "    \"\"\"\n",
    "    for subject_id, object_assesments in data.items():\n",
    "        if not object_assesments:\n",
    "            logging.warning('Received empty ranking for %s; ignoring.',\n",
    "                            subject_id)\n",
    "\n",
    "            continue\n",
    "\n",
    "        # Probe types, to make sure everything goes alright.\n",
    "        # assert isinstance(object_assesments[0][0], float) or \\\n",
    "        #     isinstance(object_assesments[0][0], np.float32)\n",
    "        assert isinstance(object_assesments[0][1], str) or \\\n",
    "            isinstance(object_assesments[0][1], bytes)\n",
    "\n",
    "        if not skip_sorting:\n",
    "            object_assesments = sorted(object_assesments, reverse=True)\n",
    "\n",
    "        if max_objects_per_query < sys.maxsize:\n",
    "            object_assesments = object_assesments[:max_objects_per_query]\n",
    "\n",
    "        if isinstance(subject_id, bytes):\n",
    "            subject_id = subject_id.decode('utf8')\n",
    "\n",
    "        for rank, (relevance, object_id) in enumerate(object_assesments):\n",
    "            if isinstance(object_id, bytes):\n",
    "                object_id = object_id.decode('utf8')\n",
    "\n",
    "            out_f.write(\n",
    "                '{subject} Q0 {object} {rank} {relevance} '\n",
    "                '{model_name}\\n'.format(\n",
    "                    subject=subject_id,\n",
    "                    object=object_id,\n",
    "                    rank=rank + 1,\n",
    "                    relevance=relevance,\n",
    "                    model_name=model_name))\n",
    "            \n",
    "# The following writes the run to standard output.\n",
    "# In your code, you should write the runs to local\n",
    "# storage in order to pass them to trec_eval.\n",
    "write_run(\n",
    "    model_name='example',\n",
    "    data={\n",
    "        'Q1': ((1.0, 'DOC1'), (0.5, 'DOC2'), (0.75, 'DOC3')),\n",
    "        'Q2': ((-0.1, 'DOC1'), (1.25, 'DOC2'), (0.0, 'DOC3')),\n",
    "    },\n",
    "    out_f=sys.stdout,\n",
    "    max_objects_per_query=1000)"
   ]
  },
  {
   "cell_type": "markdown",
   "metadata": {},
   "source": [
    "Now, imagine that we know that `DOC1` is relevant and `DOC3` is non-relevant for `Q1`. In addition, for `Q2` we only know of the relevance of `DOC3`. The query relevance file looks like:\n",
    "\n",
    "    Q1 0 DOC1 1\n",
    "    Q1 0 DOC3 0\n",
    "    Q2 0 DOC3 1\n",
    "    \n",
    "We store the run and qrel in files `example.run` and `example.qrel` respectively on disk. We can now use TREC Eval to compute evaluation measures. In this example, we're only interested in Mean Average Precision and we'll only show this below for brevity. However, TREC Eval outputs much more information such as NDCG, recall, precision, etc.\n",
    "\n",
    "    $ trec_eval -m all_trec -q example.qrel example.run | grep -E \"^map\\s\"\n",
    "    > map                   \tQ1\t1.0000\n",
    "    > map                   \tQ2\t0.5000\n",
    "    > map                   \tall\t0.7500\n",
    "    \n",
    "Now that we've discussed the output format of rankings and how you can compute evaluation measures from these rankings, we'll now proceed with an overview of the indexing framework you'll use."
   ]
  },
  {
   "cell_type": "markdown",
   "metadata": {},
   "source": [
    "### Pyndri primer ###\n",
    "For this assignment you will use [Pyndri](https://github.com/cvangysel/pyndri) [[1](https://arxiv.org/abs/1701.00749)], a python interface for [Indri](https://www.lemurproject.org/indri.php). We have indexed the document collection and you can query the index using Pyndri. We will start by giving you some examples of what Pyndri can do:\n",
    "\n",
    "First we read the document collection index with Pyndri:"
   ]
  },
  {
   "cell_type": "code",
   "execution_count": 3,
   "metadata": {
    "collapsed": true,
    "scrolled": true
   },
   "outputs": [],
   "source": [
    "import pyndri\n",
    "\n",
    "index = pyndri.Index('index/')"
   ]
  },
  {
   "cell_type": "markdown",
   "metadata": {},
   "source": [
    "The loaded index can be used to access a collection of documents in an easy manner. We'll give you some examples to get some idea of what it can do, it is up to you to figure out how to use it for the remainder of the assignment.\n",
    "\n",
    "First let's look at the number of documents, since Pyndri indexes the documents using incremental identifiers we can simply take the lowest index and the maximum document and consider the difference:"
   ]
  },
  {
   "cell_type": "code",
   "execution_count": 4,
   "metadata": {},
   "outputs": [
    {
     "name": "stdout",
     "output_type": "stream",
     "text": [
      "There are 164597 documents in this collection.\n"
     ]
    }
   ],
   "source": [
    "print(\"There are %d documents in this collection.\" % (index.maximum_document() - index.document_base()))"
   ]
  },
  {
   "cell_type": "markdown",
   "metadata": {},
   "source": [
    "Let's take the first document out of the collection and take a look at it:"
   ]
  },
  {
   "cell_type": "code",
   "execution_count": 5,
   "metadata": {
    "scrolled": true
   },
   "outputs": [
    {
     "name": "stdout",
     "output_type": "stream",
     "text": [
      "('AP890425-0001', (1360, 192, 363, 0, 880, 0, 200, 0, 894, 412, 92160, 3, 192, 0, 363, 34, 1441, 0, 174134, 0, 200, 0, 894, 412, 2652, 0, 810, 107, 49, 4903, 420, 0, 1, 48, 35, 489, 0, 35, 687, 192, 243, 0, 249311, 1877, 0, 1651, 1174, 0, 2701, 117, 412, 0, 810, 391, 245233, 1225, 5838, 16, 0, 233156, 3496, 0, 393, 17, 0, 2435, 4819, 930, 0, 0, 200, 0, 894, 0, 22, 398, 145, 0, 3, 271, 115, 0, 1176, 2777, 292, 0, 725, 192, 0, 0, 50046, 0, 1901, 1130, 0, 192, 0, 408, 0, 243779, 0, 0, 553, 192, 0, 363, 0, 3747, 0, 0, 0, 0, 1176, 0, 1239, 0, 0, 1115, 17, 0, 0, 585, 192, 1963, 0, 0, 412, 54356, 0, 773, 0, 0, 0, 192, 0, 0, 1130, 0, 363, 0, 545, 192, 0, 1174, 1901, 1130, 0, 4, 398, 145, 39, 0, 577, 0, 355, 0, 491, 0, 6025, 0, 0, 193156, 88, 34, 437, 0, 0, 1852, 0, 828, 0, 1588, 0, 0, 0, 2615, 0, 0, 107, 49, 420, 0, 0, 190, 7, 714, 2701, 0, 237, 192, 157, 0, 412, 34, 437, 0, 0, 200, 6025, 26, 0, 0, 0, 0, 363, 0, 22, 398, 145, 0, 200, 638, 126222, 6018, 0, 880, 0, 0, 161, 0, 0, 319, 894, 2701, 0, 0, 0, 301, 1200, 0, 363, 251, 430, 0, 207, 0, 76143, 1773, 0, 243779, 0, 0, 72030, 0, 55, 4903, 420, 0, 2701, 1496, 420, 0, 25480, 0, 420, 0, 0, 200, 0, 392, 2949, 0, 1738, 0, 61, 0, 71, 79, 0, 200, 903, 0, 188, 53, 6, 0, 476, 2, 0, 2028, 97, 334, 0, 0, 200, 178, 0, 0, 107, 49, 0, 214, 0, 0, 0, 114, 3866, 1505, 195, 79893, 574, 0, 198, 2160, 0, 192, 0, 420, 0, 384, 0, 2701, 0, 114, 6025, 1549, 74627, 0, 238, 0, 0, 0, 3729, 0, 192, 0, 79893, 0, 0, 729, 3141, 129, 0, 192, 196764, 39, 0, 0, 714, 63, 0, 55, 420, 3356, 0, 0, 117, 412, 0, 0, 79758, 0, 1901, 1130, 4067, 2133, 0, 0, 875, 72, 0, 0, 336, 2789, 0, 0, 25, 920, 121, 104, 0, 3162, 0, 0, 420, 0, 2178, 0, 0, 386, 192545, 159306, 0, 0, 0, 1914, 0, 200, 0, 1794, 0, 2654, 0, 0, 25480, 420, 0, 2795, 0, 0, 229690, 0, 32559, 0, 0, 392, 253919, 0, 0, 0, 0, 379, 0, 0, 114, 0, 553, 10, 0, 1128, 0, 23610, 248, 151, 0, 418, 0, 651, 0, 36, 0, 0, 645, 0, 0, 513, 0, 0, 25480, 420, 34, 0, 0, 0, 15, 0, 3348, 0, 3496, 0, 35, 687, 0, 1, 48, 0, 0, 2803, 0, 0, 714, 1274, 0, 114, 62, 1006, 70268, 1200, 2357, 0, 497, 0, 497, 125, 0, 913, 4647, 3985, 0, 0, 3370, 245233, 0, 0, 687, 0, 4, 1288, 0, 0, 0, 0, 715, 0, 0, 687, 583, 0, 0, 1627, 0, 0, 11, 357, 1359, 0, 849, 0, 0, 1518, 462, 245233, 0, 0, 0, 0, 0, 0, 171, 70268, 0))\n"
     ]
    }
   ],
   "source": [
    "example_document = index.document(index.document_base())\n",
    "print(example_document)"
   ]
  },
  {
   "cell_type": "markdown",
   "metadata": {},
   "source": [
    "Here we see a document consists of two things, a string representing the external document identifier and an integer list representing the identifiers of words that make up the document. Pyndri uses integer representations for words or terms, thus a token_id is an integer that represents a word whereas the token is the actual text of the word/term. Every id has a unique token and vice versa with the exception of stop words: words so common that there are uninformative, all of these receive the zero id.\n",
    "\n",
    "To see what some ids and their matching tokens we take a look at the dictionary of the index:"
   ]
  },
  {
   "cell_type": "code",
   "execution_count": 6,
   "metadata": {},
   "outputs": [
    {
     "name": "stdout",
     "output_type": "stream",
     "text": [
      "[(1, 'new'), (2, 'percent'), (3, 'two'), (4, '1'), (5, 'people'), (6, 'million'), (7, '000'), (8, 'government'), (9, 'president'), (10, 'years'), (11, 'state'), (12, '2'), (13, 'states'), (14, 'three'), (15, 'time')]\n"
     ]
    }
   ],
   "source": [
    "token2id, id2token, _ = index.get_dictionary()\n",
    "print(list(id2token.items())[:15])"
   ]
  },
  {
   "cell_type": "markdown",
   "metadata": {},
   "source": [
    "Using this dictionary we can see the tokens for the (non-stop) words in our example document:"
   ]
  },
  {
   "cell_type": "code",
   "execution_count": 7,
   "metadata": {},
   "outputs": [
    {
     "name": "stdout",
     "output_type": "stream",
     "text": [
      "['52', 'students', 'arrested', 'takeover', 'university', 'massachusetts', 'building', 'fifty', 'two', 'students', 'arrested', 'tuesday', 'evening', 'occupying', 'university', 'massachusetts', 'building', 'overnight', 'protest', 'defense', 'department', 'funded', 'research', 'new', 'york', 'city', 'thousands', 'city', 'college', 'students', 'got', 'unscheduled', 'holiday', 'demonstrators', 'occupied', 'campus', 'administration', 'building', 'protest', 'possible', 'tuition', 'increases', 'prompting', 'officials', 'suspend', 'classes', '60', 'police', 'riot', 'gear', 'arrived', 'university', 'massachusetts', '5', 'p', 'm', 'two', 'hours', 'later', 'bus', 'drove', 'away', '29', 'students', 'camped', 'memorial', 'hall', 'students', 'charged', 'trespassing', '23', 'students', 'arrested', 'lying', 'bus', 'prevent', 'leaving', 'police', '300', 'students', 'stood', 'building', 'chanting', 'looking', 'students', 'hall', 'arrested', '35', 'students', 'occupied', 'memorial', 'hall', '1', 'p', 'm', 'monday', 'declined', 'offer', 'meet', 'administrators', 'provosts', 'office', 'tuesday', 'morning', 'presented', 'list', 'demands', 'halt', 'defense', 'department', 'research', '25', '000', 'student', 'campus', '40', 'students', 'left', 'building', 'tuesday', 'morning', 'university', 'administrators', 'told', 'arrested', '5', 'p', 'm', 'university', 'spokeswoman', 'jeanne', 'hopkins', 'takeover', 'second', 'western', 'massachusetts', 'campus', 'seven', 'protesters', 'arrested', 'april', '19', 'charges', 'disorderly', 'conduct', 'trespassing', 'demonstrating', 'military', 'funded', 'research', 'campus', 'particularly', 'research', 'anthrax', 'research', 'university', 'non', 'classified', 'researchers', 'make', 'work', 'public', 'university', 'rules', '11', '6', 'million', '22', 'percent', 'grant', 'money', 'received', 'university', 'came', 'defense', 'department', '1988', 'school', 'chancellor', 'joseph', 'd', 'duffey', 'issued', 'statement', 'telling', 'students', 'research', 'continue', 'campus', 'school', 'administrators', 'decide', 'differently', 'policy', 'negotiated', 'students', 'duffey', 'latest', 'occupation', 'began', 'students', 'rallying', 'monday', 'student', 'union', 'military', 'research', 'marched', 'administration', 'building', 'ducked', 'memorial', 'hall', 'en', 'route', 'followed', 'members', 'local', 'chapter', 'american', 'friends', 'service', 'committee', 'contended', 'research', 'dangerous', 'town', 'promotes', 'militarism', 'banned', 'university', 'argued', 'purpose', 'anthrax', 'research', 'peaceful', 'strain', 'bacteria', 'non', 'virulent', 'study', 'school', '23', 'years', 'incident', 'amherst', 'health', 'board', 'scheduled', 'hearing', 'wednesday', 'question', 'safety', 'anthrax', 'research', 'tuesday', 'time', '1969', 'classes', 'city', 'college', 'new', 'york', 'canceled', 'student', 'protests', 'school', 'spokesman', 'charles', 'deciccio', 'protesters', 'demanding', 'face', 'face', 'meeting', 'gov', 'mario', 'cuomo', 'feared', 'tuition', 'college', '1', '250', 'increased', 'college', 'staff', 'reduced', 'state', 'budget', 'cuts', 'governor', 'immediate', 'comment', 'tuition', 'set', 'deciccio']\n"
     ]
    }
   ],
   "source": [
    "print([id2token[word_id] for word_id in example_document[1] if word_id > 0])"
   ]
  },
  {
   "cell_type": "markdown",
   "metadata": {},
   "source": [
    "The reverse can also be done, say we want to look for news about the \"University of Massachusetts\", the tokens of that query can be converted to ids using the reverse dictionary:"
   ]
  },
  {
   "cell_type": "code",
   "execution_count": 8,
   "metadata": {},
   "outputs": [
    {
     "name": "stdout",
     "output_type": "stream",
     "text": [
      "Query by tokens: ['university', '', 'massachusetts']\n",
      "Query by ids with stopwords: [200, 0, 894]\n",
      "Query by ids without stopwords: [200, 894]\n"
     ]
    }
   ],
   "source": [
    "query_tokens = index.tokenize(\"University of Massachusetts\")\n",
    "print(\"Query by tokens:\", query_tokens)\n",
    "query_id_tokens = [token2id.get(query_token,0) for query_token in query_tokens]\n",
    "print(\"Query by ids with stopwords:\", query_id_tokens)\n",
    "query_id_tokens = [word_id for word_id in query_id_tokens if word_id > 0]\n",
    "print(\"Query by ids without stopwords:\", query_id_tokens)"
   ]
  },
  {
   "cell_type": "markdown",
   "metadata": {},
   "source": [
    "Naturally we can now match the document and query in the id space, let's see how often a word from the query occurs in our example document:"
   ]
  },
  {
   "cell_type": "code",
   "execution_count": 9,
   "metadata": {},
   "outputs": [
    {
     "name": "stdout",
     "output_type": "stream",
     "text": [
      "Document AP890425-0001 has 13 word matches with query: \"university  massachusetts\".\n",
      "Document AP890425-0001 and query \"university  massachusetts\" have a 2.5% overlap.\n"
     ]
    }
   ],
   "source": [
    "matching_words = sum([True for word_id in example_document[1] if word_id in query_id_tokens])\n",
    "print(\"Document %s has %d word matches with query: \\\"%s\\\".\" % (example_document[0], matching_words, ' '.join(query_tokens)))\n",
    "print(\"Document %s and query \\\"%s\\\" have a %.01f%% overlap.\" % (example_document[0], ' '.join(query_tokens),matching_words/float(len(example_document[1]))*100))"
   ]
  },
  {
   "cell_type": "markdown",
   "metadata": {},
   "source": [
    "While this is certainly not everything Pyndri can do, it should give you an idea of how to use it. Please take a look at the [examples](https://github.com/cvangysel/pyndri) as it will help you a lot with this assignment.\n",
    "\n",
    "**CAUTION**: Avoid printing out the whole index in this Notebook as it will generate a lot of output and is likely to corrupt the Notebook."
   ]
  },
  {
   "cell_type": "markdown",
   "metadata": {},
   "source": [
    "### Parsing the query file\n",
    "You can parse the query file (`ap_88_89/topics_title`) using the following snippet:"
   ]
  },
  {
   "cell_type": "code",
   "execution_count": 10,
   "metadata": {},
   "outputs": [
    {
     "name": "stdout",
     "output_type": "stream",
     "text": [
      "OrderedDict([('51', 'Airbus Subsidies'), ('52', 'South African Sanctions'), ('53', 'Leveraged Buyouts'), ('54', 'Satellite Launch Contracts'), ('55', 'Insider Trading'), ('56', 'Prime (Lending) Rate Moves, Predictions'), ('57', 'MCI'), ('58', 'Rail Strikes'), ('59', 'Weather Related Fatalities'), ('60', 'Merit-Pay vs. Seniority'), ('61', 'Israeli Role in Iran-Contra Affair'), ('62', \"Military Coups D'etat\"), ('63', 'Machine Translation'), ('64', 'Hostage-Taking'), ('65', 'Information Retrieval Systems'), ('66', 'Natural Language Processing'), ('67', 'Politically Motivated Civil Disturbances'), ('68', 'Health Hazards from Fine-Diameter Fibers'), ('69', 'Attempts to Revive the SALT II Treaty'), ('70', 'Surrogate Motherhood'), ('71', 'Border Incursions'), ('72', 'Demographic Shifts in the U.S.'), ('73', 'Demographic Shifts across National Boundaries'), ('74', 'Conflicting Policy'), ('75', 'Automation'), ('76', 'U.S. Constitution - Original Intent'), ('77', 'Poaching'), ('78', 'Greenpeace'), ('79', 'FRG Political Party Positions'), ('80', '1988 Presidential Candidates Platforms'), ('81', 'Financial crunch for televangelists in the wake of the PTL scandal'), ('82', 'Genetic Engineering'), ('83', 'Measures to Protect the Atmosphere'), ('84', 'Alternative/renewable Energy Plant & Equipment Installation'), ('85', 'Official Corruption'), ('86', 'Bank Failures'), ('87', 'Criminal Actions Against Officers of Failed Financial Institutions'), ('88', 'Crude Oil Price Trends'), ('89', '\"Downstream\" Investments by OPEC Member States'), ('90', 'Data on Proven Reserves of Oil & Natural Gas Producers'), ('91', 'U.S. Army Acquisition of Advanced Weapons Systems'), ('92', 'International Military Equipment Sales'), ('93', 'What Backing Does the National Rifle Association Have?'), ('94', 'Computer-aided Crime'), ('95', 'Computer-aided Crime Detection'), ('96', 'Computer-Aided Medical Diagnosis'), ('97', 'Fiber Optics Applications'), ('98', 'Fiber Optics Equipment Manufacturers'), ('99', 'Iran-Contra Affair'), ('100', 'Controlling the Transfer of High Technology'), ('101', 'Design of the \"Star Wars\" Anti-missile Defense System'), ('102', \"Laser Research Applicable to the U.S.'s Strategic Defense Initiative\"), ('103', 'Welfare Reform'), ('104', 'Catastrophic Health Insurance'), ('105', '\"Black Monday\"'), ('106', 'U.S. Control of Insider Trading'), ('107', 'Japanese Regulation of Insider Trading'), ('108', 'Japanese Protectionist Measures'), ('109', 'Find Innovative Companies'), ('110', 'Black Resistance Against the South African Government'), ('111', 'Nuclear Proliferation'), ('112', 'Funding Biotechnology'), ('113', 'New Space Satellite Applications'), ('114', 'Non-commercial Satellite Launches'), ('115', 'Impact of the 1986 Immigration Law'), ('116', 'Generic Drug Substitutions'), ('117', 'Capacity of the U.S. Cellular Telephone Network'), ('118', 'International Terrorists'), ('119', 'Actions Against International Terrorists'), ('120', 'Economic Impact of International Terrorism'), ('121', 'Death from Cancer'), ('122', 'RDT&E of New Cancer Fighting Drugs'), ('123', 'Research into & Control of Carcinogens'), ('124', 'Alternatives to Traditional Cancer Therapies'), ('125', 'Anti-smoking Actions by Government'), ('126', 'Medical Ethics and Modern Technology'), ('127', 'U.S.-U.S.S.R. Arms Control Agreements'), ('128', 'Privatization of State Assets'), ('129', 'Soviet Spying on the U.S.'), ('130', 'Jewish Emigration and U.S.-USSR Relations'), ('131', 'McDonnell Douglas Contracts for Military Aircraft'), ('132', '\"Stealth\" Aircraft'), ('133', 'Hubble Space Telescope'), ('134', 'The Human Genome Project'), ('135', 'Possible Contributions of Gene Mapping to Medicine'), ('136', 'Diversification by Pacific Telesis'), ('137', 'Expansion in the U.S. Theme Park Industry'), ('138', 'Iranian Support for Lebanese Hostage-takers'), ('139', \"Iran's Islamic Revolution - Domestic and Foreign Social Consequences\"), ('140', 'Political Impact of Islamic Fundamentalism'), ('141', \"Japan's Handling of its Trade Surplus with the U.S.\"), ('142', 'Impact of Government Regulated Grain Farming on International Relations'), ('143', 'Why Protect U.S. Farmers?'), ('144', 'Management Problems at the United Nations'), ('145', 'Influence of the \"Pro-Israel Lobby\"'), ('146', 'Negotiating an End to the Nicaraguan Civil War'), ('147', 'Productivity Trends in the U.S. Economy'), ('148', 'Conflict in the Horn of Africa'), ('149', 'Industrial Espionage'), ('150', 'U.S. Political Campaign Financing'), ('151', 'Coping with overcrowded prisons'), ('152', 'Accusations of Cheating by Contractors on U.S. Defense Projects'), ('153', 'Insurance Coverage which pays for Long Term Care'), ('154', 'Oil Spills'), ('155', 'Right Wing Christian Fundamentalism in U.S.'), ('156', 'Efforts to enact Gun Control Legislation'), ('157', 'Causes and treatments of multiple sclerosis (MS)'), ('158', 'Term limitations for members of the U.S. Congress'), ('159', 'Electric Car Development'), ('160', 'Vitamins - The Cure for or Cause of Human Ailments'), ('161', 'Acid Rain'), ('162', 'Automobile Recalls'), ('163', 'Vietnam Veterans and Agent Orange'), ('164', 'Generic Drugs - Illegal Activities by Manufacturers'), ('165', 'Tobacco company advertising and the young'), ('166', 'Standardized testing and cultural bias'), ('167', 'Regulation of the showing of violence and explicit sex in motion picture theaters, on television, and on video cassettes.'), ('168', 'Financing AMTRAK'), ('169', 'Cost of Garbage/Trash Removal'), ('170', 'The Consequences of Implantation of Silicone Gel Breast Devices'), ('171', \"Use of Mutual Funds in an Individual's Retirement Strategy\"), ('172', 'The Effectiveness of Medical Products and Related Programs Utilized in the Cessation of Smoking.'), ('173', 'Smoking Bans'), ('174', 'Hazardous Waste Cleanup'), ('175', 'NRA Prevention of Gun Control Legislation'), ('176', 'Real-life private investigators'), ('177', 'English as the Official Language in U.S.'), ('178', 'Dog Maulings'), ('179', 'U. S. Restaurants in Foreign Lands'), ('180', 'Ineffectiveness of U.S. Embargoes/Sanctions'), ('181', 'Abuse of the Elderly by Family Members, and Medical and Nonmedical Personnel, and Initiatives Being Taken to Minimize This Mistreatment'), ('182', 'Commercial Overfishing Creates Food Fish Deficit'), ('183', 'Asbestos Related Lawsuits'), ('184', 'Corporate Pension Plans/Funds'), ('185', 'Reform of the U.S. Welfare System'), ('186', 'Difference of Learning Levels Among Inner City and More Suburban School Students'), ('187', 'Signs of the Demise of Independent Publishing'), ('188', 'Beachfront Erosion'), ('189', 'Real Motives for Murder'), ('190', 'Instances of Fraud Involving the Use of a Computer'), ('191', 'Efforts to Improve U.S. Schooling'), ('192', 'Oil Spill Cleanup'), ('193', 'Toys R Dangerous'), ('194', 'The Amount of Money Earned by Writers'), ('195', 'Stock Market Perturbations Attributable to Computer Initiated Trading'), ('196', 'School Choice Voucher System and its effects upon the entire U.S. educational program'), ('197', 'Reform of the jurisprudence system to stop juries from granting unreasonable monetary awards'), ('198', 'Gene Therapy and Its Benefits to Humankind'), ('199', 'Legality of Medically Assisted Suicides'), ('200', 'Impact of foreign textile imports on U.S. textile industry')])\n"
     ]
    }
   ],
   "source": [
    "import collections\n",
    "import io\n",
    "import logging\n",
    "import sys\n",
    "\n",
    "def parse_topics(file_or_files,\n",
    "                 max_topics=sys.maxsize, delimiter=';'):\n",
    "    assert max_topics >= 0 or max_topics is None\n",
    "\n",
    "    topics = collections.OrderedDict()\n",
    "\n",
    "    if not isinstance(file_or_files, list) and \\\n",
    "            not isinstance(file_or_files, tuple):\n",
    "        if hasattr(file_or_files, '__iter__'):\n",
    "            file_or_files = list(file_or_files)\n",
    "        else:\n",
    "            file_or_files = [file_or_files]\n",
    "\n",
    "    for f in file_or_files:\n",
    "        assert isinstance(f, io.IOBase)\n",
    "\n",
    "        for line in f:\n",
    "            assert(isinstance(line, str))\n",
    "\n",
    "            line = line.strip()\n",
    "\n",
    "            if not line:\n",
    "                continue\n",
    "\n",
    "            topic_id, terms = line.split(delimiter, 1)\n",
    "\n",
    "            if topic_id in topics and (topics[topic_id] != terms):\n",
    "                    logging.error('Duplicate topic \"%s\" (%s vs. %s).',\n",
    "                                  topic_id,\n",
    "                                  topics[topic_id],\n",
    "                                  terms)\n",
    "\n",
    "            topics[topic_id] = terms\n",
    "\n",
    "            if max_topics > 0 and len(topics) >= max_topics:\n",
    "                break\n",
    "\n",
    "    return topics\n",
    "\n",
    "with open('./ap_88_89/topics_title', 'r') as f_topics:\n",
    "    print(parse_topics([f_topics]))"
   ]
  },
  {
   "cell_type": "markdown",
   "metadata": {},
   "source": [
    "### Task 1: Implement and compare lexical IR methods [35 points] ### \n",
    "\n",
    "In this task you will implement a number of lexical methods for IR using the **Pyndri** framework. Then you will evaluate these methods on the dataset we have provided using **TREC Eval**.\n",
    "\n",
    "Use the **Pyndri** framework to get statistics of the documents (term frequency, document frequency, collection frequency; **you are not allowed to use the query functionality of Pyndri**) and implement the following scoring methods in **Python**:\n",
    "\n",
    "- [TF-IDF](http://nlp.stanford.edu/IR-book/html/htmledition/tf-idf-weighting-1.html) and \n",
    "- [BM25](http://nlp.stanford.edu/IR-book/html/htmledition/okapi-bm25-a-non-binary-model-1.html) with k1=1.2 and b=0.75. **[5 points]**\n",
    "- Language models ([survey](https://drive.google.com/file/d/0B-zklbckv9CHc0c3b245UW90NE0/view))\n",
    "    - Jelinek-Mercer (explore different values of 𝛌 in the range [0.1, 0.5, 0.9]). **[5 points]**\n",
    "    - Dirichlet Prior (explore different values of 𝛍 [500, 1000, 1500]). **[5 points]**\n",
    "    - Absolute discounting (explore different values of 𝛅 in the range [0.1, 0.5, 0.9]). **[5 points]**\n",
    "    - [Positional Language Models](http://sifaka.cs.uiuc.edu/~ylv2/pub/sigir09-plm.pdf) define a language model for each position of a document, and score a document based on the scores of its PLMs. The PLM is estimated based on propagated counts of words within a document through a proximity-based density function, which both captures proximity heuristics and achieves an effect of “soft” passage retrieval. Implement the PLM, all five kernels, but only the Best position strategy to score documents. Use 𝛔 equal to 50, and Dirichlet smoothing with 𝛍 optimized on the validation set (decide how to optimize this value yourself and motivate your decision in the report). **[10 points]**\n",
    "    \n",
    "Implement the above methods and report evaluation measures (on the test set) using the hyper parameter values you optimized on the validation set (also report the values of the hyper parameters). Use TREC Eval to obtain the results and report on `NDCG@10`, Mean Average Precision (`MAP@1000`), `Precision@5` and `Recall@1000`.\n",
    "\n",
    "For the language models, create plots showing `NDCG@10` with varying values of the parameters. You can do this by chaining small scripts using shell scripting (preferred) or execute trec_eval using Python's `subprocess`.\n",
    "\n",
    "Compute significance of the results using a [two-tailed paired Student t-test](https://docs.scipy.org/doc/scipy/reference/generated/scipy.stats.ttest_rel.html) **[5 points]**. Be wary of false rejection of the null hypothesis caused by the [multiple comparisons problem](https://en.wikipedia.org/wiki/Multiple_comparisons_problem). There are multiple ways to mitigate this problem and it is up to you to choose one.\n",
    "\n",
    "Analyse the results by identifying specific queries where different methods succeed or fail and discuss possible reasons that cause these differences. This is *very important* in order to understand who the different retrieval functions behave.\n",
    "\n",
    "**NOTE**: Don’t forget to use log computations in your calculations to avoid underflows. "
   ]
  },
  {
   "cell_type": "markdown",
   "metadata": {},
   "source": [
    "**IMPORTANT**: You should structure your code around the helper functions we provide below."
   ]
  },
  {
   "cell_type": "code",
   "execution_count": 61,
   "metadata": {},
   "outputs": [
    {
     "name": "stdout",
     "output_type": "stream",
     "text": [
      "Gathering statistics about 456 terms.\n",
      "Inverted index creation took 67.26304721832275 seconds.\n"
     ]
    }
   ],
   "source": [
    "import time\n",
    "\n",
    "with open('./ap_88_89/topics_title', 'r') as f_topics:\n",
    "    queries = parse_topics([f_topics])\n",
    "\n",
    "index = pyndri.Index('index/')\n",
    "\n",
    "num_documents = index.maximum_document() - index.document_base()\n",
    "\n",
    "dictionary = pyndri.extract_dictionary(index)\n",
    "\n",
    "tokenized_queries = {\n",
    "    query_id: [dictionary.translate_token(token)\n",
    "               for token in index.tokenize(query_string)\n",
    "               if dictionary.has_token(token)]\n",
    "    for query_id, query_string in queries.items()}\n",
    "\n",
    "query_term_ids = set(\n",
    "    query_term_id\n",
    "    for query_term_ids in tokenized_queries.values()\n",
    "    for query_term_id in query_term_ids)\n",
    "\n",
    "print('Gathering statistics about', len(query_term_ids), 'terms.')\n",
    "start_time = time.time()\n",
    "# inverted index creation.\n",
    "\n",
    "document_lengths = {}\n",
    "unique_terms_per_document = {}\n",
    "\n",
    "inverted_index = collections.defaultdict(dict)\n",
    "collection_frequencies = collections.defaultdict(int)\n",
    "\n",
    "total_terms = 0\n",
    "\n",
    "for int_doc_id in range(index.document_base(), index.maximum_document()):\n",
    "    ext_doc_id, doc_token_ids = index.document(int_doc_id)\n",
    "\n",
    "    document_bow = collections.Counter(\n",
    "        token_id for token_id in doc_token_ids\n",
    "        if token_id > 0)\n",
    "    document_length = sum(document_bow.values())\n",
    "\n",
    "    document_lengths[int_doc_id] = document_length\n",
    "    total_terms += document_length\n",
    "\n",
    "    unique_terms_per_document[int_doc_id] = len(document_bow)\n",
    "\n",
    "    for query_term_id in query_term_ids:\n",
    "        assert query_term_id is not None\n",
    "\n",
    "        document_term_frequency = document_bow.get(query_term_id, 0)\n",
    "\n",
    "        if document_term_frequency == 0:\n",
    "            continue\n",
    "\n",
    "        collection_frequencies[query_term_id] += document_term_frequency\n",
    "        inverted_index[query_term_id][int_doc_id] = document_term_frequency\n",
    "\n",
    "avg_doc_length = total_terms / num_documents\n",
    "\n",
    "print('Inverted index creation took', time.time() - start_time, 'seconds.')"
   ]
  },
  {
   "cell_type": "code",
   "execution_count": 84,
   "metadata": {},
   "outputs": [
    {
     "name": "stdout",
     "output_type": "stream",
     "text": [
      "{'0': 61.66577352458676, '1': 62.66570686136916, '2': 63.66564019807485, '3': 64.66517365466943, '4': 65.6639078307973, '5': 66.66144428450262, '6': 67.65738600903546, '7': 68.65133790679162, '8': 69.64290725944412, '9': 70.63170419333325, '10': 71.6173421391971, '11': 72.59943828533862, '12': 73.57761402334475, '13': 74.55149538549303, '14': 75.52071347300443, '15': 76.4849048743268, '16': 77.44371207265954, '17': 78.39678384196125, '18': 79.34377563071234, '19': 80.28434993273855, '20': 81.21817664443624, '21': 82.14493340777696, '22': 83.0643059385074, '23': 83.97598833899976, '24': 84.87968339524892, '25': 85.77510285755469, '26': 86.66196770446953, '27': 87.54000838963694, '28': 88.40896507118887, '29': 89.26858782341604, '30': 90.11863683047007, '31': 90.95888256190106, '32': 91.78910592988116, '33': 92.60909842800814, '34': 93.41866225162973, '35': 94.21761039967333, '36': 95.00576675801037, '37': 95.78296616442792, '38': 96.54905445532361, '39': 97.30388849428101, '40': 98.04733618272438, '41': 98.77927645289138, '42': 99.4995992434003, '43': 100.20820545772641, '44': 100.9050069059377, '45': 101.58992623007384, '46': 102.26289681358594, '47': 102.92386267528451, '48': 103.57277834827337, '49': 104.20960874437361, '50': 104.83432900456764, '51': 105.4469243360171, '52': 106.04738983622957, '53': 106.63573030496862, '54': 107.21196004451993, '55': 107.77610264894064, '56': 108.32819078293358, '57': 108.86826595099863, '58': 109.39637825752347, '59': 109.9125861584827, '60': 110.41695620542012, '61': 110.90956278239189, '62': 111.39048783654987, '63': 111.85982060304389, '64': 112.3176573249192, '65': 112.76410096868092, '66': 113.19926093619189, '67': 113.62325277356204, '68': 114.03619787767799, '69': 114.43822320101154, '70': 114.82946095533237, '71': 115.21004831493657, '72': 115.5801271199884, '73': 115.93984358055481, '74': 116.28934798189607, '75': 116.62879439155621, '76': 116.95834036877795, '77': 117.27814667674566, '78': 117.58837699813937, '79': 117.88919765445986, '80': 118.18077732956245, '81': 118.46328679781439, '82': 118.73689865726615, '83': 119.0017870682031, '84': 119.25812749742025, '85': 119.50609646853725, '86': 119.74587131864689, '87': 119.97762996156492, '88': 120.20155065792515, '89': 120.41781179233854, '90': 120.6265916578107, '91': 120.82806824758848, '92': 121.02241905458217, '93': 121.2098208784865, '94': 121.39044964070072, '95': 121.56448020712556, '96': 121.7320862188928, '97': 121.89343993106228, '98': 122.04871205929973, '99': 122.19807163452995, '100': 122.34168586553935, '101': 122.47972000948415, '102': 122.61233725024289, '103': 122.73969858453395, '104': 122.86196271570418, '105': 122.97928595507796, '106': 123.09182213074274, '107': 123.19972250363281, '108': 123.30313569076085, '109': 123.4022075954346, '110': 123.49708134428545, '111': 123.58789723092511, '112': 123.67479266603814, '113': 123.75790213370891, '114': 123.83735715377445, '115': 123.91328624998813, '116': 123.98581492377289, '117': 124.05506563333789, '118': 124.1211577779278, '119': 124.18420768697119, '120': 124.2443286138906, '121': 124.30163073433562, '122': 124.35622114859835, '123': 124.40820388797006, '124': 124.45767992479786, '125': 124.50474718599997, '126': 124.54950056980012, '127': 124.59203196544223, '128': 124.63243027564937, '129': 124.67078144159284, '130': 124.70716847014062, '131': 124.74167146315772, '132': 124.77436764863465, '133': 124.80533141342444, '134': 124.83463433737319, '135': 124.86234522863374, '136': 124.88853015995734, '137': 124.9132525057633, '138': 124.93657297979216, '139': 124.9585496731541, '140': 124.97923809258944, '141': 124.998691198765, '142': 125.01695944443586, '143': 125.03409081230835, '144': 125.05013085244723, '145': 125.06512271907548, '146': 125.07910720662294, '147': 125.0921227848857, '148': 125.10420563316563, '149': 125.1153896732656, '150': 125.12570660122334, '151': 125.13518591767313, '152': 125.14385495673153, '153': 125.15173891331037, '154': 125.15886086876654, '155': 125.16524181480564, '156': 125.17090067556222, '157': 125.17585432778738, '158': 125.1801176190802, '159': 125.18370338410683, '160': 125.18662245875717, '161': 125.18888369219651, '162': 125.19049395677554, '163': 125.19145815576877, '164': 125.19177922891869, '165': 125.19145815576877, '166': 125.19049395677554, '167': 125.18888369219651, '168': 125.18662245875717, '169': 125.18370338410683, '170': 125.1801176190802, '171': 125.17585432778738, '172': 125.17090067556222, '173': 125.16524181480564, '174': 125.15886086876654, '175': 125.15173891331037, '176': 125.14385495673153, '177': 125.13518591767313, '178': 125.12570660122334, '179': 125.1153896732656, '180': 125.10420563316563, '181': 125.0921227848857, '182': 125.07910720662294, '183': 125.06512271907548, '184': 125.05013085244723, '185': 125.03409081230835, '186': 125.01695944443586, '187': 124.998691198765, '188': 124.97923809258944, '189': 124.9585496731541, '190': 124.93657297979216, '191': 124.9132525057633, '192': 124.88853015995734, '193': 124.86234522863374, '194': 124.83463433737319, '195': 124.80533141342444, '196': 124.77436764863465, '197': 124.74167146315772, '198': 124.70716847014062, '199': 124.67078144159284, '200': 124.63243027564937, '201': 124.59203196544223, '202': 124.54950056980012, '203': 124.50474718599997, '204': 124.45767992479786, '205': 124.40820388797006, '206': 124.35622114859835, '207': 124.30163073433562, '208': 124.2443286138906, '209': 124.18420768697119, '210': 124.1211577779278, '211': 124.05506563333789, '212': 123.98581492377289, '213': 123.91328624998813, '214': 123.83735715377445, '215': 123.75790213370891, '216': 123.67479266603814, '217': 123.58789723092511, '218': 123.49708134428545, '219': 123.4022075954346, '220': 123.30313569076085, '221': 123.19972250363281, '222': 123.09182213074274, '223': 122.97928595507796, '224': 122.86196271570418, '225': 122.73969858453395, '226': 122.61233725024289, '227': 122.47972000948415, '228': 122.34168586553935, '229': 122.19807163452995, '230': 122.04871205929973, '231': 121.89343993106228, '232': 121.7320862188928, '233': 121.56448020712554, '234': 121.39044964070072, '235': 121.2098208784865, '236': 121.02241905458217, '237': 120.82806824758848, '238': 120.6265916578107, '239': 120.41781179233854, '240': 120.20155065792515, '241': 119.9776299615649, '242': 119.74587131864689, '243': 119.50609646853725, '244': 119.25812749742025, '245': 119.0017870682031, '246': 118.73689865726615, '247': 118.46328679781439, '248': 118.18077732956245, '249': 117.88919765445986, '250': 117.58837699813937, '251': 117.27814667674565, '252': 116.95834036877795, '253': 116.62879439155623, '254': 116.28934798189607, '255': 115.93984358055481, '256': 115.5801271199884, '257': 115.21004831493657, '258': 114.82946095533237, '259': 114.43822320101154, '260': 114.03619787767799, '261': 113.62325277356204, '262': 113.1992609361919, '263': 112.76410096868092, '264': 112.31765732491918, '265': 111.85982060304389, '266': 111.39048783654987, '267': 110.90956278239189, '268': 110.41695620542012, '269': 109.9125861584827, '270': 109.39637825752348, '271': 108.86826595099863, '272': 108.32819078293358, '273': 107.77610264894065, '274': 107.21196004451993, '275': 106.63573030496862, '276': 106.04738983622957, '277': 105.4469243360171, '278': 104.83432900456764, '279': 104.20960874437361, '280': 103.57277834827337, '281': 102.92386267528451, '282': 102.26289681358594, '283': 101.58992623007384, '284': 100.9050069059377, '285': 100.20820545772641, '286': 99.49959924340028, '287': 98.7792764528914, '288': 98.04733618272438, '289': 97.30388849428101, '290': 96.54905445532363, '291': 95.78296616442792, '292': 95.00576675801037, '293': 94.21761039967333, '294': 93.41866225162973, '295': 92.60909842800814, '296': 91.78910592988117, '297': 90.95888256190106, '298': 90.11863683047005, '299': 89.26858782341604, '300': 88.40896507118887, '301': 87.54000838963694, '302': 86.66196770446953, '303': 85.77510285755469, '304': 84.87968339524892, '305': 83.97598833899976, '306': 83.0643059385074, '307': 82.14493340777696, '308': 81.21817664443624, '309': 80.28434993273856, '310': 79.34377563071234, '311': 78.39678384196125, '312': 77.44371207265952, '313': 76.48490487432682, '314': 75.52071347300443, '315': 74.55149538549301, '316': 73.57761402334475, '317': 72.59943828533862, '318': 71.61734213919709, '319': 70.63170419333325, '320': 69.64290725944412, '321': 68.65133790679162, '322': 67.65738600903546, '323': 66.66144428450264, '324': 65.6639078307973, '325': 64.66517365466945, '326': 63.66564019807485, '327': 62.66570686136915, '328': 61.665773524586754, '329': 60.666240067760825, '330': 59.667505891243344, '331': 58.669969436983955, '332': 57.674027711723895, '333': 56.68007581305588, '334': 55.68850645929261, '335': 54.6997095240764, '336': 53.71407157664846, '337': 52.73197542868156, '338': 51.75379968856056, '339': 50.77991832397536, '340': 49.81070023366762, '341': 48.846508829146934, '342': 47.88770162716541, '343': 46.93462985370947, '344': 45.98763806023645, '345': 45.04706375285028, '346': 44.113237035075244, '347': 43.18648026485039, '348': 42.26710772632836, '349': 41.355425317023794, '350': 40.4517302508146, '351': 39.55631077725816, '352': 38.66944591764177, '353': 37.7914052181422, '354': 36.92244852042606, '355': 36.06282574997696, '356': 35.21277672239069, '357': 34.37253096783435, '358': 33.54230757381955, '359': 32.72231504639494, '360': 31.91275118981763, '361': 31.113803004718818, '362': 30.325646604734274, '363': 29.548447151526858, '364': 28.7823588080854, '365': 28.027524710142178, '366': 27.28407695551031, '367': 26.55213661110259, '368': 25.83181373735463, '369': 25.12320742973798, '370': 24.42640587701285, '371': 23.74148643583627, '372': 23.06851572130833, '373': 22.407549713008475, '374': 21.758633876044524, '375': 21.12180329660985, '376': 20.497082831518444, '377': 19.884487271164144, '378': 19.284021515328803, '379': 18.695680761244475, '380': 18.119450703296923, '381': 17.55530774374287, '382': 17.003219213799177, '383': 16.46314360445112, '384': 15.935030806317664, '385': 15.418822357903894, '386': 14.914451701565822, '387': 14.421844446509207, '388': 13.94091863814269, '389': 13.471585033106043, '390': 13.013747379296813, '391': 12.567302700222756, '392': 12.132141583013333, '393': 11.708148469431327, '394': 11.29520194923502, '395': 10.893175055251836, '396': 10.501935559537156, '397': 10.121346270005413, '398': 9.751265326935997, '399': 9.391546498772296, '400': 9.042039476650311, '401': 8.70259016711152, '402': 8.37304098247412, '403': 8.053231128357561, '404': 7.74299688787632, '405': 7.442171902040829, '406': 7.150587445926303, '407': 6.868072700193166, '408': 6.59445501756636, '409': 6.329560183905013, '410': 6.073212673517954, '411': 5.825235898405044, '412': 5.58545245112893, '413': 5.353684341046273, '414': 5.129753223652089, '415': 4.913480622815154, '416': 4.704688145706745, '417': 4.503197690248716, '418': 4.3088316449306685, '419': 4.121413080869049, '420': 3.9407659360037792, '421': 3.7667151913502526, '422': 3.599087039246124, '423': 3.4377090435534448, '424': 3.282410291797016, '425': 3.1330215392395213, '426': 2.989375344913034, '427': 2.8513061996446, '428': 2.718650646131023, '429': 2.5912473911346035, '430': 2.468937409887296, '431': 2.3515640428056224, '432': 2.2389730846327693, '433': 2.1310128661373797, '434': 2.0275343285108445, '435': 1.928391090616299, '436': 1.833439509252967, '437': 1.7425387326091828, '438': 1.6555507470860729, '439': 1.572340417681824, '440': 1.4927755221334387, '441': 1.4167267790190579, '442': 1.3440678700293127, '443': 1.2746754566206613, '444': 1.2084291912675027, '445': 1.1452117235328079, '446': 1.0849087011793017, '447': 1.0274087665448022, '448': 0.9726035484061687, '449': 0.9203876495565811, '450': 0.8706586303204182, '451': 0.8233169882290536, '452': 0.7782661340793088, '453': 0.7354123645942204, '454': 0.6946648319031739, '455': 0.6559355100554274, '456': 0.6191391587775293, '457': 0.5841932846812403, '458': 0.5510181001243307, '459': 0.5195364799219649, '460': 0.4896739161015163, '461': 0.4613584708884319, '462': 0.434520728105335, '463': 0.409093743160895, '464': 0.38501299179913345, '465': 0.36221631777384417, '466': 0.3406438796066371, '467': 0.3202380965808953, '468': 0.30094359411756016, '469': 0.2827071486723045, '470': 0.2654776322872063, '471': 0.24920595692358521, '472': 0.23384501869626065, '473': 0.2193496421230431, '474': 0.20567652449693863, '475': 0.1927841804822317, '476': 0.18063288702939365, '477': 0.16918462869763623, '478': 0.15840304346790895, '479': 0.1482533691232388, '480': 0.13870239026754116, '481': 0.1297183860484, '482': 0.12127107864384704, '483': 0.11333158256783908, '484': 0.10587235484399073, '485': 0.0988671460921367, '486': 0.09229095256749395, '487': 0.08611996918757517, '488': 0.08033154357756972, '489': 0.07490413116065768, '490': 0.06981725131566437, '491': 0.06505144462059735, '492': 0.06058823119692096, '493': 0.05641007016594238, '494': 0.052500320225379836, '495': 0.048843201351068455, '496': 0.04542375762583401, '497': 0.042227821194816495, '498': 0.039241977343958054, '499': 0.03645353069597813, '500': 0.03385047251593644, '501': 0.03142144911643179, '502': 0.02915573135059084, '503': 0.027043185179269166, '504': 0.025074243297302016, '505': 0.02323987780220898, '506': 0.02153157388746324, '507': 0.019941304541277478, '508': 0.018461506230832602, '509': 0.01708505555097239, '510': 0.015805246815603437, '511': 0.01461577056936948, '512': 0.013510692996605369, '513': 0.01248443620411495, '514': 0.011531759353949761, '515': 0.010647740622090856, '516': 0.00982775995874408, '517': 0.009067482625847566, '518': 0.00836284348735139, '519': 0.007710032027860523, '520': 0.007105478075325723, '521': 0.0065458382036200575, '522': 0.006027982791045114, '523': 0.0055489837110671595, '524': 0.00510610263188394, '525': 0.004696779901764812, '526': 0.004318623997484089, '527': 0.00396940151357872, '528': 0.003647027670600653, '529': 0.003349557320998867, '530': 0.0030751764317535134, '531': 0.002822194023389422, '532': 0.0025890345455187474, '533': 0.0023742306695960316, '534': 0.00217641648011466, '535': 0.001994321046025813, '536': 0.0018267623547196603, '537': 0.0016726415914699805, '538': 0.0015309377478067323, '539': 0.0014007025428433874, '540': 0.0012810556421468929, '541': 0.0011711801592943897, '542': 0.0010703184258132002, '543': 0.0009777680157454331, '544': 0.0008928780116169604, '545': 0.0008150454991194545, '546': 0.0007437122783343064, '547': 0.0006783617798366106, '548': 0.0006185161745162003, '549': 0.0005637336664394005, '550': 0.0005136059585502926, '551': 0.0004677558814722553, '552': 0.00042583517612011074, '553': 0.0003875224212691741, '554': 0.00035252109765025904, '555': 0.00032055778054883977, '556': 0.0002913804532819905, '557': 0.0002647569343085436, '558': 0.0002404734110959882, '559': 0.00021833307422213264, '560': 0.00019815484553048504, '561': 0.0001797721944859798, '562': 0.00016303203719199045, '563': 0.0001477937128310655, '564': 0.00013392803258038613, '565': 0.00012131639632915355, '566': 0.00010984997278895265, '567': 9.94289388401393e-05, '568': 8.996177419758897e-05, '569': 8.136460770817343e-05, '570': 7.356061181031544e-05, '571': 6.647944189336771e-05, '572': 6.005671749158099e-05, '573': 5.4233542434544426e-05, '574': 4.895606125343172e-05, '575': 4.417504931061175e-05, '576': 3.984553427946705e-05, '577': 3.592644675199032e-05, '578': 3.2380297894222085e-05, '579': 2.9172882204210164e-05, '580': 2.6273003554227615e-05, '581': 2.365222281882031e-05, '582': 2.1284625503202214e-05, '583': 1.9146607892856582e-05, '584': 1.7216680345288877e-05, '585': 1.5475286438964392e-05, '586': 1.3904636782883804e-05, '587': 1.248855637325134e-05, '588': 1.121234446157065e-05, '589': 1.006264597151362e-05, '590': 9.027333570307742e-06, '591': 8.095399564421911e-06, '592': 7.256856849239318e-06, '593': 6.502648198408111e-06, '594': 5.824563230886151e-06, '595': 5.215162442540421e-06, '596': 4.66770773473742e-06, '597': 4.176098914848032e-06, '598': 3.734815683179874e-06, '599': 3.338864657709445e-06, '600': 2.983731022285355e-06, '601': 2.665334415865871e-06, '602': 2.379988709993282e-06, '603': 2.124365349229849e-06, '604': 1.8954599548264118e-06, '605': 1.6905619155865697e-06, '606': 1.5072267118508856e-06, '607': 1.343250738869592e-06, '608': 1.196648414664997e-06, '609': 1.0656313749096076e-06, '610': 9.48589573456815e-07, '611': 8.440741220485226e-07, '612': 7.507817164723383e-07, '613': 6.675405091303004e-07, '614': 5.932972996848324e-07, '615': 5.27105926237008e-07, '616': 4.6811674943194657e-07, '617': 4.155671310383192e-07, '618': 3.6877281697036575e-07, '619': 3.271201424660451e-07, '620': 2.9005898425328176e-07, '621': 2.5709639107547765e-07, '622': 2.2779082995045924e-07, '623': 2.017469910452316e-07, '624': 1.7861109909966782e-07, '625': 1.5806668396140248e-07, '626': 1.3983076703408157e-07, '627': 1.2365042432265492e-07, '628': 1.0929969031051827e-07, '629': 9.65767701506671e-08, '630': 8.53015306206148e-08, '631': 7.531324300149069e-08, '632': 6.646855351621641e-08, '633': 5.863965921929408e-08, '634': 5.171266928946379e-08, '635': 4.5586133552712756e-08, '636': 4.016972177213625e-08, '637': 3.538303879702205e-08, '638': 3.115456207915241e-08, '639': 2.7420689351696637e-08, '640': 2.4124885436166298e-08, '641': 2.121691820580668e-08, '642': 1.8652174698866073e-08, '643': 1.6391049250887222e-08, '644': 1.439839630941473e-08, '645': 1.2643041314450577e-08, '646': 1.1097343680266297e-08, '647': 9.736806504806198e-09, '648': 8.539728167464642e-09, '649': 7.486891459539052e-09, '650': 6.561286328809445e-09, '651': 5.74786271469865e-09, '652': 5.0333103072178986e-09, '653': 4.405862384922466e-09, '654': 3.855121177631665e-09, '655': 3.371902461647867e-09, '656': 2.9480973313197663e-09, '657': 2.576549303486837e-09, '658': 2.25094510283556e-09, '659': 1.96571764851765e-09, '660': 1.7159599173686615e-09, '661': 1.497348498392956e-09, '662': 1.3060757783656228e-09, '663': 1.1387898108245596e-09, '664': 9.92541021633457e-10, '665': 8.647349948251926e-10, '666': 7.530906636091146e-10, '667': 6.556033041773575e-10, '668': 5.705117951132618e-10, '669': 4.96269663552768e-10, '670': 4.3151949146283094e-10, '671': 3.750703021028161e-10, '672': 3.2587758848495763e-10, '673': 2.8302568295586224e-10, '674': 2.4571220033841996e-10, '675': 2.1323431681441397e-10, '676': 1.8497667326341303e-10, '677': 1.604007154365831e-10, '678': 1.3903530443587943e-10, '679': 1.2046844975941596e-10, '680': 1.0434003390572655e-10, '681': 9.033541242124992e-11, '682': 7.817978652268696e-11, '683': 6.763325720451515e-11, '684': 5.84864802098377e-11, '685': 5.055685054099178e-11, '686': 4.368515344180946e-11, '687': 3.773262610932088e-11, '688': 3.2578380890689525e-11, '689': 2.8117146481893827e-11, '690': 2.42572887494164e-11, '691': 2.09190773173973e-11, '692': 1.8033168065186722e-11, '693': 1.5539275221752682e-11, '694': 1.3385009875584714e-11, '695': 1.1524864487523315e-11, '696': 9.919325440361066e-12, '697': 8.534097819574656e-12, '698': 7.339428526672982e-12, '699': 6.309515509295219e-12, '700': 5.42199237607126e-12, '701': 4.657478972228952e-12, '702': 3.999189644301519e-12, '703': 3.4325919370769802e-12, '704': 2.945109359149121e-12, '705': 2.5258626392612386e-12, '706': 2.1654445866649074e-12, '707': 1.8557242760969196e-12, '708': 1.5896768115778151e-12, '709': 1.361235391801554e-12, '710': 1.165162811144656e-12, '711': 9.969398911187568e-13, '712': 8.526686534613629e-13, '713': 7.28988323349527e-13, '714': 6.230024941402597e-13, '715': 5.322159977533528e-13, '716': 4.5448021098342137e-13, '717': 3.8794569089593443e-13, '718': 3.310211748753833e-13, '719': 2.823381053644322e-13, '720': 2.4071994807035876e-13, '721': 2.051556673636666e-13, '722': 1.7477680546369247e-13, '723': 1.4883768430023053e-13, '724': 1.26698311978754e-13, '725': 1.0780963071966325e-13, '726': 9.170079100618894e-14, '727': 7.796817835417125e-14, '728': 6.626595539223007e-14, '729': 5.629791349900219e-14, '730': 4.781045568564766e-14, '731': 4.058655626289735e-14, '732': 3.444056355261603e-14, '733': 2.921372989687683e-14, '734': 2.477036883463781e-14, '735': 2.0994552864907322e-14, '736': 1.778727696423004e-14, '737': 1.5064023209875566e-14, '738': 1.2752670682781249e-14, '739': 1.079170246444994e-14, '740': 9.128668155110566e-15, '741': 7.718866061947265e-15, '742': 6.524214154052788e-15, '743': 5.512283157612074e-15, '744': 4.655468859995197e-15, '745': 3.9302838825816875e-15, '746': 3.316751936752871e-15, '747': 2.79788995420804e-15, '748': 2.359265532489149e-15, '749': 1.9886189035312007e-15, '750': 1.6755401555044548e-15, '751': 1.4111937494266007e-15, '752': 1.188083500784191e-15, '753': 9.99852167668933e-16, '754': 8.411106222957968e-16, '755': 7.072923009234441e-16, '756': 5.945292443065254e-16, '757': 4.99546570851987e-16, '758': 4.1957267970776474e-16, '759': 3.5226287151189246e-16, '760': 2.9563440948320473e-16, '761': 2.4801133071130204e-16, '762': 2.0797756360832253e-16, '763': 1.7433711829707318e-16, '764': 1.460802972093359e-16, '765': 1.223550276441585e-16, '766': 1.0244255018101655e-16, '767': 8.573680983439491e-17, '768': 7.172699340757341e-17, '769': 5.998273900329732e-17, '770': 5.014161409662511e-17, '771': 4.189851870410329e-17, '772': 3.499672148223871e-17, '773': 2.922028033403549e-17, '774': 2.4387636390644908e-17, '775': 2.0346202004918754e-17, '776': 1.6967790449579554e-17, '777': 1.414475804392303e-17, '778': 1.1786749029440076e-17, '779': 9.817950181299529e-18, '780': 8.174776311009265e-18, '781': 6.803919854898857e-18, '782': 5.660707968694891e-18, '783': 4.707719229794856e-18, '784': 3.9136194158052695e-18, '785': 3.252182076754214e-18, '786': 2.7014649164404382e-18, '787': 2.2431174883408338e-18, '788': 1.8617995149195243e-18, '789': 1.5446923596261475e-18, '790': 1.2810889064801139e-18, '791': 1.0620494079334045e-18, '792': 8.801128114793223e-19, '793': 7.290547234774367e-19, '794': 6.036845609823849e-19, '795': 4.996756181501037e-19, '796': 4.134227662828848e-19, '797': 3.4192334397358227e-19, '798': 2.8267750004012637e-19, '799': 2.336048472896335e-19, '800': 1.9297478680408247e-19, '801': 1.5934828495727447e-19, '802': 1.3152924108222594e-19, '803': 1.0852388304156907e-19, '804': 8.950687973510866e-20, '805': 7.379307126960854e-20, '806': 6.081389542163618e-20, '807': 5.009773847113997e-20, '808': 4.1253563969024284e-20, '809': 3.3957278321723666e-20, '810': 2.794038043181204e-20, '811': 2.2980516725763426e-20, '812': 1.8893625003763688e-20, '813': 1.552740257881216e-20, '814': 1.2755877747596555e-20, '815': 1.0474900112314875e-20, '816': 8.598395793870999e-21, '817': 7.055259103788261e-21, '818': 5.786773582759438e-21, '819': 4.744473146705392e-21, '820': 3.88836897660101e-21, '821': 3.1854802246033308e-21, '822': 2.6086169876489907e-21, '823': 2.1353726573463453e-21, '824': 1.74728997390031e-21, '825': 1.4291711284466488e-21, '826': 1.1685072705914888e-21, '827': 9.550069519446586e-22, '828': 7.802065107358213e-22, '829': 6.371482932436933e-22, '830': 5.201150117578776e-22, '831': 4.244105371912564e-22, '832': 3.461790849775497e-22, '833': 2.8225613205322833e-22, '834': 2.3004554770871163e-22, '835': 1.874183712533786e-22, '836': 1.5262945757996493e-22, '837': 1.2424886518150515e-22, '838': 1.0110540274468745e-22, '839': 8.224019908461114e-23, '840': 6.68685326822732e-23, '841': 5.43484645699651e-23, '842': 4.415507270101015e-23, '843': 3.585929631541202e-23, '844': 2.911057271270619e-23, '845': 2.3622592529740507e-23, '846': 1.91616182922393e-23, '847': 1.5536908977616977e-23, '848': 1.2592874169316161e-23, '849': 1.0202648064917518e-23, '850': 8.262828578175195e-24, '851': 6.689172083754101e-24, '852': 5.413071677265235e-24, '853': 4.378677556168383e-24, '854': 3.5405434221634824e-24, '855': 2.861703616074216e-24, '856': 2.3121028096659804e-24, '857': 1.867314146042962e-24, '858': 1.5074932785054841e-24, '859': 1.2165252504164313e-24, '860': 9.81328951519865e-25, '861': 7.91290280884528e-25, '862': 6.37800391814397e-25, '863': 5.138796944775493e-25, '864': 4.138718163150607e-25, '865': 3.3319460732452116e-25, '866': 2.681376412893528e-25, '867': 2.1569759887921677e-25, '868': 1.7344450149677121e-25, '869': 1.3941305923927744e-25, '870': 1.1201445449179714e-25, '871': 8.996474725217068e-26, '872': 7.222679441292469e-26, '873': 5.796315168642787e-26, '874': 4.6497897265594334e-26, '875': 3.728570001044719e-26, '876': 2.988676778972995e-26, '877': 2.3946566563163927e-26, '878': 1.9179408484766493e-26, '879': 1.535517642940281e-26, '880': 1.2288589998493061e-26, '881': 9.830530053788065e-27, '882': 7.86102990500983e-27, '883': 6.2836153127012114e-27, '884': 5.020735624691887e-27, '885': 4.010077223981729e-27, '886': 3.201590132343087e-27, '887': 2.555090803478475e-27, '888': 2.0383302503671016e-27, '889': 1.6254378223986964e-27, '890': 1.2956681062549103e-27, '891': 1.0323923248642375e-27, '892': 8.222868649447512e-28, '893': 6.546806747699845e-28, '894': 5.210306454839022e-28, '895': 4.1450005109671585e-28, '896': 3.2961994180893574e-28, '897': 2.6201727974719836e-28, '898': 2.0819675177532527e-28, '899': 1.6536573368551128e-28, '900': 1.3129392962869592e-28, '901': 1.0420086398150705e-28, '902': 8.266573599916171e-29, '903': 6.555522212013089e-29, '904': 5.196567647728816e-29, '905': 4.1176877320780444e-29, '906': 3.2615028243535227e-29, '907': 2.58231746467876e-29, '908': 2.0437559056448e-29, '909': 1.6168730873182674e-29, '910': 1.2786460769623914e-29, '911': 1.0107698418647e-29, '912': 7.986963564345318e-30, '913': 6.308681900570799e-30, '914': 4.9810746571430155e-30, '915': 3.931288927581013e-30, '916': 3.1015184015358712e-30, '917': 2.4459143453105473e-30, '918': 1.928126862536597e-30, '919': 1.519348640024911e-30, '920': 1.19675912890361e-30, '921': 9.422877038938967e-31, '922': 7.416308081399242e-31, '923': 5.834712493922298e-31, '924': 4.5885832500588005e-31, '925': 3.607158469721023e-31, '926': 2.8345183794509045e-31, '927': 2.2264901457550214e-31, '928': 1.7481943741829917e-31, '929': 1.3721010498406083e-31, '930': 1.076489773854008e-31, '931': 8.442307185150776e-32, '932': 6.618198956149683e-32, '933': 5.186159982127902e-32, '934': 4.062369470377667e-32, '935': 3.180829168083938e-32, '936': 2.4895948823238734e-32, '937': 1.947800299363792e-32, '938': 1.5233074942433898e-32, '939': 1.1908529322831793e-32, '940': 9.305850683035023e-33, '941': 7.269113055028255e-33, '942': 5.675892451912845e-33, '943': 4.4301076481584136e-33, '944': 3.456382398130335e-33, '945': 2.6956075903302006e-33, '946': 2.1014493810920482e-33, '947': 1.637602790320762e-33, '948': 1.2756325018839885e-33, '949': 9.932760169120644e-34, '950': 7.731107035862221e-34, '951': 6.01507134389162e-34, '952': 4.678075604222557e-34, '953': 3.636813607198584e-34, '954': 2.826195499149928e-34, '955': 2.1953850599153465e-34, '956': 1.704694468760238e-34, '957': 1.3231520071353676e-34, '958': 1.0265976481070753e-34, '959': 7.96192576304084e-35, '960': 6.172531480010062e-35, '961': 4.7833904333322305e-35, '962': 3.7054049045354306e-35, '963': 2.8692132950922245e-35, '964': 2.220840225428741e-35, '965': 1.7183004763143084e-35, '966': 1.328948702886668e-35, '967': 1.0274119986623158e-35, '968': 7.939777910264068e-36, '969': 6.133373018175577e-36, '970': 4.736065514660346e-36, '971': 3.6556391591199235e-36, '972': 2.82056578604614e-36, '973': 2.175386537251708e-36, '974': 1.6771191839728223e-36, '975': 1.2924647320170934e-36, '976': 9.956363794917186e-37, '977': 7.666728622238728e-37, '978': 5.90128650841552e-37, '979': 4.540572159333115e-37, '980': 3.492221108574575e-37, '981': 2.6848507645294418e-37, '982': 2.0633164091986767e-37, '983': 1.5850346990098011e-37, '984': 1.2171356242145207e-37, '985': 9.342571467700253e-38, '986': 7.168381918128496e-38, '987': 5.497979192203082e-38, '988': 4.215142822452863e-38, '989': 3.2303437606131456e-38, '990': 2.4746422745624625e-38, '991': 1.8949744240226842e-38, '992': 1.4505126245386328e-38, '993': 1.1098566938614784e-38, '994': 8.488667606914703e-39, '995': 6.48992050934328e-39, '996': 4.959826115213094e-39, '997': 3.788966329794764e-39, '998': 2.893358578288334e-39, '999': 2.2085690893516197e-39, '1000': 1.6851824700983624e-39, '1001': 1.2853165116317929e-39, '1002': 9.799421733126612e-40, '1003': 7.468235698577503e-40, '1004': 5.689351757933228e-40, '1005': 4.332461938195766e-40, '1006': 3.2978729734045697e-40, '1007': 2.50934448670973e-40, '1008': 1.9085952591389653e-40, '1009': 1.4510907880632313e-40, '1010': 1.1028146241707226e-40, '1011': 8.377947461155646e-41, '1012': 6.362091787425816e-41, '1013': 4.829358078359321e-41, '1014': 3.6644268962453913e-41, '1015': 2.779392560702844e-41, '1016': 2.1072734296713954e-41, '1017': 1.5970520149238603e-41, '1018': 1.2098858505110732e-41, '1019': 9.162139475685241e-42, '1020': 6.935480607454579e-42, '1021': 5.2478738175845385e-42, '1022': 3.969331434291626e-42, '1023': 3.0010863905449634e-42, '1024': 2.2681239443747595e-42, '1025': 1.7134925445133117e-42, '1026': 1.2939717715008962e-42, '1027': 9.767749875183213e-43, '1028': 7.370405807795025e-43, '1029': 5.559239837605353e-43, '1030': 4.1914719008920035e-43, '1031': 3.1589652072442237e-43, '1032': 2.3798536962771436e-43, '1033': 1.7921848695579484e-43, '1034': 1.349094842793561e-43, '1035': 1.0151478139621668e-43, '1036': 7.635600699702537e-44, '1037': 5.740956495367652e-44, '1038': 4.3147180513925066e-44, '1039': 3.2415125272667673e-44, '1040': 2.43427759312462e-44, '1041': 1.827341052327878e-44, '1042': 1.3711855583694993e-44, '1043': 1.0284897261703461e-44, '1044': 7.711356665547622e-45, '1045': 5.779479487238596e-45, '1046': 4.3298590981372457e-45, '1047': 3.2425441630289e-45, '1048': 2.427309370701859e-45, '1049': 1.816316213111933e-45, '1050': 1.3585789429484243e-45, '1051': 1.0157934042364412e-45, '1052': 7.591943824956005e-46, '1053': 5.6718882962692586e-46, '1054': 4.235741382393805e-46, '1055': 3.1619739248382832e-46, '1056': 2.3594686527965542e-46, '1057': 1.7599373843624873e-46, '1058': 1.3122219452592855e-46, '1059': 9.780125987093078e-47, '1060': 7.286327256211002e-47, '1061': 5.426252084326413e-47, '1062': 4.039413614548012e-47, '1063': 3.005825391174496e-47, '1064': 2.235816903127114e-47, '1065': 1.6624009640438437e-47, '1066': 1.2355558673661064e-47, '1067': 9.1794370760317e-48, '1068': 6.81705448740038e-48, '1069': 5.060629393632634e-48, '1070': 3.7552543028579025e-48, '1071': 2.785487535734738e-48, '1072': 2.0653332307142398e-48, '1073': 1.5307564230823384e-48, '1074': 1.1340940981170372e-48, '1075': 8.398836571199962e-49, '1076': 6.217505945505582e-49, '1077': 4.600873835205956e-49, '1078': 3.403231353477036e-49, '1079': 2.5163419371002106e-49, '1080': 1.8598369340670237e-49, '1081': 1.3740644671527439e-49, '1082': 1.0147670961157448e-49, '1083': 7.491222030397887e-50, '1084': 5.527973907793333e-50, '1085': 4.077615962469161e-50, '1086': 3.006586312036703e-50, '1087': 2.2159912861869143e-50, '1088': 1.632636253264129e-50, '1089': 1.2023691837641305e-50, '1090': 8.851426132948549e-51, '1091': 6.513518808682911e-51, '1092': 4.7912088413223915e-51, '1093': 3.522909910534864e-51, '1094': 2.5893155370213063e-51, '1095': 1.902371887534683e-51, '1096': 1.3971172734030223e-51, '1097': 1.025645557770839e-51, '1098': 7.526425053873367e-52, '1099': 5.520865595124966e-52, '1100': 4.048112754060537e-52, '1101': 2.9670510466648474e-52, '1102': 2.1738242309746315e-52, '1103': 1.5920284352390582e-52, '1104': 1.1654783259024905e-52, '1105': 8.528733946246314e-53, '1106': 6.238668575338495e-53, '1107': 4.561694987335244e-53, '1108': 3.3341685522150922e-53, '1109': 2.4359918774305635e-53, '1110': 1.779062052745345e-53, '1111': 1.2987732363048522e-53, '1112': 9.477690816669592e-54, '1113': 6.913511883498861e-54, '1114': 5.041059913297634e-54, '1115': 3.6742776533826045e-54, '1116': 2.677004178580784e-54, '1117': 1.9496340014209743e-54, '1118': 1.4193323235259665e-54, '1119': 1.032861422351428e-54, '1120': 7.513235096821633e-55, '1121': 5.463096315810306e-55, '1122': 3.9707970563957316e-55, '1123': 2.8849844640484047e-55, '1124': 2.095251779661236e-55, '1125': 1.521093490969499e-55, '1126': 1.1038308973954057e-55, '1127': 8.007116210030771e-56, '1128': 5.805995065106837e-56, '1129': 4.208275239980323e-56, '1130': 3.0490079274711125e-56, '1131': 2.208207653378836e-56, '1132': 1.5986309136833627e-56, '1133': 1.156867020221698e-56, '1134': 8.368461255157132e-57, '1135': 6.051105338020903e-57, '1136': 4.373717710880451e-57, '1137': 3.1600482691042296e-57, '1138': 2.282252087693759e-57, '1139': 1.6476328322507804e-57, '1140': 1.189006389325346e-57, '1141': 8.576989216195868e-58, '1142': 6.1846120597954375e-58, '1143': 4.457763086425337e-58, '1144': 3.211799487430532e-58, '1145': 2.3131659134514385e-58, '1146': 1.6652983840035265e-58, '1147': 1.1984067675917923e-58, '1148': 8.620716422998445e-59, '1149': 6.1988250342506285e-59, '1150': 4.455560123224955e-59, '1151': 3.2012688455579995e-59, '1152': 2.299158416248607e-59, '1153': 1.6506026973773377e-59, '1154': 1.1845219424797753e-59, '1155': 8.497096950272215e-60, '1156': 6.092912468871252e-60, '1157': 4.3672314155872457e-60, '1158': 3.129063459537507e-60, '1159': 2.241039103318424e-60, '1160': 1.604395349121099e-60, '1161': 1.148154280274085e-60, '1162': 8.213268063926726e-61, '1163': 5.872981569456985e-61, '1164': 4.19786211101125e-61, '1165': 2.999332333458748e-61, '1166': 2.1421402299766986e-61, '1167': 1.5293190275166602e-61, '1168': 1.0913779408613552e-61, '1169': 7.785367801178733e-62, '1170': 5.551495343782766e-62, '1171': 3.9570150858495215e-62, '1172': 2.8193715401482253e-62, '1173': 2.0080004001290285e-62, '1174': 1.4295592341993652e-62, '1175': 1.0173429752389642e-62, '1176': 7.237015453031228e-63, '1177': 5.146103087854167e-63, '1178': 3.6578368845336506e-63, '1179': 2.598944813864059e-63, '1180': 1.8458510337290713e-63, '1181': 1.310458003442369e-63, '1182': 9.299860451208444e-64, '1183': 6.597153975475211e-64, '1184': 4.678037213666467e-64, '1185': 3.315870689756185e-64, '1186': 2.349407549148137e-64, '1187': 1.663971919616796e-64, '1188': 1.1780412125850479e-64, '1189': 8.336847005764332e-65, '1190': 5.897528309890928e-65, '1191': 4.1702788062136675e-65, '1192': 2.947725240406471e-65, '1193': 2.0827433703550578e-65, '1194': 1.4709955919831977e-65, '1195': 1.0385175273553344e-65, '1196': 7.328973264775617e-66, '1197': 5.17010413251753e-66, '1198': 3.645711417305885e-66, '1199': 2.5697574269120697e-66, '1200': 1.810626256158754e-66, '1201': 1.2752412106746251e-66, '1202': 8.97806414379902e-67, '1203': 6.318295120978935e-67, '1204': 4.444715303946419e-67, '1205': 3.125466336295694e-67, '1206': 2.196911375378131e-67, '1207': 1.5436082224165947e-67, '1208': 1.0841477215142103e-67, '1209': 7.611437240063766e-68, '1210': 5.34160426648781e-68, '1211': 3.747171568646506e-68, '1212': 2.6276182762680687e-68, '1213': 1.8418225928243887e-68, '1214': 1.2905063420055946e-68, '1215': 9.038561435971717e-69, '1216': 6.327983064752708e-69, '1217': 4.428515037135373e-69, '1218': 3.0979739352423677e-69, '1219': 2.166328007381757e-69, '1220': 1.5142496695282748e-69, '1221': 1.058029014055243e-69, '1222': 7.389660443272792e-70, '1223': 5.1591505693646454e-70, '1224': 3.600466183029523e-70, '1225': 2.5116902612935032e-70, '1226': 1.7514600598126043e-70, '1227': 1.2208468990971725e-70, '1228': 8.506462258076902e-71, '1229': 5.924661767469704e-71, '1230': 4.124819520281652e-71, '1231': 2.870603071058556e-71, '1232': 1.9969543793160687e-71, '1233': 1.3886408753747947e-71, '1234': 9.652471944303893e-72, '1235': 6.706778321991277e-72, '1236': 4.658178810117084e-72, '1237': 3.234038290019294e-72, '1238': 2.244403601623487e-72, '1239': 1.5569818597091638e-72, '1240': 1.0796747469027266e-72, '1241': 7.483919863240503e-73, '1242': 5.18551752566986e-73, '1243': 3.5915496635033526e-73, '1244': 2.4865571008200067e-73, '1245': 1.7208451294799235e-73, '1246': 1.1904521009857162e-73, '1247': 8.232066161021756e-74, '1248': 5.69026595250152e-74, '1249': 3.931724358701914e-74, '1250': 2.7155658944569883e-74, '1251': 1.8748408660074543e-74, '1252': 1.2938837517014807e-74, '1253': 8.925917903066657e-75, '1254': 6.155130951093067e-75, '1255': 4.242760187886035e-75, '1256': 2.92338793895387e-75, '1257': 2.0134979585380725e-75, '1258': 1.3862536805102226e-75, '1259': 9.540277462676053e-76, '1260': 6.5630554379167e-76, '1261': 4.513130718296151e-76, '1262': 3.1022480779071013e-76, '1263': 2.1315813233926214e-76, '1264': 1.4640437610081648e-76, '1265': 1.0051548641699917e-76, '1266': 6.8982458236150134e-77, '1267': 4.732287498949554e-77, '1268': 3.245116864891368e-77, '1269': 2.2244176181832452e-77, '1270': 1.5241547870579569e-77, '1271': 1.0439232862147726e-77, '1272': 7.147182267185643e-78, '1273': 4.891340434188421e-78, '1274': 3.3461675475000284e-78, '1275': 2.288201331198594e-78, '1276': 1.56411089975838e-78, '1277': 1.0687290331887761e-78, '1278': 7.299522110210638e-79, '1279': 4.983655386275327e-79, '1280': 3.401169945500197e-79, '1281': 2.320253382480961e-79, '1282': 1.5822286633983298e-79, '1283': 1.078524045312889e-79, '1284': 7.348812484825617e-80, '1285': 5.005313091833797e-80, '1286': 3.407784154288473e-80, '1287': 2.319207766196805e-80, '1288': 1.5777347099560612e-80, '1289': 1.0728896320396946e-80, '1290': 7.29294370027504e-81, '1291': 4.955385166718686e-81, '1292': 3.3657256634931585e-81, '1293': 2.2851081180652943e-81, '1294': 1.5508204971877008e-81, '1295': 1.0520661586230312e-81, '1296': 7.134299022031073e-82, '1297': 4.836000116481326e-82, '1298': 3.2767856554186505e-82, '1299': 2.2194046957669872e-82, '1300': 1.5026287780418668e-82, '1301': 1.016936036605264e-82, '1302': 6.879586027002293e-83, '1303': 4.652192812798208e-83, '1304': 3.1447044656267672e-83, '1305': 2.1248520633833744e-83, '1306': 1.4351731138265096e-83, '1307': 9.689616954552796e-84, '1308': 6.539366163437549e-84, '1309': 4.411552268480597e-84, '1310': 2.9749106621716667e-84, '1311': 2.0053175381605547e-84, '1312': 1.3511983303466455e-84, '1313': 9.100846110471199e-85, '1314': 6.127328491004489e-85, '1315': 4.1237020454966264e-85, '1316': 2.7741511050544555e-85, '1317': 1.8655189597747195e-85, '1318': 1.2539953909250045e-85, '1319': 8.425951035495139e-86, '1320': 5.659377173614289e-86, '1321': 3.799662849367943e-86, '1322': 2.550047097960236e-86, '1323': 1.7107165429604257e-86, '1324': 1.1471880702148334e-86, '1325': 7.68985058816e-87, '1326': 5.152617367979339e-87, '1327': 3.4511560367020288e-87, '1328': 2.310617232309034e-87, '1329': 1.5463867851227812e-87, '1330': 1.0345106355985392e-87, '1331': 6.917967186617841e-88, '1332': 4.624329188684374e-88, '1333': 3.08990902482986e-88, '1334': 2.063808270165516e-88, '1335': 1.3779063714871715e-88, '1336': 9.195953608397025e-89, '1337': 6.1348018187489566e-89, '1338': 4.091014374202959e-89, '1339': 2.7270190652813474e-89, '1340': 1.817071610688807e-89, '1341': 1.2102709566584566e-89, '1342': 8.057862983623564e-90, '1343': 5.3627042057818925e-90, '1344': 3.5675864396152785e-90, '1345': 2.372421560228732e-90, '1346': 1.5770153304347173e-90, '1347': 1.0478682045075266e-90, '1348': 6.95991769777057e-91, '1349': 4.620917748895816e-91, '1350': 3.066754877305357e-91, '1351': 2.0344947916082534e-91, '1352': 1.3491517178824057e-91, '1353': 8.943174169766884e-92, '1354': 5.9258311952249016e-92, '1355': 3.924944781640485e-92, '1356': 2.5986303956367516e-92, '1357': 1.7198167065635697e-92, '1358': 1.1377490951191048e-92, '1359': 7.523804794502158e-93, '1360': 4.973421002697012e-93, '1361': 3.2862425339816953e-93, '1362': 2.170554443711747e-93, '1363': 1.433073406647631e-93, '1364': 9.457859791399278e-94, '1365': 6.239416637006218e-94, '1366': 4.114544668543384e-94, '1367': 2.7122283763743633e-94, '1368': 1.7871351945982748e-94, '1369': 1.177105089015039e-94, '1370': 7.749965046712971e-95, '1371': 5.10047855960075e-95, '1372': 3.355434643256463e-95, '1373': 2.20654768071285e-95, '1374': 1.4504558787453018e-95, '1375': 9.530647384601932e-96, '1376': 6.2598936260006895e-96, '1377': 4.109965501374276e-96, '1378': 2.697342345832866e-96, '1379': 1.7695410202755063e-96, '1380': 1.1604110832227272e-96, '1381': 7.606585835592665e-97, '1382': 4.984187142971988e-97, '1383': 3.2645669380175343e-97, '1384': 2.1373885666486703e-97, '1385': 1.3988400294761845e-97, '1386': 9.151226118358086e-98, '1387': 5.984352755980449e-98, '1388': 3.911845993214611e-98, '1389': 2.5560713609488298e-98, '1390': 1.6695170645412737e-98, '1391': 1.0900223730020454e-98, '1392': 7.113881432200872e-99, '1393': 4.6409243911090644e-99, '1394': 3.026418778676029e-99, '1395': 1.9727870653619248e-99, '1396': 1.2854584947443218e-99, '1397': 8.372642786609214e-100, '1398': 5.451220174289665e-100, '1399': 3.547738004062273e-100, '1400': 2.308001104298871e-100, '1401': 1.5008840380772631e-100, '1402': 9.756294907310452e-101, '1403': 6.339417482392039e-101, '1404': 4.11756477052206e-101, '1405': 2.6733645058199333e-101, '1406': 1.7350123360102822e-101, '1407': 1.1255728446610506e-101, '1408': 7.299133326171579e-102, '1409': 4.731465039140716e-102, '1410': 3.0658197866295238e-102, '1411': 1.9857485678781595e-102, '1412': 1.2856671291704748e-102, '1413': 8.32069243786484e-103, '1414': 5.382909074228393e-103, '1415': 3.4809778824144653e-103, '1416': 2.2501534100063735e-103, '1417': 1.4539505515522642e-103, '1418': 9.391042111543618e-104, '1419': 6.06323752747329e-104, '1420': 3.9131096543899464e-104, '1421': 2.5244460580932966e-104, '1422': 1.6279340725111304e-104, '1423': 1.0493833537917616e-104, '1424': 6.761735335881e-105, '1425': 4.355207020494129e-105, '1426': 2.8040520916438207e-105, '1427': 1.8046375451809186e-105, '1428': 1.1609687675380848e-105, '1429': 7.465823534230861e-106, '1430': 4.799119233400704e-106, '1431': 3.083699102842217e-106, '1432': 1.980656132857665e-106, '1433': 1.2716652542788338e-106, '1434': 8.161371749589654e-107, '1435': 5.2357650271278973e-107, '1436': 3.3575598822298214e-107, '1437': 2.1522564468245665e-107, '1438': 1.3790845661205663e-107, '1439': 8.833125660065559e-108, '1440': 5.6554159013096755e-108, '1441': 3.619439461771804e-108, '1442': 2.315499617301781e-108, '1443': 1.480726120033292e-108, '1444': 9.465234718702048e-109, '1445': 6.048040140260459e-109, '1446': 3.862998746756852e-109, '1447': 2.4663862728932755e-109, '1448': 1.5740707409558092e-109, '1449': 1.0041856748949424e-109, '1450': 6.403691777392211e-110, '1451': 4.082004145291051e-110, '1452': 2.6010163637933155e-110, '1453': 1.6566827449684257e-110, '1454': 1.0547808444370639e-110, '1455': 6.712924140309132e-111, '1456': 4.2705898582793675e-111, '1457': 2.715755128063836e-111, '1458': 1.7263147075131237e-111, '1459': 1.0969225148326414e-111, '1460': 6.967204338561018e-112, '1461': 4.423517624272042e-112, '1462': 2.807395451508789e-112, '1463': 1.7810086855375577e-112, '1464': 1.1294190214929303e-112, '1465': 7.159303481330925e-113, '1466': 4.536417956811185e-113, '1467': 2.8733065471319096e-113, '1468': 1.8191875560188073e-113, '1469': 1.1513294211039495e-113, '1470': 7.283637788027582e-114, '1471': 4.605997404327259e-114, '1472': 2.9115593525049653e-114, '1473': 1.8397305332444973e-114, '1474': 1.1620087382224304e-114, '1475': 7.336538150644616e-115, '1476': 4.630198123484827e-115, '1477': 2.9210203088470137e-115, '1478': 1.8420278210501428e-115, '1479': 1.1611395031007236e-115, '1480': 7.316429992803214e-116, '1481': 4.608298978915938e-116, '1482': 2.9014071609174957e-116, '1483': 1.826010681571066e-116, '1484': 1.1487474289602904e-116, '1485': 7.223911123127837e-117, '1486': 4.540951238640803e-117, '1487': 2.853302944944399e-117, '1488': 1.7921548516199886e-117, '1489': 1.125200148452477e-117, '1490': 7.061722211622331e-118, '1491': 4.430146399743852e-118, '1492': 2.7781271973050758e-118, '1493': 1.7414570697641634e-118, '1494': 1.0911890959406697e-118, '1495': 6.834611923635558e-119, '1496': 4.279118362260509e-119, '1497': 2.678066367906767e-119, '1498': 1.6753863302051158e-119, '1499': 1.0476957815418122e-119, '1500': 6.549105972238699e-120, '1501': 4.092186656785615e-120, '1502': 2.5559681982035683e-120, '1503': 1.5958131899908753e-120, '1504': 9.959447523434124e-121, '1505': 6.2131957611819705e-121, '1506': 3.874551329764233e-121, '1507': 2.4152071825962875e-121, '1508': 1.5049218756204908e-121, '1509': 9.373463855140995e-122, '1510': 5.835967339041152e-122, '1511': 3.632053069883258e-122, '1512': 2.2595299759384006e-122, '1513': 1.4051109463866434e-122, '1514': 8.734332379793265e-123, '1515': 5.427194667419689e-123, '1516': 3.3709139863273476e-123, '1517': 2.0928906063309164e-123, '1518': 1.2988888003030422e-123, '1519': 8.057939469313583e-124, '1520': 4.996922501650006e-124, '1521': 3.0974750109101723e-124, '1522': 1.9192855451207057e-124, '1523': 1.1887703288680541e-124, '1524': 7.360086250918956e-125, '1525': 4.5550634713548745e-125, '1526': 2.8179452035779976e-125, '1527': 1.7425980985902928e-125, '1528': 1.0771805638018493e-125, '1529': 6.655893458549763e-126, '1530': 4.1110314029505684e-126, '1531': 2.538176425981751e-126, '1532': 1.566460314887083e-126, '1533': 9.663702814957366e-127, '1534': 5.9592871487418215e-127, '1535': 3.6734288832964868e-127, '1536': 2.2634741406564455e-127, '1537': 1.3941388005840127e-127, '1538': 8.583473432512997e-128, '1539': 5.282587453611127e-128, '1540': 3.249801978510461e-128, '1541': 1.998451791793894e-128, '1542': 1.2284487078812845e-128, '1543': 7.548261769045894e-129, '1544': 4.6362137511816544e-129, '1545': 2.8464694116513003e-129, '1546': 1.746932657543379e-129, '1547': 1.0716978951573336e-129, '1548': 6.5719638048443485e-130, '1549': 4.028510673627254e-130, '1550': 2.4684278891442265e-130, '1551': 1.51189955842805e-130, '1552': 9.256610823572242e-131, '1553': 5.665100759625658e-131, '1554': 3.465691016053663e-131, '1555': 2.1193301195567086e-131, '1556': 1.295489649306699e-131, '1557': 7.91581893097591e-132, '1558': 4.834864664008847e-132, '1559': 2.951884485430025e-132, '1560': 1.8015277678767492e-132, '1561': 1.0990289377175951e-132, '1562': 6.701991295560066e-133, '1563': 4.0853113011547255e-133, '1564': 2.489275788924605e-133, '1565': 1.516168390504146e-133, '1566': 9.230993048752783e-134, '1567': 5.617925454274574e-134, '1568': 3.4176696541376884e-134, '1569': 2.0783120417397312e-134, '1570': 1.2633334245445705e-134, '1571': 7.676297184149469e-135, '1572': 4.662427947427793e-135, '1573': 2.8307339038251883e-135, '1574': 1.7179579081652207e-135, '1575': 1.0422035549632107e-135, '1576': 6.3200300012432e-136, '1577': 3.8310011955949906e-136, '1578': 2.3213038551978907e-136, '1579': 1.405977125222905e-136, '1580': 8.512381394453487e-137, '1581': 5.151698626249093e-137, '1582': 3.116566368636415e-137, '1583': 1.8846420032567737e-137, '1584': 1.1392208038957467e-137, '1585': 6.883566350235035e-138, '1586': 4.1576282298400034e-138, '1587': 2.5101770581229968e-138, '1588': 1.514919697889349e-138, '1589': 9.139057756073717e-139, '1590': 5.5111189358535004e-139, '1591': 3.322038775565404e-139, '1592': 2.001686971653039e-139, '1593': 1.205630368271205e-139, '1594': 7.258698298353496e-140, '1595': 4.368475082653736e-140, '1596': 2.6280131251543536e-140, '1597': 1.580344416354723e-140, '1598': 9.499538599736415e-141, '1599': 5.70794560519284e-141, '1600': 3.4283384380292027e-141, '1601': 2.0583257060268035e-141, '1602': 1.2352960569942802e-141, '1603': 7.410620259201133e-142, '1604': 4.4439034027657514e-142, '1605': 2.663797499619228e-142, '1606': 1.5961156263427361e-142, '1607': 9.559915141443278e-143, '1608': 5.723613112866151e-143, '1609': 3.425413832499886e-143, '1610': 2.0491906631736137e-143, '1611': 1.2254010082495563e-143, '1612': 7.324882146484633e-144, '1613': 4.376728354245136e-144, '1614': 2.6141173892369196e-144, '1615': 1.5607276398440748e-144, '1616': 9.314417466366735e-145, '1617': 5.556621529881065e-145, '1618': 3.313541976412784e-145, '1619': 1.9751526986349435e-145, '1620': 1.1768887634124081e-145, '1621': 7.009655846475114e-146, '1622': 4.17334717658348e-146, '1623': 2.483698485315896e-146, '1624': 1.47754177500363e-146, '1625': 8.786323776263747e-147, '1626': 5.222773297359034e-147, '1627': 3.103285158208334e-147, '1628': 1.8431841648331246e-147, '1629': 1.0943149023576257e-147, '1630': 6.4944508208825e-148, '1631': 3.852734547167361e-148, '1632': 2.2846636785666465e-148, '1633': 1.3542598483291213e-148, '1634': 8.024320421007146e-149, '1635': 4.752707164219058e-149, '1636': 2.8138463825037112e-149, '1637': 1.6652760859562686e-149, '1638': 9.851415575140464e-150, '1639': 5.825558489493532e-150, '1640': 3.443523304403249e-150, '1641': 2.0346748544574208e-150, '1642': 1.2017483676397081e-150, '1643': 7.095101212408783e-151, '1644': 4.187262426861094e-151, '1645': 2.4701782625353887e-151, '1646': 1.4566423796621424e-151, '1647': 8.58626160723631e-152, '1648': 5.059199683708181e-152, '1649': 2.9797927193402333e-152, '1650': 1.7543523254515649e-152, '1651': 1.0324620736202605e-152, '1652': 6.073764173888299e-153, '1653': 3.571644878356013e-153, '1654': 2.0994481057731773e-153, '1655': 1.2335834775014716e-153, '1656': 7.245334988234539e-154, '1657': 4.253778990733939e-154, '1658': 2.4964214165400227e-154, '1659': 1.4644933458257748e-154, '1660': 8.587829840220141e-155, '1661': 5.033916220122653e-155, '1662': 2.9495452285198684e-155, '1663': 1.7275501384557237e-155, '1664': 1.0114229056252712e-155, '1665': 5.919178435804682e-156, '1666': 3.4627138355646245e-156, '1667': 2.0248753557488887e-156, '1668': 1.183604231967554e-156, '1669': 6.915781214498636e-157, '1670': 4.0392664589294845e-157, '1671': 2.358252383068562e-157, '1672': 1.3762729728797584e-157, '1673': 8.028703153699053e-158, '1674': 4.681798742005778e-158, '1675': 2.7290192545221754e-158, '1676': 1.5901093025536086e-158, '1677': 9.261341013352845e-159, '1678': 5.391967821036423e-159, '1679': 3.137958718185215e-159, '1680': 1.8254657035206972e-159, '1681': 1.0615162515780128e-159, '1682': 6.170297930228373e-160, '1683': 3.585189681897879e-160, '1684': 2.0823065151617226e-160, '1685': 1.208937068630303e-160, '1686': 7.015994602480069e-161, '1687': 4.070064706598586e-161, '1688': 2.360151580684637e-161, '1689': 1.3680595239892685e-161, '1690': 7.926776364286638e-162, '1691': 4.591078639443397e-162, '1692': 2.6580268982592793e-162, '1693': 1.5382627545755188e-162, '1694': 8.898733303080603e-163, '1695': 5.145793690903919e-163, '1696': 2.9744252670891313e-163, '1697': 1.7186215980497002e-163, '1698': 9.926221925161902e-164, '1699': 5.7307862145445894e-164, '1700': 3.3072798542719694e-164, '1701': 1.907893788810941e-164, '1702': 1.1001805258701977e-164, '1703': 6.341620112580677e-165, '1704': 3.6539533768494946e-165, '1705': 2.1045162820559118e-165, '1706': 1.2116246150033327e-165, '1707': 6.972851146799885e-166, '1708': 4.011245187919287e-166, '1709': 2.3066119207960828e-166, '1710': 1.3258560145562248e-166, '1711': 7.61806548388756e-167, '1712': 4.375417979395979e-167, '1713': 2.512007313704486e-167, '1714': 1.4416132274515302e-167, '1715': 8.269954567915944e-168, '1716': 4.742245081911307e-168, '1717': 2.71826236019819e-168, '1718': 1.5574899516257092e-168, '1719': 8.920426933658952e-169, '1720': 5.107078481648411e-169, '1721': 2.9227113602165583e-169, '1722': 1.6719597854239664e-169, '1723': 9.560755916147329e-170, '1724': 5.464936722970819e-170, '1725': 3.1225151027875496e-170, '1726': 1.783406972448033e-170, '1727': 1.0181760456029933e-170, '1728': 5.810610872858368e-171, '1729': 3.314722767971667e-171, '1730': 1.8901624525010437e-171, '1731': 1.0774014442815274e-171, '1732': 6.138785743579017e-172, '1733': 3.496341932980527e-172, '1734': 1.9905441845878644e-172, '1735': 1.1328078382761046e-172, '1736': 6.444172662920586e-173, '1737': 3.6644144785275945e-173, '1738': 2.0829004395585296e-173, '1739': 1.1834745730532919e-173, '1740': 6.721649305341952e-174, '1741': 3.8160957785161387e-174, '1742': 2.1656545419320007e-174, '1743': 1.2285295083074856e-174, '1744': 6.966401507089722e-175, '1745': 3.9487342545413495e-175, '1746': 2.2373493887499267e-175, '1747': 1.267173868631328e-175, '1748': 7.174061629195146e-176, '1749': 4.0599482104715284e-176, '1750': 2.296690000521087e-176, '1751': 1.2987057415235644e-176, '1752': 7.340837937648482e-177, '1753': 4.147696848284164e-177, '1754': 2.3425823736634055e-177, '1755': 1.3225412594774581e-177, '1756': 7.463629657597244e-178, '1757': 4.2103425118731847e-178, '1758': 2.3741670081505196e-178, '1759': 1.3382325740791133e-178, '1760': 7.540122828425931e-179, '1761': 4.246701508419722e-179, '1762': 2.3908456756219743e-179, '1763': 1.345481849401688e-179, '1764': 7.568862821207378e-180, '1765': 4.256081304439725e-180, '1766': 2.3923002634634493e-180, '1767': 1.3441506639143335e-180, '1768': 7.549300343780955e-181, '1769': 4.238302463683255e-181, '1770': 2.3785028656178124e-181, '1771': 1.334264406286975e-181, '1772': 7.481808900779985e-182, '1773': 4.193704356005534e-182, '1774': 2.3497166729539282e-182, '1775': 1.3160114700649876e-182, '1776': 7.367672933300689e-183, '1777': 4.123134383492375e-183, '1778': 2.3064876235085386e-183, '1779': 1.2897372829055377e-183, '1780': 7.209047164338874e-184, '1781': 4.0279212016519233e-184, '1782': 2.24962718266774e-184, '1783': 1.255933434736465e-184, '1784': 7.008888947681709e-185, '1785': 3.909833117922849e-185, '1786': 2.1801870120850685e-185, '1787': 1.2152223828678298e-185, '1788': 6.770866587517368e-186, '1789': 3.771023487147272e-186, '1790': 2.099426631929097e-186, '1791': 1.168338398770154e-186, '1792': 6.499247598557806e-187, '1793': 3.613965458976266e-187, '1794': 2.008775465099844e-187, '1795': 1.1161055708791416e-187, '1796': 6.198771658613808e-188, '1797': 3.441378837246959e-188, '1798': 1.9097908595765836e-188, '1799': 1.059413782778947e-188, '1800': 5.874513528501068e-189, '1801': 3.2561520667355445e-189, '1802': 1.804113806614627e-189, '1803': 9.991936419024345e-190, '1804': 5.531741456743064e-190, '1805': 3.0612624590072264e-190, '1806': 1.693424104094235e-190, '1807': 9.363913390536823e-191, '1808': 5.175776545329608e-191, '1809': 2.8596977069278783e-191, '1810': 1.5793966578607347e-191, '1811': 8.719443754306098e-192, '1812': 4.811858242477117e-192, '1813': 2.654381527391016e-192, '1814': 1.4636604764938752e-192, '1815': 8.067590061476851e-193, '1816': 4.445020579152157e-193, '1817': 2.4481059330280063e-193, '1818': 1.347761708492628e-193, '1819': 7.416901247354882e-194, '1820': 4.079983021798076e-194, '1821': 2.2434721921314147e-194, '1822': 1.2331318107583429e-194, '1823': 6.775241608101118e-195, '1824': 3.721058927093828e-195, '1825': 2.0428420225282426e-195, '1826': 1.1210616412685022e-195, '1827': 6.149653932657331e-196, '1828': 3.3720836141302153e-196, '1829': 1.8483000128585585e-196, '1830': 1.0126819557520639e-196, '1831': 5.546259045132998e-197, '1832': 3.0363630743119894e-197, '1833': 1.6616277067617062e-197, '1834': 9.089504764164216e-198, '1835': 4.970192277026804e-198, '1836': 2.7166433761002745e-198, '1837': 1.4842892528452768e-198, '1838': 8.106454072810938e-199, '1839': 4.425575777098033e-199, '1840': 2.415099940034215e-199, '1841': 1.317428042785588e-199, '1842': 7.183650097888879e-200, '1843': 3.9155241560809876e-200, '1844': 2.133345100006143e-200, '1845': 1.1618733528356527e-200, '1846': 6.325326352278718e-201, '1847': 3.4421798112199405e-201, '1848': 1.8724517587720424e-201, '1849': 1.0181556852147989e-201, '1850': 5.534064444960884e-202, '1851': 3.0067734179736423e-202, '1852': 1.6329905066304385e-202, '1853': 8.865292834414799e-203, '1854': 4.8109293447915e-203, '1855': 2.609704528264473e-203, '1856': 1.4150773074980955e-203, '1857': 7.670001710631989e-204, '1858': 4.1556333372054055e-204, '1859': 2.2506369709479582e-204, '1860': 1.218428760740633e-204, '1861': 6.593580319291887e-205, '1862': 3.5667192482207557e-205, '1863': 1.928603788204096e-205, '1864': 1.042422005095064e-205, '1865': 5.632103025606547e-206, '1866': 3.0417539115597953e-206, '1867': 1.6421167244368704e-206, '1868': 8.86156520627179e-207, '1869': 4.7801696999636e-207, '1870': 2.5775236308216676e-207, '1871': 1.3892757655851843e-207, '1872': 7.485153786944561e-208, '1873': 4.031247459173488e-208, '1874': 2.170224448445453e-208, '1875': 1.167874854221408e-208, '1876': 6.282238585749528e-209, '1877': 3.377995030368953e-209, '1878': 1.8156412814275125e-209, '1879': 9.755006259429697e-210, '1880': 5.2390376278989165e-210, '1881': 2.812560959168244e-210, '1882': 1.5093113273770975e-210, '1883': 8.096217738505511e-211, '1884': 4.34122192842581e-211, '1885': 2.3268493002446716e-211, '1886': 1.246668498693807e-211, '1887': 6.67667404218907e-212, '1888': 3.5743396810043595e-212, '1889': 1.912748764394391e-212, '1890': 1.0231669347018866e-212, '1891': 5.470934589004867e-213, '1892': 2.924172621642161e-213, '1893': 1.5623234422755746e-213, '1894': 8.343828139730063e-214, '1895': 4.454369184602947e-214, '1896': 2.377023776600021e-214, '1897': 1.2679651003367238e-214, '1898': 6.760947004200065e-215, '1899': 3.6035804359297357e-215, '1900': 1.919938714688921e-215, '1901': 1.0225085974565585e-215, '1902': 5.443434820522071e-216, '1903': 2.8967134911777633e-216, '1904': 1.5408647250892766e-216, '1905': 8.193131772044034e-217, '1906': 4.354735904704454e-217, '1907': 2.313663311144315e-217, '1908': 1.2287540227748403e-217, '1909': 6.523132504255065e-218, '1910': 3.4615762532157573e-218, '1911': 1.836191868688739e-218, '1912': 9.736181718485261e-219, '1913': 5.160428158635874e-219, '1914': 2.7340676450701914e-219, '1915': 1.4479688806799327e-219, '1916': 7.665414685442593e-220, '1917': 4.056379075250365e-220, '1918': 2.1456943918094558e-220, '1919': 1.1345500288807168e-220, '1920': 5.996611162786299e-221, '1921': 3.168214511698673e-221, '1922': 1.67320718572317e-221, '1923': 8.83306273815714e-222, '1924': 4.661217420257094e-222, '1925': 2.458747085515079e-222, '1926': 1.2964471182196516e-222, '1927': 6.833169698164931e-223, '1928': 3.600112372152529e-223, '1929': 1.8959913777393184e-223, '1930': 9.981208082585244e-224, '1931': 5.252382086251641e-224, '1932': 2.7628414524476544e-224, '1933': 1.452720499842242e-224, '1934': 7.635449627561997e-225, '1935': 4.011563000922306e-225, '1936': 2.106779418720558e-225, '1937': 1.105989403449435e-225, '1938': 5.803758245886838e-226, '1939': 3.044346701795332e-226, '1940': 1.5962663356454527e-226, '1941': 8.366485208511938e-227, '1942': 4.383360486751183e-227, '1943': 2.2956082509044565e-227, '1944': 1.2017518882681655e-227, '1945': 6.288662631566566e-228, '1946': 3.28948740137901e-228, '1947': 1.719984784567324e-228, '1948': 8.98974617103708e-229, '1949': 4.696741957483288e-229, '1950': 2.4528580607479704e-229, '1951': 1.2804852527687033e-229, '1952': 6.681949522013683e-230, '1953': 3.485445093267553e-230, '1954': 1.8173549001110254e-230, '1955': 9.472130925718699e-231, '1956': 4.934942348803212e-231, '1957': 2.5700579716307766e-231, '1958': 1.3379201682957085e-231, '1959': 6.962158816595942e-232, '1960': 3.621463360879841e-232, '1961': 1.88300168935067e-232, '1962': 9.786868827459372e-233, '1963': 5.084675820798168e-233, '1964': 2.64064010226761e-233, '1965': 1.3708236960739548e-233, '1966': 7.113452482956627e-234, '1967': 3.68982449471608e-234, '1968': 1.9131870260643236e-234, '1969': 9.91597874662282e-235, '1970': 5.137362245771075e-235, '1971': 2.6605488325830083e-235, '1972': 1.3773005510968196e-235, '1973': 7.127096675391817e-236, '1974': 3.686574544550204e-236, '1975': 1.906162105890919e-236, '1976': 9.851970085160194e-237, '1977': 5.089941352956269e-237, '1978': 2.628626689287904e-237, '1979': 1.3569738812582218e-237, '1980': 7.002296631667356e-238, '1981': 3.611902019146448e-238, '1982': 1.8623352211112433e-238, '1983': 9.59856241037595e-239, '1984': 4.9451670736789525e-239, '1985': 2.546725778456888e-239, '1986': 1.3110215759410742e-239, '1987': 6.74627333039662e-240, '1988': 3.470119780079424e-240, '1989': 1.7842324656373408e-240, '1990': 9.170327537340687e-241, '1991': 4.711342706564493e-241, '1992': 2.4195298427446986e-241, '1993': 1.2420632380885376e-241, '1994': 6.373571624352466e-242, '1995': 3.269252548734674e-242, '1996': 1.6762566307520768e-242, '1997': 8.591301967142163e-243, '1998': 4.401532329076338e-243, '1999': 2.2541107240196266e-243, '2000': 1.1539129066625488e-243, '2001': 5.904692061007746e-244, '2002': 3.020284905243973e-244, '2003': 1.5442763024324767e-244, '2004': 7.89275347271341e-245, '2005': 4.032352634547691e-245, '2006': 2.0592776552521597e-245, '2007': 1.051229996666964e-245, '2008': 5.364225397130492e-246, '2009': 2.736167790475152e-246, '2010': 1.3950984919654344e-246, '2011': 7.110390408319529e-247, '2012': 3.622500544617723e-247, '2013': 1.844802617557776e-247, '2014': 9.391128586170374e-248, '2015': 4.77872569311346e-248, '2016': 2.430708338087152e-248, '2017': 1.2358906116423285e-248, '2018': 6.281359485836889e-249, '2019': 3.1911976112434103e-249, '2020': 1.6206162172292202e-249, '2021': 8.226840847469825e-250, '2022': 4.1745766896212956e-250, '2023': 2.1174746722557718e-250, '2024': 1.0736196146383397e-250, '2025': 5.441380332094071e-251, '2026': 2.756729538804371e-251, '2027': 1.3960650954987778e-251, '2028': 7.067138618045782e-252, '2029': 3.5760862290134657e-252, '2030': 1.8088343054071673e-252, '2031': 9.145680405841164e-253, '2032': 4.622316581780379e-253, '2033': 2.3352306584546932e-253, '2034': 1.1793054652208399e-253, '2035': 5.9531834965630305e-254, '2036': 3.0039912090219507e-254, '2037': 1.515215749410518e-254, '2038': 7.63970737781901e-255, '2039': 3.8503960433218616e-255, '2040': 1.9398158796032722e-255, '2041': 9.768818652682149e-256, '2042': 4.917563923676663e-256, '2043': 2.474482630931474e-256, '2044': 1.244644242124402e-256, '2045': 6.257955747615185e-257, '2046': 3.14518481176149e-257, '2047': 1.5801062111413099e-257, '2048': 7.935107577698484e-258, '2049': 3.983325401371177e-258, '2050': 1.9987808528692137e-258, '2051': 1.0025614539247831e-258, '2052': 5.026703314751497e-259, '2053': 2.5193118570452225e-259, '2054': 1.2621385607199292e-259, '2055': 6.320603791687548e-260, '2056': 3.164000373976436e-260, '2057': 1.5832187032250036e-260, '2058': 7.919025180187963e-261, '2059': 3.9593962050667557e-261, '2060': 1.9788488704953051e-261, '2061': 9.886048080264186e-262, '2062': 4.936955756032362e-262, '2063': 2.4644622936906322e-262, '2064': 1.2297350346364715e-262, '2065': 6.133767919618314e-263, '2066': 3.058225876900748e-263, '2067': 1.5241868233078616e-263, '2068': 7.593347439654202e-264, '2069': 3.781418683155701e-264, '2070': 1.882359993516478e-264, '2071': 9.366493302770058e-265, '2072': 4.6588399840297466e-265}\n"
     ]
    }
   ],
   "source": [
    "# Load precomputed json stuff          \n",
    "with open('positional_index.json') as json_data:\n",
    "    positional_index = json.load(json_data)\n",
    "    \n",
    "with open('best_1000_docs_per_query.json') as f:\n",
    "    best_1000_docs_per_query = json.load(f)\n",
    "\n",
    "with open('gaussian_kernel.json') as f:\n",
    "    gaussian_kernel = json.load(f)\n",
    "\n",
    "with open('gaussian_cdf_kernel.json') as f:\n",
    "    gaussian_cdf_kernel = json.load(f)"
   ]
  },
  {
   "cell_type": "code",
   "execution_count": 76,
   "metadata": {},
   "outputs": [],
   "source": [
    "import time\n",
    "import itertools\n",
    "from operator import itemgetter\n",
    "from collections import defaultdict\n",
    "\n",
    "\n",
    "def run_retrieval(model_name, score_fn, **parameters):\n",
    "    \"\"\"\n",
    "    Runs a retrieval method for all the queries and writes the TREC-friendly results in a file.\n",
    "    \n",
    "    :param model_name: the name of the model (a string)\n",
    "    :param score_fn: the scoring function (a function - see below for an example) \n",
    "    \"\"\"\n",
    "    run_out_path = '{}.run'.format(model_name)\n",
    "    print(run_out_path)\n",
    "    if os.path.exists(run_out_path):\n",
    "        print(\"There already exists a data file for this path\")\n",
    "        return\n",
    "\n",
    "    retrieval_start_time = time.time()\n",
    "\n",
    "    print('Retrieving using', model_name)\n",
    "    data = defaultdict(list)\n",
    "    best_docs_per_query = defaultdict(list)\n",
    "    queries_done = 0\n",
    "    for query_id, query_term_ids in tokenized_queries.items():\n",
    "        for doc_id, _ in best_1000_docs_per_query[query_id]:\n",
    "            score = score_fn(doc_id, query_term_ids, **parameters)\n",
    "            data[query_id].append((doc_id, str(score)))\n",
    "        queries_done += 1\n",
    "        print(queries_done, \"queries run on the top 1000 documents\")\n",
    "        \n",
    "    ## Write data to file    \n",
    "    with open(run_out_path, 'w') as f_out:\n",
    "        write_run(\n",
    "            model_name=model_name,\n",
    "            data=data,\n",
    "            out_f=f_out,\n",
    "            max_objects_per_query=1000)\n",
    "        \n",
    "    return data"
   ]
  },
  {
   "cell_type": "code",
   "execution_count": 88,
   "metadata": {},
   "outputs": [
    {
     "name": "stdout",
     "output_type": "stream",
     "text": [
      "plm_model.run\n",
      "Retrieving using plm_model\n",
      "1 queries run on the top 10 documents\n",
      "2 queries run on the top 10 documents\n",
      "3 queries run on the top 10 documents\n",
      "4 queries run on the top 10 documents\n",
      "5 queries run on the top 10 documents\n",
      "6 queries run on the top 10 documents\n",
      "7 queries run on the top 10 documents\n",
      "8 queries run on the top 10 documents\n",
      "9 queries run on the top 10 documents\n",
      "10 queries run on the top 10 documents\n",
      "11 queries run on the top 10 documents\n",
      "12 queries run on the top 10 documents\n",
      "13 queries run on the top 10 documents\n",
      "14 queries run on the top 10 documents\n",
      "15 queries run on the top 10 documents\n",
      "16 queries run on the top 10 documents\n",
      "17 queries run on the top 10 documents\n",
      "18 queries run on the top 10 documents\n",
      "19 queries run on the top 10 documents\n",
      "20 queries run on the top 10 documents\n",
      "21 queries run on the top 10 documents\n",
      "22 queries run on the top 10 documents\n",
      "23 queries run on the top 10 documents\n",
      "24 queries run on the top 10 documents\n",
      "25 queries run on the top 10 documents\n",
      "26 queries run on the top 10 documents\n",
      "27 queries run on the top 10 documents\n",
      "28 queries run on the top 10 documents\n",
      "29 queries run on the top 10 documents\n",
      "30 queries run on the top 10 documents\n",
      "31 queries run on the top 10 documents\n",
      "32 queries run on the top 10 documents\n",
      "33 queries run on the top 10 documents\n",
      "34 queries run on the top 10 documents\n",
      "35 queries run on the top 10 documents\n",
      "36 queries run on the top 10 documents\n",
      "37 queries run on the top 10 documents\n",
      "38 queries run on the top 10 documents\n",
      "39 queries run on the top 10 documents\n",
      "40 queries run on the top 10 documents\n",
      "41 queries run on the top 10 documents\n",
      "42 queries run on the top 10 documents\n",
      "43 queries run on the top 10 documents\n",
      "44 queries run on the top 10 documents\n",
      "45 queries run on the top 10 documents\n",
      "46 queries run on the top 10 documents\n",
      "47 queries run on the top 10 documents\n",
      "48 queries run on the top 10 documents\n",
      "49 queries run on the top 10 documents\n",
      "50 queries run on the top 10 documents\n",
      "51 queries run on the top 10 documents\n",
      "52 queries run on the top 10 documents\n",
      "53 queries run on the top 10 documents\n",
      "54 queries run on the top 10 documents\n",
      "55 queries run on the top 10 documents\n",
      "56 queries run on the top 10 documents\n",
      "57 queries run on the top 10 documents\n",
      "58 queries run on the top 10 documents\n",
      "59 queries run on the top 10 documents\n",
      "60 queries run on the top 10 documents\n",
      "61 queries run on the top 10 documents\n",
      "62 queries run on the top 10 documents\n",
      "63 queries run on the top 10 documents\n",
      "64 queries run on the top 10 documents\n",
      "65 queries run on the top 10 documents\n",
      "66 queries run on the top 10 documents\n",
      "67 queries run on the top 10 documents\n",
      "68 queries run on the top 10 documents\n",
      "69 queries run on the top 10 documents\n",
      "70 queries run on the top 10 documents\n",
      "71 queries run on the top 10 documents\n",
      "72 queries run on the top 10 documents\n",
      "73 queries run on the top 10 documents\n",
      "74 queries run on the top 10 documents\n",
      "75 queries run on the top 10 documents\n",
      "76 queries run on the top 10 documents\n",
      "77 queries run on the top 10 documents\n",
      "78 queries run on the top 10 documents\n",
      "79 queries run on the top 10 documents\n",
      "80 queries run on the top 10 documents\n",
      "81 queries run on the top 10 documents\n",
      "82 queries run on the top 10 documents\n",
      "83 queries run on the top 10 documents\n",
      "84 queries run on the top 10 documents\n",
      "85 queries run on the top 10 documents\n",
      "86 queries run on the top 10 documents\n",
      "87 queries run on the top 10 documents\n",
      "88 queries run on the top 10 documents\n",
      "89 queries run on the top 10 documents\n",
      "90 queries run on the top 10 documents\n",
      "91 queries run on the top 10 documents\n",
      "92 queries run on the top 10 documents\n",
      "93 queries run on the top 10 documents\n",
      "94 queries run on the top 10 documents\n",
      "95 queries run on the top 10 documents\n",
      "96 queries run on the top 10 documents\n",
      "97 queries run on the top 10 documents\n",
      "98 queries run on the top 10 documents\n",
      "99 queries run on the top 10 documents\n",
      "100 queries run on the top 10 documents\n",
      "101 queries run on the top 10 documents\n",
      "102 queries run on the top 10 documents\n",
      "103 queries run on the top 10 documents\n",
      "104 queries run on the top 10 documents\n",
      "105 queries run on the top 10 documents\n",
      "106 queries run on the top 10 documents\n",
      "107 queries run on the top 10 documents\n",
      "108 queries run on the top 10 documents\n",
      "109 queries run on the top 10 documents\n",
      "110 queries run on the top 10 documents\n",
      "111 queries run on the top 10 documents\n",
      "112 queries run on the top 10 documents\n",
      "113 queries run on the top 10 documents\n",
      "114 queries run on the top 10 documents\n",
      "115 queries run on the top 10 documents\n",
      "116 queries run on the top 10 documents\n",
      "117 queries run on the top 10 documents\n",
      "118 queries run on the top 10 documents\n",
      "119 queries run on the top 10 documents\n",
      "120 queries run on the top 10 documents\n",
      "121 queries run on the top 10 documents\n",
      "122 queries run on the top 10 documents\n",
      "123 queries run on the top 10 documents\n",
      "124 queries run on the top 10 documents\n",
      "125 queries run on the top 10 documents\n",
      "126 queries run on the top 10 documents\n",
      "127 queries run on the top 10 documents\n",
      "128 queries run on the top 10 documents\n",
      "129 queries run on the top 10 documents\n",
      "130 queries run on the top 10 documents\n",
      "131 queries run on the top 10 documents\n",
      "132 queries run on the top 10 documents\n",
      "133 queries run on the top 10 documents\n",
      "134 queries run on the top 10 documents\n",
      "135 queries run on the top 10 documents\n",
      "136 queries run on the top 10 documents\n",
      "137 queries run on the top 10 documents\n",
      "138 queries run on the top 10 documents\n",
      "139 queries run on the top 10 documents\n",
      "140 queries run on the top 10 documents\n",
      "141 queries run on the top 10 documents\n",
      "142 queries run on the top 10 documents\n",
      "143 queries run on the top 10 documents\n",
      "144 queries run on the top 10 documents\n",
      "145 queries run on the top 10 documents\n",
      "146 queries run on the top 10 documents\n",
      "147 queries run on the top 10 documents\n",
      "148 queries run on the top 10 documents\n",
      "149 queries run on the top 10 documents\n",
      "150 queries run on the top 10 documents\n"
     ]
    }
   ],
   "source": [
    "from scipy.stats import norm\n",
    "import numpy as np\n",
    "\n",
    "def tfidf(int_document_id, query_term_id, **parameters):\n",
    "    \"\"\"\n",
    "    Scoring function for a document and a query term\n",
    "    \n",
    "    :param int_document_id: the document id\n",
    "    :param query_token_id: the query term id (assuming you have split the query to tokens)\n",
    "    :param document_term_freq: the document term frequency of the query term \n",
    "    \"\"\"\n",
    "    # TODO implement the function\n",
    "    term_frequency = inverted_index[query_term_id].get(int_document_id, 0)\n",
    "    doc_frequency = len(inverted_index[query_term_id])\n",
    "    score = np.log(1 + term_frequency) * np.log(num_documents / doc_frequency) if doc_frequency != 0 else 0\n",
    "    return score\n",
    "\n",
    "# combining the two functions above: \n",
    "# run_retrieval('tfidf', tfidf)\n",
    "\n",
    "# TODO implement the rest of the retrieval functions \n",
    "def bm25(int_document_id, query_term_id, **parameters):\n",
    "    tf = inverted_index[query_term_id].get(int_doc_idcument_id, 0)\n",
    "    doc_frequency = len(inverted_index[query_term_id])\n",
    "    idf = np.log(num_documents/doc_frequency) if doc_frequency != 0 else 0\n",
    "    ld = document_lengths[int_document_id]\n",
    "    lavg = avg_doc_length\n",
    "    score = 0\n",
    "    for token in tokenized_queries[query_term_id]:\n",
    "        score += ((k1+1)*tf)/(k1*((1-b)+b*(ld/lavg))*tf)\n",
    "    return score\n",
    "\n",
    "def jelinek_mercer(int_document_id, query_term_id, document_term_freq, l=0.5):\n",
    "    tfd = inverted_index[query_term_id].get(int_doc_idcument_id, 0)\n",
    "    tfc = collection_frequencies[query_term_id]\n",
    "    ld = document_lengths[int_document_id]\n",
    "    return np.log((1-l)*(tfd/ld)+l*(tfc/total_terms))\n",
    "\n",
    "def dirichlet(int_document_id, query_term_id, document_term_freq, mu=1000):\n",
    "    tfd = inverted_index[query_term_id].get(int_doc_idcument_id, 0)\n",
    "    tfc = collection_frequencies[query_term_id]\n",
    "    ld = document_lengths[int_document_id]\n",
    "    return np.log((tfd+mu*(tfc/total_terms))/(ld+mu))\n",
    "\n",
    "def gaussian_cdf(N, i, sigma=50):\n",
    "    '''\n",
    "    Return cumulative propagation to position i. \n",
    "    '''\n",
    "    return np.sqrt(2*np.pi*sigma**2)*((norm.cdf((N-i)/sigma)-norm.cdf((1-i)/sigma)))\n",
    "\n",
    "def gaussian(i, j, sigma=50):\n",
    "    '''\n",
    "    Return propagation from position j to i.\n",
    "    '''\n",
    "    return np.exp((-(j-i)**2)/(2*sigma**2))\n",
    "    \n",
    "## TODO implement other kernels\n",
    "def plm(int_document_id, query_term_ids, **parameters):\n",
    "    query_score_for_position = defaultdict(int)\n",
    "    d = index.document(int_document_id)\n",
    "    ld = document_lengths[int_document_id]\n",
    "    kernel_type = parameters['kernel_type']\n",
    "    mu = parameters['mu']\n",
    "        \n",
    "    ## Find the virtual word count at each position for every word in the query\n",
    "    for j, word_id in enumerate(d[1]):\n",
    "        for q in query_term_ids:\n",
    "            matching_indices = positional_index.get(int_document_id, {}).get(q, [])\n",
    "            tfp = sum((gaussian_kernel[str(j)][str(i)]) for i in\n",
    "                      matching_indices) # virtual term frequency for position j\n",
    "            ## Calculate language model scores\n",
    "            z = gaussian_cdf_kernel[str(ld)][str(j)] # cumulative propagation to position j          \n",
    "            collection_probability = collection_frequencies[q]/total_terms\n",
    "            query_term_probability = np.log((tfp+mu*collection_probability)/(z+mu))\n",
    "            query_score_for_position[j] += query_term_probability\n",
    "            \n",
    "    best_position = max(query_score_for_position, key=query_score_for_position.get)  \n",
    "    print(\"position:\", best_position, '\\t', \"score:\", query_score_for_position[best_position])\n",
    "    return query_score_for_position[best_position]\n",
    "\n",
    "## to be continued...\n",
    "def mu_loss(mu):\n",
    "    data = run_retrieval('plm_model', plm, mu=mu, kernel_type=gaussian)\n",
    "    print(\"Calculating loss for mu =\", mu)\n",
    "    scores = [float(pair[1][1]) for pair in data.values()]\n",
    "    best = max(scores)\n",
    "    non_normalized_total = sum(scores)\n",
    "    print(\"non-normalized total:\", non_normalized_total)\n",
    "\n",
    "# mu_loss(500)\n",
    "mu_loss(1000)\n",
    "# mu_loss(1500)"
   ]
  },
  {
   "cell_type": "markdown",
   "metadata": {},
   "source": [
    "### Task 2: Latent Semantic Models (LSMs) [15 points] ###\n",
    "\n",
    "In this task you will experiment with applying distributional semantics methods ([LSI](http://lsa3.colorado.edu/papers/JASIS.lsi.90.pdf) **[5 points]** and [LDA](https://www.cs.princeton.edu/~blei/papers/BleiNgJordan2003.pdf) **[5 points]**) for retrieval.\n",
    "\n",
    "You do not need to implement LSI or LDA on your own. Instead, you can use [gensim](http://radimrehurek.com/gensim/index.html). An example on how to integrate Pyndri with Gensim for word2vec can be found [here](https://github.com/cvangysel/pyndri/blob/master/examples/word2vec.py). For the remaining latent vector space models, you will need to implement connector classes (such as `IndriSentences`) by yourself.\n",
    "\n",
    "In order to use a latent semantic model for retrieval, you need to:\n",
    "   * build a representation of the query **q**,\n",
    "   * build a representation of the document **d**,\n",
    "   * calculate the similarity between **q** and **d** (e.g., cosine similarity, KL-divergence).\n",
    "     \n",
    "The exact implementation here depends on the latent semantic model you are using. \n",
    "   \n",
    "Each of these LSMs come with various hyperparameters to tune. Make a choice on the parameters, and explicitly mention the reasons that led you to these decisions. You can use the validation set to optimize hyper parameters you see fit; motivate your decisions. In addition, mention clearly how the query/document representations were constructed for each LSM and explain your choices.\n",
    "\n",
    "In this experiment, you will first obtain an initial top-1000 ranking for each query using TF-IDF in **Task 1**, and then re-rank the documents using the LSMs. Use TREC Eval to obtain the results and report on `NDCG@10`, Mean Average Precision (`MAP@1000`), `Precision@5` and `Recall@1000`.\n",
    "\n",
    "Perform significance testing **[5 points]** (similar as in Task 1) in the class of semantic matching methods."
   ]
  },
  {
   "cell_type": "code",
   "execution_count": null,
   "metadata": {
    "collapsed": true
   },
   "outputs": [],
   "source": []
  },
  {
   "cell_type": "markdown",
   "metadata": {},
   "source": [
    "### Task 3:  Word embeddings for ranking [20 points] (open-ended) ###\n",
    "\n",
    "First create word embeddings on the corpus we provided using [word2vec](http://arxiv.org/abs/1411.2738) -- [gensim implementation](https://radimrehurek.com/gensim/models/word2vec.html). You should extract the indexed documents using pyndri and provide them to gensim for training a model (see example [here](https://github.com/nickvosk/pyndri/blob/master/examples/word2vec.py)).\n",
    "   \n",
    "This is an open-ended task. It is left up you to decide how you will combine word embeddings to derive query and document representations. Note that since we provide the implementation for training word2vec, you will be graded based on your creativity on combining word embeddings for building query and document representations.\n",
    "\n",
    "Note: If you want to experiment with pre-trained word embeddings on a different corpus, you can use the word embeddings we provide alongside the assignment (./data/reduced_vectors_google.txt.tar.gz). These are the [google word2vec word embeddings](https://code.google.com/archive/p/word2vec/), reduced to only the words that appear in the document collection we use in this assignment."
   ]
  },
  {
   "cell_type": "code",
   "execution_count": null,
   "metadata": {
    "collapsed": true
   },
   "outputs": [],
   "source": []
  },
  {
   "cell_type": "markdown",
   "metadata": {},
   "source": [
    "### Task 4: Learning to rank (LTR) [15 points] (open-ended) ###\n",
    "\n",
    "In this task you will get an introduction into learning to rank for information retrieval.\n",
    "\n",
    "You can explore different ways for devising features for the model. Obviously, you can use the retrieval methods you implemented in Task 1, Task 2 and Task 3 as features. Think about other features you can use (e.g. query/document length). Creativity on devising new features and providing motivation for them will be taken into account when grading.\n",
    "\n",
    "For every query, first create a document candidate set using the top-1000 documents using TF-IDF, and subsequently compute features given a query and a document. Note that the feature values of different retrieval methods are likely to be distributed differently.\n",
    "\n",
    "You are adviced to start some pointwise learning to rank algorithm e.g. logistic regression, implemented in [scikit-learn](http://scikit-learn.org/stable/modules/generated/sklearn.linear_model.LogisticRegression.html).\n",
    "Train your LTR model using 10-fold cross validation on the test set. More advanced learning to rank algorithms will be appreciated when grading."
   ]
  },
  {
   "cell_type": "code",
   "execution_count": null,
   "metadata": {
    "collapsed": true
   },
   "outputs": [],
   "source": []
  },
  {
   "cell_type": "markdown",
   "metadata": {
    "collapsed": true
   },
   "source": [
    "### Task 4: Write a report [15 points; instant FAIL if not provided] ###\n",
    "\n",
    "The report should be a PDF file created using the [sigconf ACM template](https://www.acm.org/publications/proceedings-template) and will determine a significant part of your grade.\n",
    "\n",
    "   * It should explain what you have implemented, motivate your experiments and detail what you expect to learn from them. **[10 points]**\n",
    "   * Lastly, provide a convincing analysis of your results and conclude the report accordingly. **[10 points]**\n",
    "      * Do all methods perform similarly on all queries? Why?\n",
    "      * Is there a single retrieval model that outperforms all other retrieval models (i.e., silver bullet)?\n",
    "      * ...\n",
    "\n",
    "**Hand in the report and your self-contained implementation source files.** Only send us the files that matter, organized in a well-documented zip/tgz file with clear instructions on how to reproduce your results. That is, we want to be able to regenerate all your results with minimal effort. You can assume that the index and ground-truth information is present in the same file structure as the one we have provided.\n"
   ]
  },
  {
   "cell_type": "code",
   "execution_count": null,
   "metadata": {
    "collapsed": true
   },
   "outputs": [],
   "source": []
  }
 ],
 "metadata": {
  "anaconda-cloud": {},
  "kernelspec": {
   "display_name": "Python 3",
   "language": "python",
   "name": "python3"
  },
  "language_info": {
   "codemirror_mode": {
    "name": "ipython",
    "version": 3
   },
   "file_extension": ".py",
   "mimetype": "text/x-python",
   "name": "python",
   "nbconvert_exporter": "python",
   "pygments_lexer": "ipython3",
   "version": "3.6.3"
  }
 },
 "nbformat": 4,
 "nbformat_minor": 1
}
