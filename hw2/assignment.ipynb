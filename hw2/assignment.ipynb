{
 "cells": [
  {
   "cell_type": "markdown",
   "metadata": {},
   "source": [
    "# Information Retrieval 1#\n",
    "## Assignment 2: Retrieval models [100 points] ##"
   ]
  },
  {
   "cell_type": "markdown",
   "metadata": {},
   "source": [
    "In this assignment you will get familiar with basic and advanced information retrieval concepts. You will implement different information retrieval ranking models and evaluate their performance.\n",
    "\n",
    "We provide you with a Indri index. To query the index, you'll use a Python package ([pyndri](https://github.com/cvangysel/pyndri)) that allows easy access to the underlying document statistics.\n",
    "\n",
    "For evaluation you'll use the [TREC Eval](https://github.com/usnistgov/trec_eval) utility, provided by the National Institute of Standards and Technology of the United States. TREC Eval is the de facto standard way to compute Information Retrieval measures and is frequently referenced in scientific papers.\n",
    "\n",
    "This is a **groups-of-three assignment**, the deadline is **Wednesday, January 31st**. Code quality, informative comments and convincing analysis of the results will be considered when grading. Submission should be done through blackboard, questions can be asked on the course [Piazza](piazza.com/university_of_amsterdam/spring2018/52041inr6y/home).\n",
    "\n",
    "### Technicalities (must-read!) ###\n",
    "\n",
    "The assignment directory is organized as follows:\n",
    "   * `./assignment.ipynb` (this file): the description of the assignment.\n",
    "   * `./index/`: the index we prepared for you.\n",
    "   * `./ap_88_90/`: directory with ground-truth and evaluation sets:\n",
    "      * `qrel_test`: test query relevance collection (**test set**).\n",
    "      * `qrel_validation`: validation query relevance collection (**validation set**).\n",
    "      * `topics_title`: semicolon-separated file with query identifiers and terms.\n",
    "\n",
    "You will need the following software packages (tested with Python 3.5 inside [Anaconda](https://conda.io/docs/user-guide/install/index.html)):\n",
    "   * Python 3.5 and Jupyter\n",
    "   * Indri + Pyndri (Follow the installation instructions [here](https://github.com/nickvosk/pyndri/blob/master/README.md))\n",
    "   * gensim [link](https://radimrehurek.com/gensim/install.html)\n",
    "   * TREC Eval [link](https://github.com/usnistgov/trec_eval)"
   ]
  },
  {
   "cell_type": "markdown",
   "metadata": {},
   "source": [
    "### TREC Eval primer ###\n",
    "The TREC Eval utility can be downloaded and compiled as follows:\n",
    "\n",
    "    git clone https://github.com/usnistgov/trec_eval.git\n",
    "    cd trec_eval\n",
    "    make\n",
    "\n",
    "TREC Eval computes evaluation scores given two files: ground-truth information regarding relevant documents, named *query relevance* or *qrel*, and a ranking of documents for a set of queries, referred to as a *run*. The *qrel* will be supplied by us and should not be changed. For every retrieval model (or combinations thereof) you will generate a run of the top-1000 documents for every query. The format of the *run* file is as follows:\n",
    "\n",
    "    $query_identifier Q0 $document_identifier $rank_of_document_for_query $query_document_similarity $run_identifier\n",
    "    \n",
    "where\n",
    "   * `$query_identifier` is the unique identifier corresponding to a query (usually this follows a sequential numbering).\n",
    "   * `Q0` is a legacy field that you can ignore.\n",
    "   * `$document_identifier` corresponds to the unique identifier of a document (e.g., APXXXXXXX where AP denotes the collection and the Xs correspond to a unique numerical identifier).\n",
    "   * `$rank_of_document_for_query` denotes the rank of the document for the particular query. This field is ignored by TREC Eval and is only maintained for legacy support. The ranks are computed by TREC Eval itself using the `$query_document_similarity` field (see next). However, it remains good practice to correctly compute this field.\n",
    "   * `$query_document_similarity` is a score indicating the similarity between query and document where a higher score denotes greater similarity.\n",
    "   * `$run_identifier` is an identifier of the run. This field is for your own convenience and has no purpose beyond bookkeeping.\n",
    "   \n",
    "For example, say we have two queries: `Q1` and `Q2` and we rank three documents (`DOC1`, `DOC2`, `DOC3`). For query `Q1`, we find the following similarity scores `score(Q1, DOC1) = 1.0`, `score(Q1, DOC2) = 0.5`, `score(Q1, DOC3) = 0.75`; and for `Q2`: `score(Q2, DOC1) = -0.1`, `score(Q2, DOC2) = 1.25`, `score(Q1, DOC3) = 0.0`. We can generate run using the following snippet:"
   ]
  },
  {
   "cell_type": "code",
   "execution_count": 3,
   "metadata": {
    "scrolled": false
   },
   "outputs": [
    {
     "name": "stdout",
     "output_type": "stream",
     "text": [
      "Q1 Q0 DOC1 1 1.0 example\n",
      "Q1 Q0 DOC3 2 0.75 example\n",
      "Q1 Q0 DOC2 3 0.5 example\n",
      "Q2 Q0 DOC2 1 1.25 example\n",
      "Q2 Q0 DOC3 2 0.0 example\n",
      "Q2 Q0 DOC1 3 -0.1 example\n"
     ]
    }
   ],
   "source": [
    "import logging\n",
    "import collections\n",
    "import io\n",
    "import logging\n",
    "import sys\n",
    "import numpy as np\n",
    "import scipy\n",
    "import time\n",
    "import itertools\n",
    "from collections import defaultdict\n",
    "import os\n",
    "import subprocess\n",
    "import matplotlib.pyplot as plt\n",
    "\n",
    "def write_run(model_name, data, out_f,\n",
    "              max_objects_per_query=sys.maxsize,\n",
    "              skip_sorting=False):\n",
    "    \"\"\"\n",
    "    Write a run to an output file.\n",
    "    Parameters:\n",
    "        - model_name: identifier of run.\n",
    "        - data: dictionary mapping topic_id to object_assesments;\n",
    "            object_assesments is an iterable (list or tuple) of\n",
    "            (relevance, object_id) pairs.\n",
    "            The object_assesments iterable is sorted by decreasing order.\n",
    "        - out_f: output file stream.\n",
    "        - max_objects_per_query: cut-off for number of objects per query.\n",
    "    \"\"\"\n",
    "    for subject_id, object_assesments in data.items():\n",
    "        if not object_assesments:\n",
    "            logging.warning('Received empty ranking for %s; ignoring.',\n",
    "                            subject_id)\n",
    "\n",
    "            continue\n",
    "\n",
    "        # Probe types, to make sure everything goes alright.\n",
    "        # assert isinstance(object_assesments[0][0], float) or \\\n",
    "        #     isinstance(object_assesments[0][0], np.float32)\n",
    "        assert isinstance(object_assesments[0][1], str) or \\\n",
    "            isinstance(object_assesments[0][1], bytes)\n",
    "\n",
    "        if not skip_sorting:\n",
    "            object_assesments = sorted(object_assesments, reverse=True)\n",
    "\n",
    "        if max_objects_per_query < sys.maxsize:\n",
    "            object_assesments = object_assesments[:max_objects_per_query]\n",
    "\n",
    "        if isinstance(subject_id, bytes):\n",
    "            subject_id = subject_id.decode('utf8')\n",
    "\n",
    "        for rank, (relevance, object_id) in enumerate(object_assesments):\n",
    "            if isinstance(object_id, bytes):\n",
    "                object_id = object_id.decode('utf8')\n",
    "\n",
    "            out_f.write(\n",
    "                '{subject} Q0 {object} {rank} {relevance} '\n",
    "                '{model_name}\\n'.format(\n",
    "                    subject=subject_id,\n",
    "                    object=object_id,\n",
    "                    rank=rank + 1,\n",
    "                    relevance=relevance,\n",
    "                    model_name=model_name))\n",
    "            \n",
    "# The following writes the run to standard output.\n",
    "# In your code, you should write the runs to local\n",
    "# storage in order to pass them to trec_eval.\n",
    "write_run(\n",
    "    model_name='example',\n",
    "    data={\n",
    "        'Q1': ((1.0, 'DOC1'), (0.5, 'DOC2'), (0.75, 'DOC3')),\n",
    "        'Q2': ((-0.1, 'DOC1'), (1.25, 'DOC2'), (0.0, 'DOC3')),\n",
    "    },\n",
    "    out_f=sys.stdout,\n",
    "    max_objects_per_query=1000)"
   ]
  },
  {
   "cell_type": "markdown",
   "metadata": {},
   "source": [
    "Now, imagine that we know that `DOC1` is relevant and `DOC3` is non-relevant for `Q1`. In addition, for `Q2` we only know of the relevance of `DOC3`. The query relevance file looks like:\n",
    "\n",
    "    Q1 0 DOC1 1\n",
    "    Q1 0 DOC3 0\n",
    "    Q2 0 DOC3 1\n",
    "    \n",
    "We store the run and qrel in files `example.run` and `example.qrel` respectively on disk. We can now use TREC Eval to compute evaluation measures. In this example, we're only interested in Mean Average Precision and we'll only show this below for brevity. However, TREC Eval outputs much more information such as NDCG, recall, precision, etc.\n",
    "\n",
    "    $ trec_eval -m all_trec -q example.qrel example.run | grep -E \"^map\\s\"\n",
    "    > map                   \tQ1\t1.0000\n",
    "    > map                   \tQ2\t0.5000\n",
    "    > map                   \tall\t0.7500\n",
    "    \n",
    "Now that we've discussed the output format of rankings and how you can compute evaluation measures from these rankings, we'll now proceed with an overview of the indexing framework you'll use."
   ]
  },
  {
   "cell_type": "markdown",
   "metadata": {},
   "source": [
    "### Pyndri primer ###\n",
    "For this assignment you will use [Pyndri](https://github.com/cvangysel/pyndri) [[1](https://arxiv.org/abs/1701.00749)], a python interface for [Indri](https://www.lemurproject.org/indri.php). We have indexed the document collection and you can query the index using Pyndri. We will start by giving you some examples of what Pyndri can do:\n",
    "\n",
    "First we read the document collection index with Pyndri:"
   ]
  },
  {
   "cell_type": "code",
   "execution_count": 19,
   "metadata": {
    "collapsed": true,
    "scrolled": true
   },
   "outputs": [],
   "source": [
    "import pyndri\n",
    "\n",
    "index = pyndri.Index('index/')"
   ]
  },
  {
   "cell_type": "markdown",
   "metadata": {},
   "source": [
    "The loaded index can be used to access a collection of documents in an easy manner. We'll give you some examples to get some idea of what it can do, it is up to you to figure out how to use it for the remainder of the assignment.\n",
    "\n",
    "First let's look at the number of documents, since Pyndri indexes the documents using incremental identifiers we can simply take the lowest index and the maximum document and consider the difference:"
   ]
  },
  {
   "cell_type": "code",
   "execution_count": 20,
   "metadata": {},
   "outputs": [
    {
     "name": "stdout",
     "output_type": "stream",
     "text": [
      "There are 164597 documents in this collection.\n"
     ]
    }
   ],
   "source": [
    "print(\"There are %d documents in this collection.\" % (index.maximum_document() - index.document_base()))"
   ]
  },
  {
   "cell_type": "markdown",
   "metadata": {},
   "source": [
    "Let's take the first document out of the collection and take a look at it:"
   ]
  },
  {
   "cell_type": "code",
   "execution_count": 21,
   "metadata": {
    "scrolled": true
   },
   "outputs": [
    {
     "name": "stdout",
     "output_type": "stream",
     "text": [
      "('AP890425-0001', (1360, 192, 363, 0, 880, 0, 200, 0, 894, 412, 92160, 3, 192, 0, 363, 34, 1441, 0, 174134, 0, 200, 0, 894, 412, 2652, 0, 810, 107, 49, 4903, 420, 0, 1, 48, 35, 489, 0, 35, 687, 192, 243, 0, 249311, 1877, 0, 1651, 1174, 0, 2701, 117, 412, 0, 810, 391, 245233, 1225, 5838, 16, 0, 233156, 3496, 0, 393, 17, 0, 2435, 4819, 930, 0, 0, 200, 0, 894, 0, 22, 398, 145, 0, 3, 271, 115, 0, 1176, 2777, 292, 0, 725, 192, 0, 0, 50046, 0, 1901, 1130, 0, 192, 0, 408, 0, 243779, 0, 0, 553, 192, 0, 363, 0, 3747, 0, 0, 0, 0, 1176, 0, 1239, 0, 0, 1115, 17, 0, 0, 585, 192, 1963, 0, 0, 412, 54356, 0, 773, 0, 0, 0, 192, 0, 0, 1130, 0, 363, 0, 545, 192, 0, 1174, 1901, 1130, 0, 4, 398, 145, 39, 0, 577, 0, 355, 0, 491, 0, 6025, 0, 0, 193156, 88, 34, 437, 0, 0, 1852, 0, 828, 0, 1588, 0, 0, 0, 2615, 0, 0, 107, 49, 420, 0, 0, 190, 7, 714, 2701, 0, 237, 192, 157, 0, 412, 34, 437, 0, 0, 200, 6025, 26, 0, 0, 0, 0, 363, 0, 22, 398, 145, 0, 200, 638, 126222, 6018, 0, 880, 0, 0, 161, 0, 0, 319, 894, 2701, 0, 0, 0, 301, 1200, 0, 363, 251, 430, 0, 207, 0, 76143, 1773, 0, 243779, 0, 0, 72030, 0, 55, 4903, 420, 0, 2701, 1496, 420, 0, 25480, 0, 420, 0, 0, 200, 0, 392, 2949, 0, 1738, 0, 61, 0, 71, 79, 0, 200, 903, 0, 188, 53, 6, 0, 476, 2, 0, 2028, 97, 334, 0, 0, 200, 178, 0, 0, 107, 49, 0, 214, 0, 0, 0, 114, 3866, 1505, 195, 79893, 574, 0, 198, 2160, 0, 192, 0, 420, 0, 384, 0, 2701, 0, 114, 6025, 1549, 74627, 0, 238, 0, 0, 0, 3729, 0, 192, 0, 79893, 0, 0, 729, 3141, 129, 0, 192, 196764, 39, 0, 0, 714, 63, 0, 55, 420, 3356, 0, 0, 117, 412, 0, 0, 79758, 0, 1901, 1130, 4067, 2133, 0, 0, 875, 72, 0, 0, 336, 2789, 0, 0, 25, 920, 121, 104, 0, 3162, 0, 0, 420, 0, 2178, 0, 0, 386, 192545, 159306, 0, 0, 0, 1914, 0, 200, 0, 1794, 0, 2654, 0, 0, 25480, 420, 0, 2795, 0, 0, 229690, 0, 32559, 0, 0, 392, 253919, 0, 0, 0, 0, 379, 0, 0, 114, 0, 553, 10, 0, 1128, 0, 23610, 248, 151, 0, 418, 0, 651, 0, 36, 0, 0, 645, 0, 0, 513, 0, 0, 25480, 420, 34, 0, 0, 0, 15, 0, 3348, 0, 3496, 0, 35, 687, 0, 1, 48, 0, 0, 2803, 0, 0, 714, 1274, 0, 114, 62, 1006, 70268, 1200, 2357, 0, 497, 0, 497, 125, 0, 913, 4647, 3985, 0, 0, 3370, 245233, 0, 0, 687, 0, 4, 1288, 0, 0, 0, 0, 715, 0, 0, 687, 583, 0, 0, 1627, 0, 0, 11, 357, 1359, 0, 849, 0, 0, 1518, 462, 245233, 0, 0, 0, 0, 0, 0, 171, 70268, 0))\n"
     ]
    }
   ],
   "source": [
    "example_document = index.document(index.document_base())\n",
    "print(example_document)"
   ]
  },
  {
   "cell_type": "markdown",
   "metadata": {},
   "source": [
    "Here we see a document consists of two things, a string representing the external document identifier and an integer list representing the identifiers of words that make up the document. Pyndri uses integer representations for words or terms, thus a token_id is an integer that represents a word whereas the token is the actual text of the word/term. Every id has a unique token and vice versa with the exception of stop words: words so common that there are uninformative, all of these receive the zero id.\n",
    "\n",
    "To see what some ids and their matching tokens we take a look at the dictionary of the index:"
   ]
  },
  {
   "cell_type": "code",
   "execution_count": 22,
   "metadata": {},
   "outputs": [
    {
     "name": "stdout",
     "output_type": "stream",
     "text": [
      "[(1, 'new'), (2, 'percent'), (3, 'two'), (4, '1'), (5, 'people'), (6, 'million'), (7, '000'), (8, 'government'), (9, 'president'), (10, 'years'), (11, 'state'), (12, '2'), (13, 'states'), (14, 'three'), (15, 'time')]\n"
     ]
    }
   ],
   "source": [
    "token2id, id2token, _ = index.get_dictionary()\n",
    "print(list(id2token.items())[:15])"
   ]
  },
  {
   "cell_type": "markdown",
   "metadata": {},
   "source": [
    "Using this dictionary we can see the tokens for the (non-stop) words in our example document:"
   ]
  },
  {
   "cell_type": "code",
   "execution_count": 23,
   "metadata": {},
   "outputs": [
    {
     "name": "stdout",
     "output_type": "stream",
     "text": [
      "['52', 'students', 'arrested', 'takeover', 'university', 'massachusetts', 'building', 'fifty', 'two', 'students', 'arrested', 'tuesday', 'evening', 'occupying', 'university', 'massachusetts', 'building', 'overnight', 'protest', 'defense', 'department', 'funded', 'research', 'new', 'york', 'city', 'thousands', 'city', 'college', 'students', 'got', 'unscheduled', 'holiday', 'demonstrators', 'occupied', 'campus', 'administration', 'building', 'protest', 'possible', 'tuition', 'increases', 'prompting', 'officials', 'suspend', 'classes', '60', 'police', 'riot', 'gear', 'arrived', 'university', 'massachusetts', '5', 'p', 'm', 'two', 'hours', 'later', 'bus', 'drove', 'away', '29', 'students', 'camped', 'memorial', 'hall', 'students', 'charged', 'trespassing', '23', 'students', 'arrested', 'lying', 'bus', 'prevent', 'leaving', 'police', '300', 'students', 'stood', 'building', 'chanting', 'looking', 'students', 'hall', 'arrested', '35', 'students', 'occupied', 'memorial', 'hall', '1', 'p', 'm', 'monday', 'declined', 'offer', 'meet', 'administrators', 'provosts', 'office', 'tuesday', 'morning', 'presented', 'list', 'demands', 'halt', 'defense', 'department', 'research', '25', '000', 'student', 'campus', '40', 'students', 'left', 'building', 'tuesday', 'morning', 'university', 'administrators', 'told', 'arrested', '5', 'p', 'm', 'university', 'spokeswoman', 'jeanne', 'hopkins', 'takeover', 'second', 'western', 'massachusetts', 'campus', 'seven', 'protesters', 'arrested', 'april', '19', 'charges', 'disorderly', 'conduct', 'trespassing', 'demonstrating', 'military', 'funded', 'research', 'campus', 'particularly', 'research', 'anthrax', 'research', 'university', 'non', 'classified', 'researchers', 'make', 'work', 'public', 'university', 'rules', '11', '6', 'million', '22', 'percent', 'grant', 'money', 'received', 'university', 'came', 'defense', 'department', '1988', 'school', 'chancellor', 'joseph', 'd', 'duffey', 'issued', 'statement', 'telling', 'students', 'research', 'continue', 'campus', 'school', 'administrators', 'decide', 'differently', 'policy', 'negotiated', 'students', 'duffey', 'latest', 'occupation', 'began', 'students', 'rallying', 'monday', 'student', 'union', 'military', 'research', 'marched', 'administration', 'building', 'ducked', 'memorial', 'hall', 'en', 'route', 'followed', 'members', 'local', 'chapter', 'american', 'friends', 'service', 'committee', 'contended', 'research', 'dangerous', 'town', 'promotes', 'militarism', 'banned', 'university', 'argued', 'purpose', 'anthrax', 'research', 'peaceful', 'strain', 'bacteria', 'non', 'virulent', 'study', 'school', '23', 'years', 'incident', 'amherst', 'health', 'board', 'scheduled', 'hearing', 'wednesday', 'question', 'safety', 'anthrax', 'research', 'tuesday', 'time', '1969', 'classes', 'city', 'college', 'new', 'york', 'canceled', 'student', 'protests', 'school', 'spokesman', 'charles', 'deciccio', 'protesters', 'demanding', 'face', 'face', 'meeting', 'gov', 'mario', 'cuomo', 'feared', 'tuition', 'college', '1', '250', 'increased', 'college', 'staff', 'reduced', 'state', 'budget', 'cuts', 'governor', 'immediate', 'comment', 'tuition', 'set', 'deciccio']\n"
     ]
    }
   ],
   "source": [
    "print([id2token[word_id] for word_id in example_document[1] if word_id > 0])"
   ]
  },
  {
   "cell_type": "markdown",
   "metadata": {},
   "source": [
    "The reverse can also be done, say we want to look for news about the \"University of Massachusetts\", the tokens of that query can be converted to ids using the reverse dictionary:"
   ]
  },
  {
   "cell_type": "code",
   "execution_count": 24,
   "metadata": {},
   "outputs": [
    {
     "name": "stdout",
     "output_type": "stream",
     "text": [
      "Query by tokens: ['university', '', 'massachusetts']\n",
      "Query by ids with stopwords: [200, 0, 894]\n",
      "Query by ids without stopwords: [200, 894]\n"
     ]
    }
   ],
   "source": [
    "query_tokens = index.tokenize(\"University of Massachusetts\")\n",
    "print(\"Query by tokens:\", query_tokens)\n",
    "query_id_tokens = [token2id.get(query_token,0) for query_token in query_tokens]\n",
    "print(\"Query by ids with stopwords:\", query_id_tokens)\n",
    "query_id_tokens = [word_id for word_id in query_id_tokens if word_id > 0]\n",
    "print(\"Query by ids without stopwords:\", query_id_tokens)"
   ]
  },
  {
   "cell_type": "markdown",
   "metadata": {},
   "source": [
    "Naturally we can now match the document and query in the id space, let's see how often a word from the query occurs in our example document:"
   ]
  },
  {
   "cell_type": "code",
   "execution_count": 25,
   "metadata": {},
   "outputs": [
    {
     "name": "stdout",
     "output_type": "stream",
     "text": [
      "Document AP890425-0001 has 13 word matches with query: \"university  massachusetts\".\n",
      "Document AP890425-0001 and query \"university  massachusetts\" have a 2.5% overlap.\n"
     ]
    }
   ],
   "source": [
    "matching_words = sum([True for word_id in example_document[1] if word_id in query_id_tokens])\n",
    "print(\"Document %s has %d word matches with query: \\\"%s\\\".\" % (example_document[0], matching_words, ' '.join(query_tokens)))\n",
    "print(\"Document %s and query \\\"%s\\\" have a %.01f%% overlap.\" % (example_document[0], ' '.join(query_tokens),matching_words/float(len(example_document[1]))*100))"
   ]
  },
  {
   "cell_type": "markdown",
   "metadata": {},
   "source": [
    "While this is certainly not everything Pyndri can do, it should give you an idea of how to use it. Please take a look at the [examples](https://github.com/cvangysel/pyndri) as it will help you a lot with this assignment.\n",
    "\n",
    "**CAUTION**: Avoid printing out the whole index in this Notebook as it will generate a lot of output and is likely to corrupt the Notebook."
   ]
  },
  {
   "cell_type": "markdown",
   "metadata": {},
   "source": [
    "### Parsing the query file\n",
    "You can parse the query file (`ap_88_89/topics_title`) using the following snippet:"
   ]
  },
  {
   "cell_type": "code",
   "execution_count": 26,
   "metadata": {},
   "outputs": [
    {
     "name": "stdout",
     "output_type": "stream",
     "text": [
      "OrderedDict([('51', 'Airbus Subsidies'), ('52', 'South African Sanctions'), ('53', 'Leveraged Buyouts'), ('54', 'Satellite Launch Contracts'), ('55', 'Insider Trading'), ('56', 'Prime (Lending) Rate Moves, Predictions'), ('57', 'MCI'), ('58', 'Rail Strikes'), ('59', 'Weather Related Fatalities'), ('60', 'Merit-Pay vs. Seniority'), ('61', 'Israeli Role in Iran-Contra Affair'), ('62', \"Military Coups D'etat\"), ('63', 'Machine Translation'), ('64', 'Hostage-Taking'), ('65', 'Information Retrieval Systems'), ('66', 'Natural Language Processing'), ('67', 'Politically Motivated Civil Disturbances'), ('68', 'Health Hazards from Fine-Diameter Fibers'), ('69', 'Attempts to Revive the SALT II Treaty'), ('70', 'Surrogate Motherhood'), ('71', 'Border Incursions'), ('72', 'Demographic Shifts in the U.S.'), ('73', 'Demographic Shifts across National Boundaries'), ('74', 'Conflicting Policy'), ('75', 'Automation'), ('76', 'U.S. Constitution - Original Intent'), ('77', 'Poaching'), ('78', 'Greenpeace'), ('79', 'FRG Political Party Positions'), ('80', '1988 Presidential Candidates Platforms'), ('81', 'Financial crunch for televangelists in the wake of the PTL scandal'), ('82', 'Genetic Engineering'), ('83', 'Measures to Protect the Atmosphere'), ('84', 'Alternative/renewable Energy Plant & Equipment Installation'), ('85', 'Official Corruption'), ('86', 'Bank Failures'), ('87', 'Criminal Actions Against Officers of Failed Financial Institutions'), ('88', 'Crude Oil Price Trends'), ('89', '\"Downstream\" Investments by OPEC Member States'), ('90', 'Data on Proven Reserves of Oil & Natural Gas Producers'), ('91', 'U.S. Army Acquisition of Advanced Weapons Systems'), ('92', 'International Military Equipment Sales'), ('93', 'What Backing Does the National Rifle Association Have?'), ('94', 'Computer-aided Crime'), ('95', 'Computer-aided Crime Detection'), ('96', 'Computer-Aided Medical Diagnosis'), ('97', 'Fiber Optics Applications'), ('98', 'Fiber Optics Equipment Manufacturers'), ('99', 'Iran-Contra Affair'), ('100', 'Controlling the Transfer of High Technology'), ('101', 'Design of the \"Star Wars\" Anti-missile Defense System'), ('102', \"Laser Research Applicable to the U.S.'s Strategic Defense Initiative\"), ('103', 'Welfare Reform'), ('104', 'Catastrophic Health Insurance'), ('105', '\"Black Monday\"'), ('106', 'U.S. Control of Insider Trading'), ('107', 'Japanese Regulation of Insider Trading'), ('108', 'Japanese Protectionist Measures'), ('109', 'Find Innovative Companies'), ('110', 'Black Resistance Against the South African Government'), ('111', 'Nuclear Proliferation'), ('112', 'Funding Biotechnology'), ('113', 'New Space Satellite Applications'), ('114', 'Non-commercial Satellite Launches'), ('115', 'Impact of the 1986 Immigration Law'), ('116', 'Generic Drug Substitutions'), ('117', 'Capacity of the U.S. Cellular Telephone Network'), ('118', 'International Terrorists'), ('119', 'Actions Against International Terrorists'), ('120', 'Economic Impact of International Terrorism'), ('121', 'Death from Cancer'), ('122', 'RDT&E of New Cancer Fighting Drugs'), ('123', 'Research into & Control of Carcinogens'), ('124', 'Alternatives to Traditional Cancer Therapies'), ('125', 'Anti-smoking Actions by Government'), ('126', 'Medical Ethics and Modern Technology'), ('127', 'U.S.-U.S.S.R. Arms Control Agreements'), ('128', 'Privatization of State Assets'), ('129', 'Soviet Spying on the U.S.'), ('130', 'Jewish Emigration and U.S.-USSR Relations'), ('131', 'McDonnell Douglas Contracts for Military Aircraft'), ('132', '\"Stealth\" Aircraft'), ('133', 'Hubble Space Telescope'), ('134', 'The Human Genome Project'), ('135', 'Possible Contributions of Gene Mapping to Medicine'), ('136', 'Diversification by Pacific Telesis'), ('137', 'Expansion in the U.S. Theme Park Industry'), ('138', 'Iranian Support for Lebanese Hostage-takers'), ('139', \"Iran's Islamic Revolution - Domestic and Foreign Social Consequences\"), ('140', 'Political Impact of Islamic Fundamentalism'), ('141', \"Japan's Handling of its Trade Surplus with the U.S.\"), ('142', 'Impact of Government Regulated Grain Farming on International Relations'), ('143', 'Why Protect U.S. Farmers?'), ('144', 'Management Problems at the United Nations'), ('145', 'Influence of the \"Pro-Israel Lobby\"'), ('146', 'Negotiating an End to the Nicaraguan Civil War'), ('147', 'Productivity Trends in the U.S. Economy'), ('148', 'Conflict in the Horn of Africa'), ('149', 'Industrial Espionage'), ('150', 'U.S. Political Campaign Financing'), ('151', 'Coping with overcrowded prisons'), ('152', 'Accusations of Cheating by Contractors on U.S. Defense Projects'), ('153', 'Insurance Coverage which pays for Long Term Care'), ('154', 'Oil Spills'), ('155', 'Right Wing Christian Fundamentalism in U.S.'), ('156', 'Efforts to enact Gun Control Legislation'), ('157', 'Causes and treatments of multiple sclerosis (MS)'), ('158', 'Term limitations for members of the U.S. Congress'), ('159', 'Electric Car Development'), ('160', 'Vitamins - The Cure for or Cause of Human Ailments'), ('161', 'Acid Rain'), ('162', 'Automobile Recalls'), ('163', 'Vietnam Veterans and Agent Orange'), ('164', 'Generic Drugs - Illegal Activities by Manufacturers'), ('165', 'Tobacco company advertising and the young'), ('166', 'Standardized testing and cultural bias'), ('167', 'Regulation of the showing of violence and explicit sex in motion picture theaters, on television, and on video cassettes.'), ('168', 'Financing AMTRAK'), ('169', 'Cost of Garbage/Trash Removal'), ('170', 'The Consequences of Implantation of Silicone Gel Breast Devices'), ('171', \"Use of Mutual Funds in an Individual's Retirement Strategy\"), ('172', 'The Effectiveness of Medical Products and Related Programs Utilized in the Cessation of Smoking.'), ('173', 'Smoking Bans'), ('174', 'Hazardous Waste Cleanup'), ('175', 'NRA Prevention of Gun Control Legislation'), ('176', 'Real-life private investigators'), ('177', 'English as the Official Language in U.S.'), ('178', 'Dog Maulings'), ('179', 'U. S. Restaurants in Foreign Lands'), ('180', 'Ineffectiveness of U.S. Embargoes/Sanctions'), ('181', 'Abuse of the Elderly by Family Members, and Medical and Nonmedical Personnel, and Initiatives Being Taken to Minimize This Mistreatment'), ('182', 'Commercial Overfishing Creates Food Fish Deficit'), ('183', 'Asbestos Related Lawsuits'), ('184', 'Corporate Pension Plans/Funds'), ('185', 'Reform of the U.S. Welfare System'), ('186', 'Difference of Learning Levels Among Inner City and More Suburban School Students'), ('187', 'Signs of the Demise of Independent Publishing'), ('188', 'Beachfront Erosion'), ('189', 'Real Motives for Murder'), ('190', 'Instances of Fraud Involving the Use of a Computer'), ('191', 'Efforts to Improve U.S. Schooling'), ('192', 'Oil Spill Cleanup'), ('193', 'Toys R Dangerous'), ('194', 'The Amount of Money Earned by Writers'), ('195', 'Stock Market Perturbations Attributable to Computer Initiated Trading'), ('196', 'School Choice Voucher System and its effects upon the entire U.S. educational program'), ('197', 'Reform of the jurisprudence system to stop juries from granting unreasonable monetary awards'), ('198', 'Gene Therapy and Its Benefits to Humankind'), ('199', 'Legality of Medically Assisted Suicides'), ('200', 'Impact of foreign textile imports on U.S. textile industry')])\n"
     ]
    }
   ],
   "source": [
    "def parse_topics(file_or_files,\n",
    "                 max_topics=sys.maxsize, delimiter=';'):\n",
    "    assert max_topics >= 0 or max_topics is None\n",
    "\n",
    "    topics = collections.OrderedDict()\n",
    "\n",
    "    if not isinstance(file_or_files, list) and \\\n",
    "            not isinstance(file_or_files, tuple):\n",
    "        if hasattr(file_or_files, '__iter__'):\n",
    "            file_or_files = list(file_or_files)\n",
    "        else:\n",
    "            file_or_files = [file_or_files]\n",
    "\n",
    "    for f in file_or_files:\n",
    "        assert isinstance(f, io.IOBase)\n",
    "\n",
    "        for line in f:\n",
    "            assert(isinstance(line, str))\n",
    "\n",
    "            line = line.strip()\n",
    "\n",
    "            if not line:\n",
    "                continue\n",
    "\n",
    "            topic_id, terms = line.split(delimiter, 1)\n",
    "\n",
    "            if topic_id in topics and (topics[topic_id] != terms):\n",
    "                    logging.error('Duplicate topic \"%s\" (%s vs. %s).',\n",
    "                                  topic_id,\n",
    "                                  topics[topic_id],\n",
    "                                  terms)\n",
    "\n",
    "            topics[topic_id] = terms\n",
    "\n",
    "            if max_topics > 0 and len(topics) >= max_topics:\n",
    "                break\n",
    "\n",
    "    return topics\n",
    "\n",
    "with open('./ap_88_89/topics_title', 'r') as f_topics:\n",
    "    print(parse_topics([f_topics]))"
   ]
  },
  {
   "cell_type": "markdown",
   "metadata": {},
   "source": [
    "### Task 1: Implement and compare lexical IR methods [35 points] ### \n",
    "\n",
    "In this task you will implement a number of lexical methods for IR using the **Pyndri** framework. Then you will evaluate these methods on the dataset we have provided using **TREC Eval**.\n",
    "\n",
    "Use the **Pyndri** framework to get statistics of the documents (term frequency, document frequency, collection frequency; **you are not allowed to use the query functionality of Pyndri**) and implement the following scoring methods in **Python**:\n",
    "\n",
    "- [TF-IDF](http://nlp.stanford.edu/IR-book/html/htmledition/tf-idf-weighting-1.html) and \n",
    "- [BM25](http://nlp.stanford.edu/IR-book/html/htmledition/okapi-bm25-a-non-binary-model-1.html) with k1=1.2 and b=0.75. **[5 points]**\n",
    "- Language models ([survey](https://drive.google.com/file/d/0B-zklbckv9CHc0c3b245UW90NE0/view))\n",
    "    - Jelinek-Mercer (explore different values of 𝛌 in the range [0.1, 0.5, 0.9]). **[5 points]**\n",
    "    - Dirichlet Prior (explore different values of 𝛍 [500, 1000, 1500]). **[5 points]**\n",
    "    - Absolute discounting (explore different values of 𝛅 in the range [0.1, 0.5, 0.9]). **[5 points]**\n",
    "    - [Positional Language Models](http://sifaka.cs.uiuc.edu/~ylv2/pub/sigir09-plm.pdf) define a language model for each position of a document, and score a document based on the scores of its PLMs. The PLM is estimated based on propagated counts of words within a document through a proximity-based density function, which both captures proximity heuristics and achieves an effect of “soft” passage retrieval. Implement the PLM, all five kernels, but only the Best position strategy to score documents. Use 𝛔 equal to 50, and Dirichlet smoothing with 𝛍 optimized on the validation set (decide how to optimize this value yourself and motivate your decision in the report). **[10 points]**\n",
    "    \n",
    "Implement the above methods and report evaluation measures (on the test set) using the hyper parameter values you optimized on the validation set (also report the values of the hyper parameters). Use TREC Eval to obtain the results and report on `NDCG@10`, Mean Average Precision (`MAP@1000`), `Precision@5` and `Recall@1000`.\n",
    "\n",
    "For the language models, create plots showing `NDCG@10` with varying values of the parameters. You can do this by chaining small scripts using shell scripting (preferred) or execute trec_eval using Python's `subprocess`.\n",
    "\n",
    "Compute significance of the results using a [two-tailed paired Student t-test](https://docs.scipy.org/doc/scipy/reference/generated/scipy.stats.ttest_rel.html) **[5 points]**. Be wary of false rejection of the null hypothesis caused by the [multiple comparisons problem](https://en.wikipedia.org/wiki/Multiple_comparisons_problem). There are multiple ways to mitigate this problem and it is up to you to choose one.\n",
    "\n",
    "Analyse the results by identifying specific queries where different methods succeed or fail and discuss possible reasons that cause these differences. This is *very important* in order to understand who the different retrieval functions behave.\n",
    "\n",
    "**NOTE**: Don’t forget to use log computations in your calculations to avoid underflows. "
   ]
  },
  {
   "cell_type": "markdown",
   "metadata": {},
   "source": [
    "**IMPORTANT**: You should structure your code around the helper functions we provide below."
   ]
  },
  {
   "cell_type": "code",
   "execution_count": 16,
   "metadata": {},
   "outputs": [
    {
     "name": "stdout",
     "output_type": "stream",
     "text": [
      "Gathering statistics about 456 terms.\n",
      "Inverted index creation took 43.17877984046936 seconds.\n"
     ]
    }
   ],
   "source": [
    "import time\n",
    "\n",
    "with open('./ap_88_89/topics_title', 'r') as f_topics:\n",
    "    queries = parse_topics([f_topics])\n",
    "\n",
    "index = pyndri.Index('index/')\n",
    "\n",
    "num_documents = index.maximum_document() - index.document_base()\n",
    "\n",
    "dictionary = pyndri.extract_dictionary(index)\n",
    "\n",
    "tokenized_queries = {\n",
    "    query_id: [dictionary.translate_token(token)\n",
    "               for token in index.tokenize(query_string)\n",
    "               if dictionary.has_token(token)]\n",
    "    for query_id, query_string in queries.items()}\n",
    "\n",
    "query_term_ids = set(\n",
    "    query_term_id\n",
    "    for query_term_ids in tokenized_queries.values()\n",
    "    for query_term_id in query_term_ids)\n",
    "\n",
    "print('Gathering statistics about', len(query_term_ids), 'terms.')\n",
    "\n",
    "# inverted index creation.\n",
    "\n",
    "document_lengths = {}\n",
    "unique_terms_per_document = {}\n",
    "\n",
    "inverted_index = collections.defaultdict(dict)\n",
    "collection_frequencies = collections.defaultdict(int)\n",
    "\n",
    "total_terms = 0\n",
    "\n",
    "start_time = time.time()\n",
    "for int_doc_id in range(index.document_base(), index.maximum_document()):\n",
    "    ext_doc_id, doc_token_ids = index.document(int_doc_id)\n",
    "\n",
    "    document_bow = collections.Counter(\n",
    "        token_id for token_id in doc_token_ids\n",
    "        if token_id > 0)\n",
    "    document_length = sum(document_bow.values())\n",
    "\n",
    "    document_lengths[int_doc_id] = document_length\n",
    "    total_terms += document_length\n",
    "\n",
    "    unique_terms_per_document[int_doc_id] = len(document_bow)\n",
    "\n",
    "    for query_term_id in query_term_ids:\n",
    "        assert query_term_id is not None\n",
    "\n",
    "        document_term_frequency = document_bow.get(query_term_id, 0)\n",
    "\n",
    "        if document_term_frequency == 0:\n",
    "            continue\n",
    "\n",
    "        collection_frequencies[query_term_id] += document_term_frequency\n",
    "        inverted_index[query_term_id][int_doc_id] = document_term_frequency\n",
    "\n",
    "avg_doc_length = total_terms / num_documents\n",
    "\n",
    "print('Inverted index creation took', time.time() - start_time, 'seconds.')"
   ]
  },
  {
   "cell_type": "code",
   "execution_count": null,
   "metadata": {
    "collapsed": true
   },
   "outputs": [],
   "source": [
    "def run_retrieval(model_name, score_fn, **kwargs):\n",
    "    \"\"\"\n",
    "    Runs a retrieval method for all the queries and writes the TREC-friendly results in a file.\n",
    "    \n",
    "    :param model_name: the name of the model (a string)\n",
    "    :param score_fn: the scoring function (a function - see below for an example) \n",
    "    \"\"\"\n",
    "    run_out_path = '{}.run'.format(model_name)\n",
    "\n",
    "    if os.path.exists(run_out_path):\n",
    "        return\n",
    "\n",
    "    retrieval_start_time = time.time()\n",
    "\n",
    "    print('Retrieving using', model_name)\n",
    "    data = defaultdict(list)\n",
    "    for query_id, query_term_ids in tokenized_queries.items():\n",
    "        document_ids = list(set(itertools.chain(*[list(inverted_index[i].keys()) for i in query_term_ids])))\n",
    "\n",
    "        # for int_doc_id in range(index.document_base(), index.maximum_document()):\n",
    "        for int_doc_id in document_ids:\n",
    "            ext_doc_id, doc_token_ids = index.document(int_doc_id)\n",
    "            score = sum(score_fn(int_doc_id, query_term_id, kwargs) for query_term_id in query_term_ids)\n",
    "            data[query_id].append((score, ext_doc_id))\n",
    "    \n",
    "        #print(data)\n",
    "    #data = {key: tuple(value) for key, value in data.items()}\n",
    "    \n",
    "    with open(run_out_path, 'w') as f_out:\n",
    "        write_run(\n",
    "            model_name=model_name,\n",
    "            data=data,\n",
    "            out_f=f_out,\n",
    "            max_objects_per_query=1000)"
   ]
  },
  {
   "cell_type": "code",
   "execution_count": 1,
   "metadata": {
    "collapsed": true
   },
   "outputs": [],
   "source": [
    "# Plotting functionality\n",
    "\n",
    "from scipy import stats\n",
    "\n",
    "def get_all_score(model_name, eval_name, measure):\n",
    "    return get_scores(model_name, eval_name, measure)[-1]\n",
    "    \n",
    "def get_scores(model_name, eval_name, measure):\n",
    "    out = !./$'trec_eval/'/trec_eval -m $measure -q $eval_name $model_name\n",
    "    return {score.split('\\t')[1]: float(score.split('\\t')[-1]) for score in out}\n",
    "\n",
    "def stat_test(stats1, stats2):\n",
    "    return stats.ttest_rel([float(x) for x in stats1], \n",
    "                           [float(x) for x in stats2])\n",
    "\n",
    "def plot(folder, measurements, baseline, test_set):  \n",
    "    models = [file for file in os.listdir(folder) if file.endswith(\".run\")]\n",
    "    \n",
    "    results = {\n",
    "        measurement: {\n",
    "            model: get_scores(folder + model, test_set, measurement) \n",
    "        for model in models} \n",
    "        for measurement in measurements\n",
    "    }\n",
    "    \n",
    "    measurements = results.keys()\n",
    "    baseline = {\n",
    "        measurement: \n",
    "             get_scores(baseline, test_set, measurement)\n",
    "            \n",
    "        for measurement in measurements \n",
    "    }\n",
    "    all_results = {measurement: \n",
    "                   {model: (scores[model]['all'], stat_test(scores[model].values(), \n",
    "                                                                         baseline[measurement].values()))\n",
    "                                 for model in models}\n",
    "                    for measurement, scores in results.items()}\n",
    "\n",
    "    width = 1 / (len(all_results) + 1)\n",
    "    ind =  np.arange(len(models))\n",
    "    calc_width = lambda x: x / len(all_results) + width\n",
    "    \n",
    "    fig, ax = plt.subplots(1)\n",
    "    plots = [ax.bar(ind + width * i, [models[m][0] for m in models], width=width)\n",
    "             for i, (measurement, models) in enumerate(all_results.items())]\n",
    "\n",
    "    ax.set_xticks(ind + width / 2)\n",
    "    ax.set_xticklabels(models)\n",
    "    \n",
    "    \n",
    "    ax.legend(plots, measurements)\n",
    "    fig.autofmt_xdate()\n",
    "    plt.show()\n",
    "\n",
    "    print('{:>35}'.format('model_name'), ' '.join(['{:>15}'.format(m) for m in measurements]))\n",
    "    for model in models:\n",
    "        results = ['{:>15}'.format(\"{0:.2f}\".format(all_results[measurement][model][0]) + ' ' +\n",
    "                   \"{0:.2f}\".format(all_results[measurement][model][1].pvalue)) for measurement in measurements]\n",
    "        \n",
    "        print('{:>35}'.format(model), ' '.join(results))"
   ]
  },
  {
   "cell_type": "code",
   "execution_count": null,
   "metadata": {
    "collapsed": true
   },
   "outputs": [],
   "source": [
    "def tfidf(int_document_id, query_term_id, document_term_freq=None):\n",
    "    \"\"\"\n",
    "    Scoring function for a document and a query term\n",
    "    \n",
    "    :param int_document_id: the document id\n",
    "    :param query_token_id: the query term id (assuming you have split the query to tokens)\n",
    "    :param document_term_freq: the document term frequency of the query term \n",
    "    \"\"\"\n",
    "    # TODO implement the function\n",
    "    term_frequency = inverted_index[query_term_id].get(int_document_id, 0)\n",
    "    doc_frequency = len(inverted_index[query_term_id])\n",
    "    score = np.log(1 + term_frequency) * np.log(num_documents / doc_frequency) if doc_frequency != 0 else 0\n",
    "    return score\n",
    "\n",
    "run_retrieval('task1_models/tfidf', tfidf)"
   ]
  },
  {
   "cell_type": "code",
   "execution_count": null,
   "metadata": {
    "collapsed": true
   },
   "outputs": [],
   "source": [
    "def bm25(int_document_id, query_term_id, kwargs):\n",
    "    k1 = kwargs['k1']\n",
    "    b = kwargs['b']\n",
    "    term_frequency = inverted_index[query_term_id].get(int_document_id, 0)\n",
    "    doc_length = document_lengths[int_document_id]\n",
    "    if doc_length == 0:\n",
    "        return 0\n",
    "    return (((k1 + 1) * term_frequency) / k1 * ((1 - b) + b * \n",
    "            (doc_length / avg_doc_length)) * np.log(num_documents / doc_length))\n",
    "\n",
    "run_retrieval('bm25', bm25, k1=1.2, b=0.75)"
   ]
  },
  {
   "cell_type": "code",
   "execution_count": 27,
   "metadata": {
    "collapsed": true
   },
   "outputs": [],
   "source": [
    "def jelinek_mercer(int_document_id, query_term_id, kwargs):\n",
    "    l = kwargs['l']\n",
    "    term_frequency = inverted_index[query_term_id].get(int_document_id, 0)\n",
    "    doc_length = document_lengths[int_document_id]\n",
    "    if doc_length == 0:\n",
    "        return 0\n",
    "    collection_frequency = collection_frequencies[query_term_id]\n",
    "    return np.log(l * (term_frequency / doc_length) + (1 - l) * (collection_frequency / total_terms))\n",
    "\n",
    "lambdas = [0.1, 0.5, 0.9]\n",
    "for l in lambdas:\n",
    "    run_retrieval('task1_models/jelinek_mercer/jelinek_mercer_{0}'.format(l), jelinek_mercer, l=l)\n"
   ]
  },
  {
   "cell_type": "code",
   "execution_count": 4,
   "metadata": {},
   "outputs": [
    {
     "data": {
      "image/png": "[encoded data removed]",
      "text/plain": [
       "<matplotlib.figure.Figure at 0x10ae0e748>"
      ]
     },
     "metadata": {},
     "output_type": "display_data"
    },
    {
     "name": "stdout",
     "output_type": "stream",
     "text": [
      "                         model_name     ndcg_cut.10\n",
      "             jelinek_mercer_0.9.run       0.37 0.99\n",
      "             jelinek_mercer_0.5.run       0.38 0.73\n",
      "             jelinek_mercer_0.1.run       0.40 0.48\n"
     ]
    }
   ],
   "source": [
    "plot('./task1_models/jelinek_mercer/', ['ndcg_cut.10'], './task1_models/tfidf.run', 'ap_88_89/qrel_validation')"
   ]
  },
  {
   "cell_type": "code",
   "execution_count": 28,
   "metadata": {
    "collapsed": true
   },
   "outputs": [],
   "source": [
    "def absolute_discounting(int_document_id, query_term_id, kwargs):\n",
    "    delta = kwargs['d']\n",
    "    term_frequency = inverted_index[query_term_id].get(int_document_id, 0)\n",
    "    doc_length = document_lengths[int_document_id]\n",
    "    if doc_length == 0:\n",
    "        return 0\n",
    "    collection_frequency = collection_frequencies[query_term_id]\n",
    "    return np.log((max(term_frequency-delta, 0) / doc_length \n",
    "                  + ((delta * unique_terms_per_document[int_document_id])) \n",
    "                  / doc_length * (collection_frequency / total_terms)))\n",
    "\n",
    "deltas = [0.1, 0.5, 0.9]\n",
    "for d in deltas:\n",
    "    run_retrieval('task1_models/absolute_discounting/absolute_discounting_{0}'.format(d), absolute_discounting, d=d)\n"
   ]
  },
  {
   "cell_type": "code",
   "execution_count": 5,
   "metadata": {},
   "outputs": [
    {
     "data": {
      "image/png": "[encoded data removed]",
      "text/plain": [
       "<matplotlib.figure.Figure at 0x103446780>"
      ]
     },
     "metadata": {},
     "output_type": "display_data"
    },
    {
     "name": "stdout",
     "output_type": "stream",
     "text": [
      "                         model_name     ndcg_cut.10\n",
      "       absolute_discounting_0.1.run       0.36 0.89\n",
      "       absolute_discounting_0.5.run       0.38 0.81\n",
      "       absolute_discounting_0.9.run       0.40 0.43\n"
     ]
    }
   ],
   "source": [
    "plot('./task1_models/absolute_discounting/', ['ndcg_cut.10'], './task1_models/tfidf.run', 'ap_88_89/qrel_validation')"
   ]
  },
  {
   "cell_type": "code",
   "execution_count": 31,
   "metadata": {
    "collapsed": true
   },
   "outputs": [],
   "source": [
    "def dirichlet(int_document_id, query_term_id, kwargs):\n",
    "    mu = kwargs['mu']\n",
    "    term_frequency = inverted_index[query_term_id].get(int_document_id, 0)\n",
    "    collection_frequency = collection_frequencies[query_term_id]\n",
    "    doc_length = document_lengths[int_document_id]\n",
    "    if doc_length == 0:\n",
    "        return 0\n",
    "    return np.log((term_frequency + mu * (collection_frequency / total_terms)) / (doc_length + mu))\n",
    "\n",
    "mus = [500, 1000, 1500]\n",
    "for mu in mus:\n",
    "    run_retrieval('task1_models/dirichlet/dirichlet_{}'.format(mu), dirichlet, mu=mu)"
   ]
  },
  {
   "cell_type": "code",
   "execution_count": 6,
   "metadata": {},
   "outputs": [
    {
     "data": {
      "image/png": "[encoded data removed]",
      "text/plain": [
       "<matplotlib.figure.Figure at 0x10ae0e6a0>"
      ]
     },
     "metadata": {},
     "output_type": "display_data"
    },
    {
     "name": "stdout",
     "output_type": "stream",
     "text": [
      "                         model_name     ndcg_cut.10\n",
      "                 dirichlet_1500.run       0.40 0.27\n",
      "                 dirichlet_1000.run       0.40 0.33\n",
      "                  dirichlet_500.run       0.41 0.33\n"
     ]
    }
   ],
   "source": [
    "plot('./task1_models/dirichlet/', ['ndcg_cut.10'], './task1_models/tfidf.run', 'ap_88_89/qrel_validation')"
   ]
  },
  {
   "cell_type": "code",
   "execution_count": null,
   "metadata": {
    "collapsed": true
   },
   "outputs": [],
   "source": [
    "## plm precomputations\n",
    "import json\n",
    "\n",
    "def best_n_docs_per_query(n=1000):\n",
    "    '''\n",
    "    Get the best n docs per query using tfidf\n",
    "    '''\n",
    "    best_docs_per_query = defaultdict(list)\n",
    "    queries_done = 0\n",
    "    document_ids = document_lengths.keys()\n",
    "    for query_id, query_term_ids in tokenized_queries.items():\n",
    "        scores = []\n",
    "        duplicates = set()\n",
    "        for doc_id in document_ids:\n",
    "            if doc_id in duplicates:\n",
    "                continue\n",
    "            score = sum(tfidf(doc_id, query_term_id) for query_term_id in query_term_ids)\n",
    "            scores.append((doc_id, str(score)))\n",
    "            duplicates.add(doc_id)\n",
    "        best_docs_per_query[query_id] = sorted(scores, key=lambda x: float(x[1]), reverse=True)[:n]\n",
    "        queries_done += 1\n",
    "        print(queries_done, \"queries run on all the documents\")\n",
    "        \n",
    "    with open('best_'+ str(n) +'_docs_per_query_no_duplicates.json', 'w') as f:\n",
    "        json.dump(best_docs_per_query, f) \n",
    "            \n",
    "    return best_docs_per_query\n",
    "\n",
    "\n",
    "## Create positional index with for every document all query term positions\n",
    "positional_index = {}\n",
    "for int_doc_id in range(index.document_base(), index.maximum_document()):\n",
    "    positional_index[int_doc_id] = defaultdict(list)\n",
    "    doc = index.document(int_doc_id)\n",
    "    for i, word_id in enumerate(doc[1]):\n",
    "        if word_id in query_term_ids:\n",
    "            positional_index[int_doc_id][word_id].append(i)\n",
    "\n",
    "with open('positional_index.json', 'w') as f:\n",
    "    json.dump(positional_index, f)            \n",
    "\n",
    "## Precompute all gaussian kernel values\n",
    "maximum = max(document_lengths.values())\n",
    "gaussian_kernel = {}\n",
    "gaussian_cdf_kernel = {}\n",
    "for j in range(0, maximum+1):\n",
    "    gaussian_kernel[j] = {}\n",
    "    gaussian_cdf_kernel[j] = {}\n",
    "    for i in range(0, maximum+1):\n",
    "        gaussian_kernel[j][i] = gaussian(j,i)\n",
    "        gaussian_cdf_kernel[j][i] = gaussian_cdf(N,i)\n",
    "            \n",
    "with open('gaussian_kernel.json', 'w') as f:\n",
    "        json.dump(gaussian_kernel, f)\n",
    "        \n",
    "with open('gaussian_cdf_kernel.json', 'w') as f:\n",
    "        json.dump(gaussian_cdf_kernel, f)\n",
    "        \n",
    "# Load precomputed json stuff  \n",
    "with open('positional_index.json') as json_data:\n",
    "    positional_index = json.load(json_data)\n",
    "    \n",
    "with open('best_1000_docs_per_query.json') as f:\n",
    "    best_1000_docs_per_query = json.load(f)\n",
    "\n",
    "with open('gaussian_kernel.json') as f:\n",
    "    gaussian_kernel = json.load(f)\n",
    "\n",
    "with open('gaussian_cdf_kernel.json') as f:\n",
    "    gaussian_cdf_kernel = json.load(f)"
   ]
  },
  {
   "cell_type": "code",
   "execution_count": null,
   "metadata": {
    "collapsed": true
   },
   "outputs": [],
   "source": [
    "def plm(int_document_id, query_term_ids, **parameters):\n",
    "    query_score_for_position = defaultdict(int)\n",
    "    d = index.document(int_document_id)\n",
    "    ld = document_lengths[int_document_id] \n",
    "    mu = parameters['mu']\n",
    "        \n",
    "    ## Find the virtual word count at each position for every word in the query\n",
    "    for j, word_id in enumerate(d[1]):\n",
    "        for q in query_term_ids:\n",
    "            matching_indices = positional_index.get(int_document_id, {}).get(q, [])\n",
    "            tfp = sum((gaussian_kernel[str(j)][str(i)]) for i in\n",
    "                      matching_indices) # virtual term frequency for position j\n",
    "            ## Calculate language model scores\n",
    "            try:\n",
    "                z = gaussian_cdf_kernel[str(ld)][str(j)] # cumulative propagation to position j \n",
    "            except:\n",
    "                print(\"doc length longer than expected for id\", int_doc_id)\n",
    "                z = gaussian_cdf(ld, j)\n",
    "            collection_probability = collection_frequencies[q]/total_terms\n",
    "            query_term_probability = np.log((tfp+mu*collection_probability)/(z+mu))\n",
    "            query_score_for_position[j] += query_term_probability\n",
    "            \n",
    "    best_position = max(query_score_for_position, key=query_score_for_position.get) \n",
    "    \n",
    "    return query_score_for_position[best_position]\n",
    "\n",
    "def gaussian(i, j, sigma=50):\n",
    "    '''\n",
    "    Return propagation from position j to i.\n",
    "    '''\n",
    "    return np.exp((-(j-i)**2)/(2*sigma**2))\n",
    "\n",
    "def gaussian_cdf(N, i, sigma=50):\n",
    "    '''\n",
    "    Return cumulative propagation to position i. \n",
    "    '''\n",
    "    return np.sqrt(2*np.pi*sigma**2)*((norm.cdf((N-i)/sigma)-norm.cdf((1-i)/sigma)))"
   ]
  },
  {
   "cell_type": "code",
   "execution_count": 7,
   "metadata": {},
   "outputs": [
    {
     "data": {
      "image/png": "[encoded data removed]",
      "text/plain": [
       "<matplotlib.figure.Figure at 0x10c043b38>"
      ]
     },
     "metadata": {},
     "output_type": "display_data"
    },
    {
     "name": "stdout",
     "output_type": "stream",
     "text": [
      "                         model_name     ndcg_cut.10\n",
      "         plm_model_mu500_top100.run       0.19 0.00\n",
      "       plm_model_mu10000_top100.run       0.21 0.00\n",
      "        plm_model_mu1000_top100.run       0.20 0.00\n",
      "         plm_model_mu001_top100.run       0.18 0.00\n",
      "           plm_model_mu0_top100.run       0.22 0.00\n",
      "        plm_model_mu1500_top100.run       0.20 0.00\n"
     ]
    }
   ],
   "source": [
    "plot('./task1_models/plm/', ['ndcg_cut.10'], './task1_models/tfidf.run', 'ap_88_89/qrel_validation')"
   ]
  },
  {
   "cell_type": "code",
   "execution_count": 8,
   "metadata": {},
   "outputs": [
    {
     "data": {
      "image/png": "[encoded data removed]",
      "text/plain": [
       "<matplotlib.figure.Figure at 0x10f401438>"
      ]
     },
     "metadata": {},
     "output_type": "display_data"
    },
    {
     "name": "stdout",
     "output_type": "stream",
     "text": [
      "                         model_name    map_cut.1000     ndcg_cut.10     recall.1000             P.5\n",
      "                           bm25.run       0.08 0.00       0.19 0.00       0.48 0.00       0.20 0.00\n",
      "       absolute_discounting_0.5.run       0.20 0.07       0.40 0.25       0.63 0.01       0.40 0.07\n",
      "                      plm_model.run       0.05 0.00       0.06 0.00       0.65 0.89       0.06 0.00\n",
      "                 dirichlet_1000.run       0.21 0.71       0.41 0.86       0.64 0.04       0.41 0.32\n",
      "             jelinek_mercer_0.5.run       0.20 0.01       0.38 0.05       0.63 0.00       0.37 0.00\n",
      "                          tfidf.run        0.22 nan        0.42 nan        0.65 nan        0.43 nan\n"
     ]
    }
   ],
   "source": [
    "plot('./task1_models/',\n",
    "     ['map_cut.1000', 'ndcg_cut.10', 'recall.1000', 'P.5'], './task1_models/tfidf.run',\n",
    "     'ap_88_89/qrel_test')"
   ]
  },
  {
   "cell_type": "code",
   "execution_count": 17,
   "metadata": {},
   "outputs": [
    {
     "name": "stdout",
     "output_type": "stream",
     "text": [
      "Model: bm25\n",
      "---Good queries---\n",
      "stock market attributable computer initiated trading\n",
      "hostage taking\n",
      "iran contra affair\n",
      "---Bad queries---\n",
      "toys r dangerous\n",
      "hazardous waste cleanup\n",
      "stealth aircraft\n",
      "---statistics---\n",
      "average doc frequency (good/bad): [ 5463.8  5213.7]\n",
      "average collection frequency (good/bad): [ 10513.9  10333.4]\n",
      "average query length (good/bad): [ 4.3  3.2]\n",
      "-----------------\n",
      "Model: absolute_discounting_0\n",
      "---Good queries---\n",
      "actions international terrorists\n",
      "standardized testing cultural bias\n",
      "expansion u s theme park industry\n",
      "---Bad queries---\n",
      "poaching\n",
      "generic drugs illegal activities manufacturers\n",
      "black resistance south african government\n",
      "---statistics---\n",
      "average doc frequency (good/bad): [ 7079.7  5463.8]\n",
      "average collection frequency (good/bad): [ 14089.7  10513.9]\n",
      "average query length (good/bad): [ 3.8  4.8]\n",
      "-----------------\n",
      "Model: dirichlet_1000\n",
      "---Good queries---\n",
      "health hazards fine diameter fibers\n",
      "real motives murder\n",
      "expansion u s theme park industry\n",
      "---Bad queries---\n",
      "generic drugs illegal activities manufacturers\n",
      "medical ethics modern technology\n",
      "accusations cheating contractors u s defense projects\n",
      "---statistics---\n",
      "average doc frequency (good/bad): [ 8600.4  2777.6]\n",
      "average collection frequency (good/bad): [ 15484.5   5939. ]\n",
      "average query length (good/bad): [ 4.3  4.5]\n",
      "-----------------\n",
      "Model: jelinek_mercer_0\n",
      "---Good queries---\n",
      "standardized testing cultural bias\n",
      "conflict horn africa\n",
      "expansion u s theme park industry\n",
      "---Bad queries---\n",
      "black resistance south african government\n",
      "poaching\n",
      "english official language u s\n",
      "---statistics---\n",
      "average doc frequency (good/bad): [ 5305.4  5463.8]\n",
      "average collection frequency (good/bad): [ 10787.2  10513.9]\n",
      "average query length (good/bad): [ 3.8  4.7]\n",
      "-----------------\n",
      "Model: tfidf\n",
      "---Good queries---\n",
      "signs demise independent publishing\n",
      "reform u s welfare system\n",
      "jewish emigration u s ussr relations\n",
      "---Bad queries---\n",
      "anti smoking actions government\n",
      "beachfront erosion\n",
      "poaching\n",
      "---statistics---\n",
      "average doc frequency (good/bad): [ 3201.7  6242.8]\n",
      "average collection frequency (good/bad): [  6456.   11938.9]\n",
      "average query length (good/bad): [ 4.6  3.7]\n",
      "-----------------\n"
     ]
    }
   ],
   "source": [
    "# Analyse the results by identifying specific queries where different methods succeed or fail\n",
    "\n",
    "# For each model, we do a qualitative analysis. \n",
    "# get all queries where a model performs better and worse, relative to the other models.\n",
    "# then print statistics of these better and worse queries\n",
    "\n",
    "def get_all_score(model_name, eval_name, measure):\n",
    "    return get_scores(model_name, eval_name, measure)[-1]\n",
    "    \n",
    "def get_scores(model_name, eval_name, measure):\n",
    "    out = !./$'trec_eval/'/trec_eval -m $measure -q $eval_name $model_name\n",
    "    return {score.split('\\t')[1]: float(score.split('\\t')[-1]) for score in out}\n",
    "\n",
    "def get_results(folder, measurements):\n",
    "    \"\"\"\n",
    "    Helper function to collect all measurements on all run files in folder\n",
    "    \"\"\"\n",
    "    models = [file for file in os.listdir(folder) if file.endswith(\".run\")]\n",
    "    \n",
    "    results = {\n",
    "        measurement: {\n",
    "            model: get_scores(folder + model, 'ap_88_89/qrel_test', measurement) \n",
    "        for model in models} \n",
    "        for measurement in measurements\n",
    "    }\n",
    "    return results\n",
    "\n",
    "def identify_differences(model_scores):\n",
    "    \"\"\"\n",
    "    To identify on which queries a model performs differntly, \n",
    "    for each model get a query where the average score is normal, but the score for a specific model is high or low. \n",
    "    These queries can be examined to gain insight into the strengths and weaknesses of a model.\n",
    "    \"\"\"\n",
    "    # Transform all model scores to dictionary of query: [scores]\n",
    "    queries = [k for k in list(model_scores.values())[0].keys() if k != 'all']\n",
    "    models = list(model_scores.keys())\n",
    "    averages = [model_scores[model]['all'] for model in models]\n",
    "    \n",
    "    query_scores = []\n",
    "    for q in queries:\n",
    "        scores = []\n",
    "        for model in models:\n",
    "            scores.append(model_scores[model].get(q, None))\n",
    "        query_scores.append([q, np.std(scores), scores])\n",
    "        \n",
    "    for i, model in enumerate(models):\n",
    "        print('Model:', model.split('.')[0])\n",
    "        \n",
    "        # get queries where a model performs higher than average\n",
    "        good_scores = [q for q in query_scores if q[-1][i] - averages[i] > .2]\n",
    "        # get queries where a model performs lower than average\n",
    "        bad_scores = [q for q in query_scores if q[-1][i] - averages[i] < .2]\n",
    "        \n",
    "        sorted_good = sorted(good_scores, key=lambda x: sum(x[-1][j] - averages[j] for j in range(len(averages)) if j != i))\n",
    "        sorted_bad = sorted(bad_scores, key=lambda x: sum(x[-1][j] - averages[j] for j in range(len(averages)) if j != i))[::-1]\n",
    "        print('---Good queries---')\n",
    "        for i in range(3):\n",
    "            good = sorted_good[i]\n",
    "            query_words = tokenized_queries[good[0]]\n",
    "            print(' '.join([id2token[t] for t in query_words]))\n",
    "        print('---Bad queries---')\n",
    "        for i in range(3):\n",
    "            bad = sorted_bad[i]\n",
    "            query_words = tokenized_queries[bad[0]]\n",
    "            print(' '.join([id2token[t] for t in query_words]))\n",
    "        \n",
    "        avg_docfreq = [0,0]\n",
    "        avg_colfreq = [0,0]\n",
    "        avg_qlength = [0,0]\n",
    "        for goodq, badq in zip(sorted_good[:10], sorted_bad[:10]):\n",
    "            avg_docfreq[0] += len(inverted_index[int( goodq[0])])\n",
    "            avg_docfreq[1] += len(inverted_index[int( badq[0])])\n",
    "            \n",
    "            avg_colfreq[0] += sum(inverted_index[int(goodq[0])].values())\n",
    "            avg_colfreq[1] += sum(inverted_index[int(badq[0])].values())\n",
    "            \n",
    "            avg_qlength[0] += len(tokenized_queries[goodq[0]])\n",
    "            avg_qlength[1] += len(tokenized_queries[badq[0]])\n",
    "        print('---statistics---')\n",
    "        print('average doc frequency (good/bad):', np.array(avg_docfreq)/10)\n",
    "        print('average collection frequency (good/bad):', np.array(avg_colfreq)/10)\n",
    "        print('average query length (good/bad):', np.array(avg_qlength)/10)\n",
    "        print('-----------------')\n",
    "\n",
    "results = get_results('./task1_models/', ['ndcg_cut.10'])\n",
    "identify_differences(results['ndcg_cut.10'])"
   ]
  },
  {
   "cell_type": "markdown",
   "metadata": {},
   "source": [
    "### Task 2: Latent Semantic Models (LSMs) [15 points] ###\n",
    "\n",
    "In this task you will experiment with applying distributional semantics methods ([LSI](http://lsa3.colorado.edu/papers/JASIS.lsi.90.pdf) **[5 points]** and [LDA](https://www.cs.princeton.edu/~blei/papers/BleiNgJordan2003.pdf) **[5 points]**) for retrieval.\n",
    "\n",
    "You do not need to implement LSI or LDA on your own. Instead, you can use [gensim](http://radimrehurek.com/gensim/index.html). An example on how to integrate Pyndri with Gensim for word2vec can be found [here](https://github.com/cvangysel/pyndri/blob/master/examples/word2vec.py). For the remaining latent vector space models, you will need to implement connector classes (such as `IndriSentences`) by yourself.\n",
    "\n",
    "In order to use a latent semantic model for retrieval, you need to:\n",
    "   * build a representation of the query **q**,\n",
    "   * build a representation of the document **d**,\n",
    "   * calculate the similarity between **q** and **d** (e.g., cosine similarity, KL-divergence).\n",
    "     \n",
    "The exact implementation here depends on the latent semantic model you are using. \n",
    "   \n",
    "Each of these LSMs come with various hyperparameters to tune. Make a choice on the parameters, and explicitly mention the reasons that led you to these decisions. You can use the validation set to optimize hyper parameters you see fit; motivate your decisions. In addition, mention clearly how the query/document representations were constructed for each LSM and explain your choices.\n",
    "\n",
    "In this experiment, you will first obtain an initial top-1000 ranking for each query using TF-IDF in **Task 1**, and then re-rank the documents using the LSMs. Use TREC Eval to obtain the results and report on `NDCG@10`, Mean Average Precision (`MAP@1000`), `Precision@5` and `Recall@1000`.\n",
    "\n",
    "Perform significance testing **[5 points]** (similar as in Task 1) in the class of semantic matching methods."
   ]
  },
  {
   "cell_type": "code",
   "execution_count": 70,
   "metadata": {},
   "outputs": [
    {
     "name": "stderr",
     "output_type": "stream",
     "text": [
      "WARNING:gensim.models.lsimodel:no word id mapping provided; initializing from corpus, assuming identity\n"
     ]
    }
   ],
   "source": [
    "import gensim\n",
    "\n",
    "class MyCorpus(object):\n",
    "\n",
    "    def __len__(self):\n",
    "        return num_documents\n",
    "        \n",
    "    def __iter__(self):\n",
    "        for int_doc_id in range(index.document_base(), index.maximum_document()):\n",
    "            _, doc_token_ids = index.document(int_doc_id)\n",
    "            document_bow = collections.Counter(token_id for token_id in doc_token_ids if token_id > 0)\n",
    "            yield [(token_id, document_bow[token_id]) for token_id in doc_token_ids if token_id > 0]\n",
    "            \n",
    "num_topics = 32\n",
    "corpus = MyCorpus()\n",
    "lsi = gensim.models.lsimodel.LsiModel(corpus, num_topics=num_topics)"
   ]
  },
  {
   "cell_type": "code",
   "execution_count": 170,
   "metadata": {
    "collapsed": true
   },
   "outputs": [],
   "source": [
    "import gensim\n",
    "import numpy.ma as ma\n",
    "from numpy import linalg as LA\n",
    "\n",
    "\n",
    "def cosine_similarity(latent_query, latent_doc_matrix):\n",
    "    norm_latent_query = latent_query / LA.norm(latent_query)\n",
    "    norm_latent_doc_matrix = latent_doc_matrix /  LA.norm(latent_doc_matrix, axis=0)\n",
    "    return norm_latent_query.dot(norm_latent_doc_matrix)\n",
    "\n",
    "\n",
    "def get_top_1000(query_term_ids):\n",
    "    # document_ids = itertools.chain(*[list(inverted_index[i].keys()) for i in query_term_ids])\n",
    "    scores = []\n",
    "    document_ids = list(set(itertools.chain(*[list(inverted_index[i].keys()) for i in query_term_ids])))\n",
    "    for int_doc_id in document_ids:\n",
    "        score = 0\n",
    "        for query_term_id in query_term_ids:\n",
    "            score += tfidf(int_doc_id, query_term_id)\n",
    "        scores.append((int_doc_id, score))\n",
    "    scores.sort(key=lambda x: x[1], reverse=True)\n",
    "    return [x[0] for x in scores][:1000]\n",
    "\n",
    "\n",
    "def calc_similarities(model_name, docs, similarity_func):\n",
    "    run_out_path = '{}.run'.format(model_name)\n",
    "\n",
    "    if os.path.exists(run_out_path):\n",
    "        return\n",
    "\n",
    "    data = defaultdict(list)\n",
    "    for query_id, query_term_ids in tokenized_queries.items():\n",
    "        document_bow = collections.Counter(token_id for token_id in query_term_ids)\n",
    "        vec = [(token_id, document_bow[token_id]) for token_id in query_term_ids]\n",
    "        indices = get_top_1000(query_term_ids)\n",
    "        latent_query = gensim.matutils.corpus2dense([lsi[vec]], num_terms=num_topics)\n",
    "        similarities = similarity_func(latent_query.T, docs)\n",
    "        for int_doc_id in indices:\n",
    "            ext_doc_id, doc_token_ids = index.document(int_doc_id)\n",
    "            score = similarities[0][int_doc_id]\n",
    "            data[query_id].append((score, ext_doc_id))\n",
    "            \n",
    "    with open(run_out_path, 'w') as f_out:\n",
    "        write_run(\n",
    "            model_name=model_name,\n",
    "            data=data,\n",
    "            out_f=f_out,\n",
    "            max_objects_per_query=1000)\n",
    "\n",
    "# projected_docs = gensim.matutils.corpus2dense(lsi[corpus], num_terms=num_topics)\n",
    "\n",
    "# calc_similarities('cosine_lsi', projected_docs, cosine_similarity)\n",
    "# LA.norm(np.array([0.5, 0.5]))\n",
    "# cosine_similarity(np.array([0.1, 0.1]), np.array([[0.1, 0.9], [0, 0.1]]))"
   ]
  },
  {
   "cell_type": "code",
   "execution_count": 167,
   "metadata": {},
   "outputs": [
    {
     "name": "stderr",
     "output_type": "stream",
     "text": [
      "WARNING:gensim.models.ldamodel:no word id mapping provided; initializing from corpus, assuming identity\n"
     ]
    }
   ],
   "source": [
    "lda = gensim.models.ldamulticore.LdaMulticore(corpus, num_topics=32, workers=3)"
   ]
  },
  {
   "cell_type": "code",
   "execution_count": 168,
   "metadata": {
    "collapsed": true
   },
   "outputs": [],
   "source": [
    "projected_docs = gensim.matutils.corpus2dense(lda[corpus], num_terms=32)"
   ]
  },
  {
   "cell_type": "code",
   "execution_count": 172,
   "metadata": {
    "collapsed": true
   },
   "outputs": [],
   "source": [
    "calc_similarities('cosine_lda', projected_docs, cosine_similarity)"
   ]
  },
  {
   "cell_type": "code",
   "execution_count": 9,
   "metadata": {},
   "outputs": [
    {
     "data": {
      "image/png": "[encoded data removed]",
      "text/plain": [
       "<matplotlib.figure.Figure at 0x10f6db780>"
      ]
     },
     "metadata": {},
     "output_type": "display_data"
    },
    {
     "name": "stdout",
     "output_type": "stream",
     "text": [
      "                         model_name    map_cut.1000     ndcg_cut.10     recall.1000             P.5\n",
      "                          tfidf.run        0.22 nan        0.42 nan        0.65 nan        0.43 nan\n",
      "                     cosine_lda.run       0.05 0.00       0.07 0.00       0.65 0.25       0.07 0.00\n",
      "                     cosine_lsi.run       0.05 0.00       0.08 0.00       0.65 0.25       0.08 0.00\n"
     ]
    }
   ],
   "source": [
    "plot('./latent_model/',\n",
    "     ['map_cut.1000', 'ndcg_cut.10', 'recall.1000', 'P.5'], './task1_models/tfidf.run',\n",
    "    'ap_88_89/qrel_test')"
   ]
  },
  {
   "cell_type": "markdown",
   "metadata": {},
   "source": [
    "### Task 3:  Word embeddings for ranking [20 points] (open-ended) ###\n",
    "\n",
    "First create word embeddings on the corpus we provided using [word2vec](http://arxiv.org/abs/1411.2738) -- [gensim implementation](https://radimrehurek.com/gensim/models/word2vec.html). You should extract the indexed documents using pyndri and provide them to gensim for training a model (see example [here](https://github.com/nickvosk/pyndri/blob/master/examples/word2vec.py)).\n",
    "   \n",
    "This is an open-ended task. It is left up you to decide how you will combine word embeddings to derive query and document representations. Note that since we provide the implementation for training word2vec, you will be graded based on your creativity on combining word embeddings for building query and document representations.\n",
    "\n",
    "Note: If you want to experiment with pre-trained word embeddings on a different corpus, you can use the word embeddings we provide alongside the assignment (./data/reduced_vectors_google.txt.tar.gz). These are the [google word2vec word embeddings](https://code.google.com/archive/p/word2vec/), reduced to only the words that appear in the document collection we use in this assignment."
   ]
  },
  {
   "cell_type": "code",
   "execution_count": null,
   "metadata": {},
   "outputs": [],
   "source": [
    "# train word2vec model, 100 dimensions\n",
    "import gensim\n",
    "\n",
    "def train_w2v():\n",
    "    w2v_model = gensim.models.Word2Vec(\n",
    "        size=100,  # Embedding size\n",
    "        window=5,  # One-sided window size\n",
    "        sg=True,  # Skip-gram.\n",
    "        min_count=5,  # Minimum word frequency.\n",
    "        sample=1e-3,  # Sub-sample threshold.\n",
    "        negative=10,  # Number of negative examples.\n",
    "        iter=5,  # Number of iterations.\n",
    "        workers=8,  # Number of workers.\n",
    "    )\n",
    "\n",
    "    w2v_sentences = pyndri.compat.IndriSentences(index, dictionary)\n",
    "\n",
    "    # Build vocab.\n",
    "    w2v_model.build_vocab(w2v_sentences, trim_rule=None)\n",
    "\n",
    "    w2v_model.train(w2v_sentences, total_examples=w2v_model.corpus_count, epochs=w2v_model.iter)\n",
    "    return w2v_model\n",
    "\n",
    "if os.path.exists('./w2v.model'):\n",
    "    w2v_model = gensim.models.Word2Vec.load('./w2v.model')\n",
    "else:\n",
    "    w2v_model = train_w2v()\n",
    "    w2v_model.save('./w2v.model')"
   ]
  },
  {
   "cell_type": "code",
   "execution_count": null,
   "metadata": {
    "collapsed": true
   },
   "outputs": [],
   "source": [
    "def embed_query(query_id, w2v_model, strategy='sum'):\n",
    "    query_tokens = [id2token[i] for i in tokenized_queries[query_id]]\n",
    "    vecs = [w2v_model.wv[token] for token in query_tokens if token in w2v_model.wv]\n",
    "    if len(vecs) == 0:\n",
    "        print('skipping query {}, no wordvectors'.format(query_id))\n",
    "        return\n",
    "    vecs = np.vstack(vecs)\n",
    "        \n",
    "    if strategy == 'sum':\n",
    "        return np.sum(vecs, axis=0)\n",
    "    elif strategy == 'mean':\n",
    "        return np.mean(vecs, axis=0)\n",
    "    \n",
    "def embed_document(int_doc_id, w2v_model, strategy='tfidf'):\n",
    "    doc_tokens = [id2token[i] for i in index.document(int_doc_id)[1] if i]\n",
    "    doc_tokens = [token for token in doc_tokens if token in w2v_model.wv]\n",
    "    \n",
    "    if len(doc_tokens) == 0:\n",
    "        print('skipping document {}, no wordvectors'.format(int_doc_id))\n",
    "        return\n",
    "    \n",
    "    vecs = np.vstack([w2v_model.wv[token] for token in doc_tokens])\n",
    "    \n",
    "    if strategy == 'sum':\n",
    "        return np.sum(vecs, axis=0)\n",
    "\n",
    "    elif strategy == 'mean':\n",
    "        return np.mean(vecs, axis=0)\n",
    "    \n",
    "    elif strategy == 'tfidf':\n",
    "        weights = []\n",
    "        doc_ids = [token2id[token] for token in doc_tokens]\n",
    "        for word_id in doc_ids:\n",
    "            term_frequency = inverted_index[word_id].get(int_doc_id, 0)\n",
    "            doc_frequency = len(inverted_index[word_id])\n",
    "            score = np.log(1 + term_frequency) * np.log(num_documents / doc_frequency) if doc_frequency != 0 else 0\n",
    "            weights.append(score) \n",
    "        return np.sum([v*w for v, w in zip(vecs, weights)], axis=0)\n",
    "    \n",
    "    else:\n",
    "        raise ValueError('Unknown strategy: {}'.format(strategy))\n",
    "        \n",
    "def embed_queries(w2v_model, strategy='sum'):\n",
    "    embedded_queries = {}\n",
    "    for query_id in tokenized_queries:\n",
    "        embedded = embed_query(query_id, w2v_model, strategy=strategy)\n",
    "        if embedded is None:\n",
    "            continue\n",
    "        embedded_queries[query_id] = embedded\n",
    "    return embedded_queries\n",
    "        \n",
    "def embed_documents(w2v_model, strategy='sum'):\n",
    "    embedded_docs = {}\n",
    "    for int_doc_id in range(index.document_base(), index.maximum_document()):\n",
    "        embedded = embed_document(int_doc_id, w2v_model, strategy=strategy)\n",
    "        if embedded is None:\n",
    "            continue\n",
    "        embedded_docs[int_doc_id] = embedded\n",
    "    return embedded_docs\n",
    "\n",
    "print('embedding queries...')\n",
    "embedded_queries = embed_queries(w2v_model)\n",
    "\n",
    "print('embedding documents...')\n",
    "embedded_docs = embed_documents(w2v_model)"
   ]
  },
  {
   "cell_type": "code",
   "execution_count": null,
   "metadata": {
    "collapsed": true
   },
   "outputs": [],
   "source": [
    "import sklearn.metrics\n",
    "\n",
    "\n",
    "def score_embeddings(embedded_queries, embedded_documents, score_fn, model_name='w2v_model_tfidf2'):\n",
    "    run_out_path = '{}.run'.format(model_name)\n",
    "    \n",
    "    data = defaultdict(list)\n",
    "    \n",
    "    int_doc_ids, docvecs = zip(*embedded_docs.items())\n",
    "    for i, (query_id, embedded_query) in enumerate(embedded_queries.items()):\n",
    "        scores = score_fn(embedded_query[np.newaxis], docvecs)[0]\n",
    "        \n",
    "        for int_doc_id, score in zip(int_doc_ids, scores):\n",
    "            ext_doc_id, _ = index.document(int_doc_id)\n",
    "            data[query_id].append((score, ext_doc_id))\n",
    "            \n",
    "    with open(run_out_path, 'w') as f_out:\n",
    "        write_run(\n",
    "            model_name=model_name,\n",
    "            data=data,\n",
    "            out_f=f_out,\n",
    "            max_objects_per_query=1000)\n",
    "\n",
    "\n",
    "embedded_docs = {did: vec for did, vec in embedded_docs.items() if np.isfinite(vec).any()}\n",
    "score_embeddings(embedded_queries, embedded_docs, sklearn.metrics.pairwise.cosine_similarity)"
   ]
  },
  {
   "cell_type": "code",
   "execution_count": 11,
   "metadata": {},
   "outputs": [
    {
     "data": {
      "image/png": "[encoded data removed]",
      "text/plain": [
       "<matplotlib.figure.Figure at 0x10f993f98>"
      ]
     },
     "metadata": {},
     "output_type": "display_data"
    },
    {
     "name": "stdout",
     "output_type": "stream",
     "text": [
      "                         model_name    map_cut.1000     ndcg_cut.10     recall.1000             P.5\n",
      "                w2v_model_tfidf.run       0.14 0.00       0.30 0.00       0.54 0.00       0.30 0.00\n",
      "                          tfidf.run        0.22 nan        0.42 nan        0.65 nan        0.43 nan\n",
      "                  w2v_model_sum.run       0.17 0.01       0.34 0.01       0.62 0.12       0.36 0.02\n"
     ]
    }
   ],
   "source": [
    "plot('./task3_models/', ['map_cut.1000', 'ndcg_cut.10', 'recall.1000', 'P.5'],\n",
    "     './task1_models/tfidf.run', 'ap_88_89/qrel_test')"
   ]
  },
  {
   "cell_type": "markdown",
   "metadata": {},
   "source": [
    "## Task 4: Learning to rank (LTR) [15 points] (open-ended) ###\n",
    "\n",
    "In this task you will get an introduction into learning to rank for information retrieval.\n",
    "\n",
    "You can explore different ways for devising features for the model. Obviously, you can use the retrieval methods you implemented in Task 1, Task 2 and Task 3 as features. Think about other features you can use (e.g. query/document length). Creativity on devising new features and providing motivation for them will be taken into account when grading.\n",
    "\n",
    "For every query, first create a document candidate set using the top-1000 documents using TF-IDF, and subsequently compute features given a query and a document. Note that the feature values of different retrieval methods are likely to be distributed differently.\n",
    "\n",
    "You are adviced to start some pointwise learning to rank algorithm e.g. logistic regression, implemented in [scikit-learn](http://scikit-learn.org/stable/modules/generated/sklearn.linear_model.LogisticRegression.html).\n",
    "Train your LTR model using 10-fold cross validation on the test set. More advanced learning to rank algorithms will be appreciated when grading."
   ]
  },
  {
   "cell_type": "code",
   "execution_count": null,
   "metadata": {
    "collapsed": true
   },
   "outputs": [],
   "source": [
    "from sklearn.linear_model import LogisticRegression\n",
    "from sklearn.preprocessing import normalize\n",
    "from sklearn.model_selection import KFold\n",
    "import numpy as np\n",
    "\n",
    "\n",
    "def get_XY(file):\n",
    "    with open(file) as f:\n",
    "        data = [line.split() for line in f]\n",
    "\n",
    "        doc_X = []\n",
    "        X = []\n",
    "        Y = []\n",
    "\n",
    "        for data_point in data:\n",
    "            int_doc_id = ext_to_int.get(data_point[2], None)\n",
    "            if not int_doc_id:\n",
    "                continue\n",
    "\n",
    "            ext_doc_id, doc_token_ids = index.document(int_doc_id)\n",
    "            i += 1\n",
    "            tfidf_score = sum(tfidf(int_doc_id, query_term_id) for query_term_id in tokenized_queries[data_point[0]])\n",
    "            doc_length = len(doc_token_ids)\n",
    "            query_length = len(tokenized_queries[data_point[0]])\n",
    "            dirichlet_score = sum(dirichlet(int_doc_id, query_term_id, {'mu': 1000})  \n",
    "                                  for query_term_id in tokenized_queries[data_point[0]])\n",
    "            \n",
    "            query_bow = collections.Counter(token_id for token_id in tokenized_queries[data_point[0]])\n",
    "            query_BOW = [(token_id, query_bow[token_id]) for token_id in tokenized_queries[data_point[0]]]\n",
    "            \n",
    "            document_bow = collections.Counter(token_id for token_id in query_term_ids)\n",
    "            vec = [(token_id, document_bow[token_id]) for token_id in query_term_ids]\n",
    "            latent_query = gensim.matutils.corpus2dense([lsi[vec]], num_terms=num_topics)\n",
    "            \n",
    "            feature_vec = [tfidf_score, dirichlet_score, doc_length, query_length]\n",
    "            feature_vec.extend(list([x for x in latent_query.T[0]]))\n",
    "            X.append(np.array(feature_vec))\n",
    "            Y.append(data_point[3])\n",
    "            doc_X.append(doc_token_ids)\n",
    "\n",
    "    return np.vstack(X), np.array(Y)\n",
    "\n",
    "\n",
    "X, y = get_XY('ap_88_89/qrel_test')"
   ]
  },
  {
   "cell_type": "code",
   "execution_count": null,
   "metadata": {
    "collapsed": true
   },
   "outputs": [],
   "source": [
    "model = LogisticRegression()\n",
    "kf = KFold(n_splits=10, random_state=None, shuffle=False)\n",
    "for train_index, test_index in kf.split(X):\n",
    "    print(\"TRAIN:\", train_index, \"TEST:\", test_index)\n",
    "    X_train, X_test = X[train_index], X[test_index]\n",
    "    y_train, y_test = y[train_index], y[test_index]\n",
    "    model.fit(X_train, y_train)\n",
    "    print('Score:', model.score(X_test, y_test))"
   ]
  },
  {
   "cell_type": "code",
   "execution_count": null,
   "metadata": {
    "collapsed": true
   },
   "outputs": [],
   "source": [
    "test_X, test_Y = get_XY('ap_88_89/qrel_validation')\n",
    "print('Score on test set: ', model.score(test_X, test_Y))"
   ]
  },
  {
   "cell_type": "code",
   "execution_count": null,
   "metadata": {
    "collapsed": true
   },
   "outputs": [],
   "source": [
    "def predict_ltr_model(model_name):\n",
    "    run_out_path = '{}.run'.format(model_name)\n",
    "\n",
    "    if os.path.exists(run_out_path):\n",
    "        return\n",
    "\n",
    "    data = defaultdict(list)\n",
    "    for query_id, query_term_ids in tokenized_queries.items():\n",
    "        document_ids = list(set(itertools.chain(*[list(inverted_index[i].keys()) for i in query_term_ids])))\n",
    "        scores = []\n",
    "        for int_doc_id in document_ids:\n",
    "            tfidf_score = sum(tfidf(int_doc_id, query_term_id) for query_term_id in  query_term_ids)\n",
    "            doc_length = len(doc_token_ids)\n",
    "            query_length = len(tokenized_queries[query_id])\n",
    "            dirichlet_score = sum(dirichlet(int_doc_id, query_term_id, {'mu': 1000})  \n",
    "                                  for query_term_id in  query_term_ids)\n",
    "            \n",
    "            query_bow = collections.Counter(token_id for token_id in query_term_ids)\n",
    "            query_BOW = [(token_id, query_bow[token_id]) for token_id in query_term_ids]\n",
    "            \n",
    "            document_bow = collections.Counter(token_id for token_id in query_term_ids)\n",
    "            vec = [(token_id, document_bow[token_id]) for token_id in query_term_ids]\n",
    "            latent_query = gensim.matutils.corpus2dense([lsi[vec]], num_terms=num_topics)\n",
    "            \n",
    "            feature_vec = [tfidf_score, dirichlet_score, doc_length, query_length]\n",
    "            feature_vec.extend(list([x for x in latent_query.T[0]]))\n",
    "            \n",
    "            score = model.predict_proba(np.array(feature_vec).reshape(1, -1))[0][1]\n",
    "            ext_doc_id, _ = index.document(int_doc_id)\n",
    "            data[query_id].append((score, ext_doc_id))\n",
    "\n",
    "    with open(run_out_path, 'w') as f_out:\n",
    "        write_run(\n",
    "            model_name=model_name,\n",
    "            data=data,\n",
    "            out_f=f_out,\n",
    "            max_objects_per_query=1000)\n",
    "            \n",
    "        \n",
    "predict_ltr_model('./task4_models/lsi_and_other_features')"
   ]
  },
  {
   "cell_type": "code",
   "execution_count": 12,
   "metadata": {},
   "outputs": [
    {
     "data": {
      "image/png": "[encoded data removed]",
      "text/plain": [
       "<matplotlib.figure.Figure at 0x10bf790f0>"
      ]
     },
     "metadata": {},
     "output_type": "display_data"
    },
    {
     "name": "stdout",
     "output_type": "stream",
     "text": [
      "                         model_name    map_cut.1000     ndcg_cut.10     recall.1000             P.5\n",
      "         lsi_and_other_features.run       0.22 0.59       0.41 0.87       0.65 0.44       0.41 0.32\n"
     ]
    }
   ],
   "source": [
    "plot('./task4_models/', ['map_cut.1000', 'ndcg_cut.10', 'recall.1000', 'P.5'], \n",
    "     './task1_models/tfidf.run', 'ap_88_89/qrel_test')"
   ]
  },
  {
   "cell_type": "markdown",
   "metadata": {
    "collapsed": true
   },
   "source": [
    "### Task 4: Write a report [15 points; instant FAIL if not provided] ###\n",
    "\n",
    "The report should be a PDF file created using the [sigconf ACM template](https://www.acm.org/publications/proceedings-template) and will determine a significant part of your grade.\n",
    "\n",
    "   * It should explain what you have implemented, motivate your experiments and detail what you expect to learn from them. **[10 points]**\n",
    "   * Lastly, provide a convincing analysis of your results and conclude the report accordingly. **[10 points]**\n",
    "      * Do all methods perform similarly on all queries? Why?\n",
    "      * Is there a single retrieval model that outperforms all other retrieval models (i.e., silver bullet)?\n",
    "      * ...\n",
    "\n",
    "**Hand in the report and your self-contained implementation source files.** Only send us the files that matter, organized in a well-documented zip/tgz file with clear instructions on how to reproduce your results. That is, we want to be able to regenerate all your results with minimal effort. You can assume that the index and ground-truth information is present in the same file structure as the one we have provided.\n"
   ]
  },
  {
   "cell_type": "code",
   "execution_count": null,
   "metadata": {
    "collapsed": true
   },
   "outputs": [],
   "source": []
  },
  {
   "cell_type": "code",
   "execution_count": null,
   "metadata": {
    "collapsed": true
   },
   "outputs": [],
   "source": []
  },
  {
   "cell_type": "code",
   "execution_count": null,
   "metadata": {
    "collapsed": true
   },
   "outputs": [],
   "source": []
  }
 ],
 "metadata": {
  "anaconda-cloud": {},
  "kernelspec": {
   "display_name": "Python 3",
   "language": "python",
   "name": "python3"
  },
  "language_info": {
   "codemirror_mode": {
    "name": "ipython",
    "version": 3
   },
   "file_extension": ".py",
   "mimetype": "text/x-python",
   "name": "python",
   "nbconvert_exporter": "python",
   "pygments_lexer": "ipython3",
   "version": "3.6.3"
  }
 },
 "nbformat": 4,
 "nbformat_minor": 1
}
